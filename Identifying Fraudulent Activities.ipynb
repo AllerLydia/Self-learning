{
 "cells": [
  {
   "cell_type": "markdown",
   "metadata": {},
   "source": [
    "#### These are the tasks you are asked to do:"
   ]
  },
  {
   "cell_type": "markdown",
   "metadata": {},
   "source": [
    "For each user, determine her country based on the numeric IP address.\n",
    "\n",
    "Build a model to predict whether an activity is fraudulent or not. Explain how different assumptions about the cost of false positives vs false negatives would impact the model.\n",
    "\n",
    "Your boss is a bit worried about using a model she doesn't understand for something as important as fraud detection. How would you explain her how the model is making the predictions? Not from a mathematical perspective (she couldn't care less about that), but from a user perspective. What kinds of users are more likely to be classified as at risk? What are their characteristics?\n",
    "\n",
    "Let's say you now have this model which can be used live to predict in real time if an activity is fraudulent or not. From a product perspective, how would you use it? That is,what kind of different user experiences would you build based on the model output?\n",
    "\n",
    "https://www.quora.com/What-are-the-advantages-of-different-classification-algorithms"
   ]
  },
  {
   "cell_type": "code",
   "execution_count": 1,
   "metadata": {
    "collapsed": false
   },
   "outputs": [
    {
     "name": "stderr",
     "output_type": "stream",
     "text": [
      "Loading required package: lattice\n",
      "Loading required package: survival\n",
      "Loading required package: Formula\n",
      "Loading required package: ggplot2\n",
      "Loading required package: gplots\n",
      "\n",
      "Attaching package: ‘gplots’\n",
      "\n",
      "The following object is masked from ‘package:stats’:\n",
      "\n",
      "    lowess\n",
      "\n",
      "randomForest 4.6-12\n",
      "Type rfNews() to see new features/changes/bug fixes.\n"
     ]
    }
   ],
   "source": [
    "library(Hmisc, warn.conflict=FALSE)\n",
    "library(dplyr, warn.conflict=FALSE)\n",
    "library(rpart, warn.conflict=FALSE)\n",
    "library(ggplot2, warn.conflict=FALSE)\n",
    "library(ROCR, warn.conflict=FALSE)\n",
    "library(randomForest, warn.conflict=FALSE)"
   ]
  },
  {
   "cell_type": "code",
   "execution_count": 2,
   "metadata": {
    "collapsed": true
   },
   "outputs": [],
   "source": [
    "data <- read.csv(file=\"Fraud/Fraud_Data.csv\")"
   ]
  },
  {
   "cell_type": "code",
   "execution_count": 3,
   "metadata": {
    "collapsed": true
   },
   "outputs": [],
   "source": [
    "ip_addresses <- read.csv(file=\"Fraud/IpAddress_to_Country.csv\")"
   ]
  },
  {
   "cell_type": "code",
   "execution_count": 4,
   "metadata": {
    "collapsed": false
   },
   "outputs": [
    {
     "data": {
      "text/html": [
       "TRUE"
      ],
      "text/latex": [
       "TRUE"
      ],
      "text/markdown": [
       "TRUE"
      ],
      "text/plain": [
       "[1] TRUE"
      ]
     },
     "metadata": {},
     "output_type": "display_data"
    }
   ],
   "source": [
    "nrow(data) == length(unique(data$user_id))"
   ]
  },
  {
   "cell_type": "code",
   "execution_count": 5,
   "metadata": {
    "collapsed": false
   },
   "outputs": [
    {
     "data": {
      "text/html": [
       "<table>\n",
       "<thead><tr><th scope=col>user_id</th><th scope=col>signup_time</th><th scope=col>purchase_time</th><th scope=col>purchase_value</th><th scope=col>device_id</th><th scope=col>source</th><th scope=col>browser</th><th scope=col>sex</th><th scope=col>age</th><th scope=col>ip_address</th><th scope=col>class</th></tr></thead>\n",
       "<tbody>\n",
       "\t<tr><td> 22058             </td><td>2015-02-24 22:55:49</td><td>2015-04-18 02:47:11</td><td>34                 </td><td>QVPSPJUOCKZAR      </td><td>SEO                </td><td>Chrome             </td><td>M                  </td><td>39                 </td><td> 732758369         </td><td>0                  </td></tr>\n",
       "\t<tr><td>333320             </td><td>2015-06-07 20:39:50</td><td>2015-06-08 01:38:54</td><td>16                 </td><td>EOGFQPIZPYXFZ      </td><td>Ads                </td><td>Chrome             </td><td>F                  </td><td>53                 </td><td> 350311388         </td><td>0                  </td></tr>\n",
       "\t<tr><td>  1359             </td><td>2015-01-01 18:52:44</td><td>2015-01-01 18:52:45</td><td>15                 </td><td>YSSKYOSJHPPLJ      </td><td>SEO                </td><td>Opera              </td><td>M                  </td><td>53                 </td><td>2621473820         </td><td>1                  </td></tr>\n",
       "\t<tr><td>150084             </td><td>2015-04-28 21:13:25</td><td>2015-05-04 13:54:50</td><td>44                 </td><td>ATGTXKYKUDUQN      </td><td>SEO                </td><td>Safari             </td><td>M                  </td><td>41                 </td><td>3840542444         </td><td>0                  </td></tr>\n",
       "\t<tr><td>221365             </td><td>2015-07-21 07:09:52</td><td>2015-09-09 18:40:53</td><td>39                 </td><td>NAUITBZFJKHWW      </td><td>Ads                </td><td>Safari             </td><td>M                  </td><td>45                 </td><td> 415583117         </td><td>0                  </td></tr>\n",
       "\t<tr><td>159135             </td><td>2015-05-21 06:03:03</td><td>2015-07-09 08:05:14</td><td>42                 </td><td>ALEYXFXINSXLZ      </td><td>Ads                </td><td>Chrome             </td><td>M                  </td><td>18                 </td><td>2809315200         </td><td>0                  </td></tr>\n",
       "</tbody>\n",
       "</table>\n"
      ],
      "text/latex": [
       "\\begin{tabular}{r|lllllllllll}\n",
       " user\\_id & signup\\_time & purchase\\_time & purchase\\_value & device\\_id & source & browser & sex & age & ip\\_address & class\\\\\n",
       "\\hline\n",
       "\t  22058              & 2015-02-24 22:55:49 & 2015-04-18 02:47:11 & 34                  & QVPSPJUOCKZAR       & SEO                 & Chrome              & M                   & 39                  &  732758369          & 0                  \\\\\n",
       "\t 333320              & 2015-06-07 20:39:50 & 2015-06-08 01:38:54 & 16                  & EOGFQPIZPYXFZ       & Ads                 & Chrome              & F                   & 53                  &  350311388          & 0                  \\\\\n",
       "\t   1359              & 2015-01-01 18:52:44 & 2015-01-01 18:52:45 & 15                  & YSSKYOSJHPPLJ       & SEO                 & Opera               & M                   & 53                  & 2621473820          & 1                  \\\\\n",
       "\t 150084              & 2015-04-28 21:13:25 & 2015-05-04 13:54:50 & 44                  & ATGTXKYKUDUQN       & SEO                 & Safari              & M                   & 41                  & 3840542444          & 0                  \\\\\n",
       "\t 221365              & 2015-07-21 07:09:52 & 2015-09-09 18:40:53 & 39                  & NAUITBZFJKHWW       & Ads                 & Safari              & M                   & 45                  &  415583117          & 0                  \\\\\n",
       "\t 159135              & 2015-05-21 06:03:03 & 2015-07-09 08:05:14 & 42                  & ALEYXFXINSXLZ       & Ads                 & Chrome              & M                   & 18                  & 2809315200          & 0                  \\\\\n",
       "\\end{tabular}\n"
      ],
      "text/markdown": [
       "\n",
       "user_id | signup_time | purchase_time | purchase_value | device_id | source | browser | sex | age | ip_address | class | \n",
       "|---|---|---|---|---|---|\n",
       "|  22058              | 2015-02-24 22:55:49 | 2015-04-18 02:47:11 | 34                  | QVPSPJUOCKZAR       | SEO                 | Chrome              | M                   | 39                  |  732758369          | 0                   | \n",
       "| 333320              | 2015-06-07 20:39:50 | 2015-06-08 01:38:54 | 16                  | EOGFQPIZPYXFZ       | Ads                 | Chrome              | F                   | 53                  |  350311388          | 0                   | \n",
       "|   1359              | 2015-01-01 18:52:44 | 2015-01-01 18:52:45 | 15                  | YSSKYOSJHPPLJ       | SEO                 | Opera               | M                   | 53                  | 2621473820          | 1                   | \n",
       "| 150084              | 2015-04-28 21:13:25 | 2015-05-04 13:54:50 | 44                  | ATGTXKYKUDUQN       | SEO                 | Safari              | M                   | 41                  | 3840542444          | 0                   | \n",
       "| 221365              | 2015-07-21 07:09:52 | 2015-09-09 18:40:53 | 39                  | NAUITBZFJKHWW       | Ads                 | Safari              | M                   | 45                  |  415583117          | 0                   | \n",
       "| 159135              | 2015-05-21 06:03:03 | 2015-07-09 08:05:14 | 42                  | ALEYXFXINSXLZ       | Ads                 | Chrome              | M                   | 18                  | 2809315200          | 0                   | \n",
       "\n",
       "\n"
      ],
      "text/plain": [
       "  user_id signup_time         purchase_time       purchase_value device_id    \n",
       "1  22058  2015-02-24 22:55:49 2015-04-18 02:47:11 34             QVPSPJUOCKZAR\n",
       "2 333320  2015-06-07 20:39:50 2015-06-08 01:38:54 16             EOGFQPIZPYXFZ\n",
       "3   1359  2015-01-01 18:52:44 2015-01-01 18:52:45 15             YSSKYOSJHPPLJ\n",
       "4 150084  2015-04-28 21:13:25 2015-05-04 13:54:50 44             ATGTXKYKUDUQN\n",
       "5 221365  2015-07-21 07:09:52 2015-09-09 18:40:53 39             NAUITBZFJKHWW\n",
       "6 159135  2015-05-21 06:03:03 2015-07-09 08:05:14 42             ALEYXFXINSXLZ\n",
       "  source browser sex age ip_address class\n",
       "1 SEO    Chrome  M   39   732758369 0    \n",
       "2 Ads    Chrome  F   53   350311388 0    \n",
       "3 SEO    Opera   M   53  2621473820 1    \n",
       "4 SEO    Safari  M   41  3840542444 0    \n",
       "5 Ads    Safari  M   45   415583117 0    \n",
       "6 Ads    Chrome  M   18  2809315200 0    "
      ]
     },
     "metadata": {},
     "output_type": "display_data"
    }
   ],
   "source": [
    "head(data)"
   ]
  },
  {
   "cell_type": "code",
   "execution_count": 6,
   "metadata": {
    "collapsed": false
   },
   "outputs": [
    {
     "data": {
      "text/html": [
       "<table>\n",
       "<thead><tr><th scope=col>lower_bound_ip_address</th><th scope=col>upper_bound_ip_address</th><th scope=col>country</th></tr></thead>\n",
       "<tbody>\n",
       "\t<tr><td>16777216 </td><td>16777471 </td><td>Australia</td></tr>\n",
       "\t<tr><td>16777472 </td><td>16777727 </td><td>China    </td></tr>\n",
       "\t<tr><td>16777728 </td><td>16778239 </td><td>China    </td></tr>\n",
       "\t<tr><td>16778240 </td><td>16779263 </td><td>Australia</td></tr>\n",
       "\t<tr><td>16779264 </td><td>16781311 </td><td>China    </td></tr>\n",
       "\t<tr><td>16781312 </td><td>16785407 </td><td>Japan    </td></tr>\n",
       "</tbody>\n",
       "</table>\n"
      ],
      "text/latex": [
       "\\begin{tabular}{r|lll}\n",
       " lower\\_bound\\_ip\\_address & upper\\_bound\\_ip\\_address & country\\\\\n",
       "\\hline\n",
       "\t 16777216  & 16777471  & Australia\\\\\n",
       "\t 16777472  & 16777727  & China    \\\\\n",
       "\t 16777728  & 16778239  & China    \\\\\n",
       "\t 16778240  & 16779263  & Australia\\\\\n",
       "\t 16779264  & 16781311  & China    \\\\\n",
       "\t 16781312  & 16785407  & Japan    \\\\\n",
       "\\end{tabular}\n"
      ],
      "text/markdown": [
       "\n",
       "lower_bound_ip_address | upper_bound_ip_address | country | \n",
       "|---|---|---|---|---|---|\n",
       "| 16777216  | 16777471  | Australia | \n",
       "| 16777472  | 16777727  | China     | \n",
       "| 16777728  | 16778239  | China     | \n",
       "| 16778240  | 16779263  | Australia | \n",
       "| 16779264  | 16781311  | China     | \n",
       "| 16781312  | 16785407  | Japan     | \n",
       "\n",
       "\n"
      ],
      "text/plain": [
       "  lower_bound_ip_address upper_bound_ip_address country  \n",
       "1 16777216               16777471               Australia\n",
       "2 16777472               16777727               China    \n",
       "3 16777728               16778239               China    \n",
       "4 16778240               16779263               Australia\n",
       "5 16779264               16781311               China    \n",
       "6 16781312               16785407               Japan    "
      ]
     },
     "metadata": {},
     "output_type": "display_data"
    }
   ],
   "source": [
    "head(ip_addresses)"
   ]
  },
  {
   "cell_type": "code",
   "execution_count": 7,
   "metadata": {
    "collapsed": false
   },
   "outputs": [],
   "source": [
    " data_country = rep(NA, nrow(data))\n",
    " for (i in 1: nrow(data)){\n",
    "   tmp = as.character(ip_addresses[data$ip_address[i] >= ip_addresses$lower_bound_ip_address & data$ip_address[i] <= ip_addresses$upper_bound_ip_address,\n",
    "                       \"country\"])\n",
    "   if (length(tmp) == 1)  {\n",
    "       data_country[i] = tmp\n",
    "   }\n",
    " }"
   ]
  },
  {
   "cell_type": "code",
   "execution_count": 8,
   "metadata": {
    "collapsed": false
   },
   "outputs": [
    {
     "data": {
      "text/html": [
       "<ol class=list-inline>\n",
       "\t<li>'Japan'</li>\n",
       "\t<li>'United States'</li>\n",
       "\t<li>'United States'</li>\n",
       "\t<li>'NA'</li>\n",
       "\t<li>'United States'</li>\n",
       "\t<li>'Canada'</li>\n",
       "</ol>\n"
      ],
      "text/latex": [
       "\\begin{enumerate*}\n",
       "\\item 'Japan'\n",
       "\\item 'United States'\n",
       "\\item 'United States'\n",
       "\\item 'NA'\n",
       "\\item 'United States'\n",
       "\\item 'Canada'\n",
       "\\end{enumerate*}\n"
      ],
      "text/markdown": [
       "1. 'Japan'\n",
       "2. 'United States'\n",
       "3. 'United States'\n",
       "4. 'NA'\n",
       "5. 'United States'\n",
       "6. 'Canada'\n",
       "\n",
       "\n"
      ],
      "text/plain": [
       "[1] \"Japan\"         \"United States\" \"United States\" NA             \n",
       "[5] \"United States\" \"Canada\"       "
      ]
     },
     "metadata": {},
     "output_type": "display_data"
    }
   ],
   "source": [
    "head(data_country)"
   ]
  },
  {
   "cell_type": "code",
   "execution_count": 9,
   "metadata": {
    "collapsed": true
   },
   "outputs": [],
   "source": [
    "data$country <- data_country"
   ]
  },
  {
   "cell_type": "code",
   "execution_count": 10,
   "metadata": {
    "collapsed": true
   },
   "outputs": [],
   "source": [
    "data[,\"signup_time\"] = as.POSIXct(data[,\"signup_time\"], tz=\"GMT\")\n",
    "data[, \"purchase_time\"] = as.POSIXct(data[,\"purchase_time\"],tz=\"GMT\")"
   ]
  },
  {
   "cell_type": "code",
   "execution_count": 11,
   "metadata": {
    "collapsed": false
   },
   "outputs": [
    {
     "data": {
      "text/html": [
       "<dl class=dl-horizontal>\n",
       "\t<dt>United States</dt>\n",
       "\t\t<dd>58049</dd>\n",
       "\t<dt>China</dt>\n",
       "\t\t<dd>12038</dd>\n",
       "\t<dt>Japan</dt>\n",
       "\t\t<dd>7306</dd>\n",
       "\t<dt>United Kingdom</dt>\n",
       "\t\t<dd>4490</dd>\n",
       "\t<dt>Korea Republic of</dt>\n",
       "\t\t<dd>4162</dd>\n",
       "\t<dt>Germany</dt>\n",
       "\t\t<dd>3646</dd>\n",
       "\t<dt>France</dt>\n",
       "\t\t<dd>3161</dd>\n",
       "\t<dt>Canada</dt>\n",
       "\t\t<dd>2975</dd>\n",
       "\t<dt>Brazil</dt>\n",
       "\t\t<dd>2961</dd>\n",
       "\t<dt>Italy</dt>\n",
       "\t\t<dd>1944</dd>\n",
       "\t<dt>Australia</dt>\n",
       "\t\t<dd>1844</dd>\n",
       "\t<dt>Netherlands</dt>\n",
       "\t\t<dd>1680</dd>\n",
       "\t<dt>Russian Federation</dt>\n",
       "\t\t<dd>1616</dd>\n",
       "\t<dt>India</dt>\n",
       "\t\t<dd>1310</dd>\n",
       "\t<dt>Taiwan; Republic of China (ROC)</dt>\n",
       "\t\t<dd>1237</dd>\n",
       "\t<dt>Mexico</dt>\n",
       "\t\t<dd>1121</dd>\n",
       "\t<dt>Sweden</dt>\n",
       "\t\t<dd>1090</dd>\n",
       "\t<dt>Spain</dt>\n",
       "\t\t<dd>1027</dd>\n",
       "\t<dt>South Africa</dt>\n",
       "\t\t<dd>838</dd>\n",
       "\t<dt>Switzerland</dt>\n",
       "\t\t<dd>785</dd>\n",
       "\t<dt>Poland</dt>\n",
       "\t\t<dd>729</dd>\n",
       "\t<dt>Argentina</dt>\n",
       "\t\t<dd>661</dd>\n",
       "\t<dt>Indonesia</dt>\n",
       "\t\t<dd>649</dd>\n",
       "\t<dt>Norway</dt>\n",
       "\t\t<dd>609</dd>\n",
       "\t<dt>Colombia</dt>\n",
       "\t\t<dd>602</dd>\n",
       "\t<dt>Turkey</dt>\n",
       "\t\t<dd>568</dd>\n",
       "\t<dt>Viet Nam</dt>\n",
       "\t\t<dd>550</dd>\n",
       "\t<dt>Romania</dt>\n",
       "\t\t<dd>525</dd>\n",
       "\t<dt>Denmark</dt>\n",
       "\t\t<dd>490</dd>\n",
       "\t<dt>Hong Kong</dt>\n",
       "\t\t<dd>471</dd>\n",
       "\t<dt>Finland</dt>\n",
       "\t\t<dd>460</dd>\n",
       "\t<dt>Austria</dt>\n",
       "\t\t<dd>435</dd>\n",
       "\t<dt>Ukraine</dt>\n",
       "\t\t<dd>429</dd>\n",
       "\t<dt>Chile</dt>\n",
       "\t\t<dd>417</dd>\n",
       "\t<dt>Belgium</dt>\n",
       "\t\t<dd>409</dd>\n",
       "\t<dt>Iran (ISLAMIC Republic Of)</dt>\n",
       "\t\t<dd>389</dd>\n",
       "\t<dt>Egypt</dt>\n",
       "\t\t<dd>359</dd>\n",
       "\t<dt>Czech Republic</dt>\n",
       "\t\t<dd>349</dd>\n",
       "\t<dt>Thailand</dt>\n",
       "\t\t<dd>291</dd>\n",
       "\t<dt>New Zealand</dt>\n",
       "\t\t<dd>278</dd>\n",
       "\t<dt>Israel</dt>\n",
       "\t\t<dd>272</dd>\n",
       "\t<dt>Saudi Arabia</dt>\n",
       "\t\t<dd>264</dd>\n",
       "\t<dt>Venezuela</dt>\n",
       "\t\t<dd>251</dd>\n",
       "\t<dt>Ireland</dt>\n",
       "\t\t<dd>240</dd>\n",
       "\t<dt>European Union</dt>\n",
       "\t\t<dd>238</dd>\n",
       "\t<dt>Greece</dt>\n",
       "\t\t<dd>231</dd>\n",
       "\t<dt>Portugal</dt>\n",
       "\t\t<dd>229</dd>\n",
       "\t<dt>Hungary</dt>\n",
       "\t\t<dd>211</dd>\n",
       "\t<dt>Malaysia</dt>\n",
       "\t\t<dd>210</dd>\n",
       "\t<dt>Singapore</dt>\n",
       "\t\t<dd>208</dd>\n",
       "\t<dt>Pakistan</dt>\n",
       "\t\t<dd>186</dd>\n",
       "\t<dt>Philippines</dt>\n",
       "\t\t<dd>177</dd>\n",
       "\t<dt>Bulgaria</dt>\n",
       "\t\t<dd>166</dd>\n",
       "\t<dt>Morocco</dt>\n",
       "\t\t<dd>158</dd>\n",
       "\t<dt>Algeria</dt>\n",
       "\t\t<dd>122</dd>\n",
       "\t<dt>Peru</dt>\n",
       "\t\t<dd>119</dd>\n",
       "\t<dt>Tunisia</dt>\n",
       "\t\t<dd>118</dd>\n",
       "\t<dt>United Arab Emirates</dt>\n",
       "\t\t<dd>114</dd>\n",
       "\t<dt>Ecuador</dt>\n",
       "\t\t<dd>106</dd>\n",
       "\t<dt>Lithuania</dt>\n",
       "\t\t<dd>95</dd>\n",
       "\t<dt>Seychelles</dt>\n",
       "\t\t<dd>95</dd>\n",
       "\t<dt>Kenya</dt>\n",
       "\t\t<dd>93</dd>\n",
       "\t<dt>Kazakhstan</dt>\n",
       "\t\t<dd>92</dd>\n",
       "\t<dt>Costa Rica</dt>\n",
       "\t\t<dd>90</dd>\n",
       "\t<dt>Kuwait</dt>\n",
       "\t\t<dd>90</dd>\n",
       "\t<dt>Slovenia</dt>\n",
       "\t\t<dd>87</dd>\n",
       "\t<dt>Slovakia (SLOVAK Republic)</dt>\n",
       "\t\t<dd>86</dd>\n",
       "\t<dt>Uruguay</dt>\n",
       "\t\t<dd>80</dd>\n",
       "\t<dt>Croatia (LOCAL Name: Hrvatska)</dt>\n",
       "\t\t<dd>79</dd>\n",
       "\t<dt>Belarus</dt>\n",
       "\t\t<dd>72</dd>\n",
       "\t<dt>Luxembourg</dt>\n",
       "\t\t<dd>72</dd>\n",
       "\t<dt>Serbia</dt>\n",
       "\t\t<dd>69</dd>\n",
       "\t<dt>Nigeria</dt>\n",
       "\t\t<dd>67</dd>\n",
       "\t<dt>Latvia</dt>\n",
       "\t\t<dd>64</dd>\n",
       "\t<dt>Panama</dt>\n",
       "\t\t<dd>62</dd>\n",
       "\t<dt>Bolivia</dt>\n",
       "\t\t<dd>53</dd>\n",
       "\t<dt>Dominican Republic</dt>\n",
       "\t\t<dd>51</dd>\n",
       "\t<dt>Cyprus</dt>\n",
       "\t\t<dd>43</dd>\n",
       "\t<dt>Estonia</dt>\n",
       "\t\t<dd>42</dd>\n",
       "\t<dt>Oman</dt>\n",
       "\t\t<dd>41</dd>\n",
       "\t<dt>Bangladesh</dt>\n",
       "\t\t<dd>37</dd>\n",
       "\t<dt>Moldova Republic of</dt>\n",
       "\t\t<dd>37</dd>\n",
       "\t<dt>Paraguay</dt>\n",
       "\t\t<dd>35</dd>\n",
       "\t<dt>Georgia</dt>\n",
       "\t\t<dd>32</dd>\n",
       "\t<dt>Sri Lanka</dt>\n",
       "\t\t<dd>31</dd>\n",
       "\t<dt>Bosnia and Herzegowina</dt>\n",
       "\t\t<dd>30</dd>\n",
       "\t<dt>Puerto Rico</dt>\n",
       "\t\t<dd>30</dd>\n",
       "\t<dt>Jordan</dt>\n",
       "\t\t<dd>28</dd>\n",
       "\t<dt>Lebanon</dt>\n",
       "\t\t<dd>28</dd>\n",
       "\t<dt>El Salvador</dt>\n",
       "\t\t<dd>25</dd>\n",
       "\t<dt>Qatar</dt>\n",
       "\t\t<dd>25</dd>\n",
       "\t<dt>Sudan</dt>\n",
       "\t\t<dd>25</dd>\n",
       "\t<dt>Angola</dt>\n",
       "\t\t<dd>24</dd>\n",
       "\t<dt>Macedonia</dt>\n",
       "\t\t<dd>24</dd>\n",
       "\t<dt>Syrian Arab Republic</dt>\n",
       "\t\t<dd>24</dd>\n",
       "\t<dt>Azerbaijan</dt>\n",
       "\t\t<dd>23</dd>\n",
       "\t<dt>Namibia</dt>\n",
       "\t\t<dd>23</dd>\n",
       "\t<dt>Malta</dt>\n",
       "\t\t<dd>22</dd>\n",
       "\t<dt>(Other)</dt>\n",
       "\t\t<dd>550</dd>\n",
       "\t<dt>NA's</dt>\n",
       "\t\t<dd>21966</dd>\n",
       "</dl>\n"
      ],
      "text/latex": [
       "\\begin{description*}\n",
       "\\item[United States] 58049\n",
       "\\item[China] 12038\n",
       "\\item[Japan] 7306\n",
       "\\item[United Kingdom] 4490\n",
       "\\item[Korea Republic of] 4162\n",
       "\\item[Germany] 3646\n",
       "\\item[France] 3161\n",
       "\\item[Canada] 2975\n",
       "\\item[Brazil] 2961\n",
       "\\item[Italy] 1944\n",
       "\\item[Australia] 1844\n",
       "\\item[Netherlands] 1680\n",
       "\\item[Russian Federation] 1616\n",
       "\\item[India] 1310\n",
       "\\item[Taiwan; Republic of China (ROC)] 1237\n",
       "\\item[Mexico] 1121\n",
       "\\item[Sweden] 1090\n",
       "\\item[Spain] 1027\n",
       "\\item[South Africa] 838\n",
       "\\item[Switzerland] 785\n",
       "\\item[Poland] 729\n",
       "\\item[Argentina] 661\n",
       "\\item[Indonesia] 649\n",
       "\\item[Norway] 609\n",
       "\\item[Colombia] 602\n",
       "\\item[Turkey] 568\n",
       "\\item[Viet Nam] 550\n",
       "\\item[Romania] 525\n",
       "\\item[Denmark] 490\n",
       "\\item[Hong Kong] 471\n",
       "\\item[Finland] 460\n",
       "\\item[Austria] 435\n",
       "\\item[Ukraine] 429\n",
       "\\item[Chile] 417\n",
       "\\item[Belgium] 409\n",
       "\\item[Iran (ISLAMIC Republic Of)] 389\n",
       "\\item[Egypt] 359\n",
       "\\item[Czech Republic] 349\n",
       "\\item[Thailand] 291\n",
       "\\item[New Zealand] 278\n",
       "\\item[Israel] 272\n",
       "\\item[Saudi Arabia] 264\n",
       "\\item[Venezuela] 251\n",
       "\\item[Ireland] 240\n",
       "\\item[European Union] 238\n",
       "\\item[Greece] 231\n",
       "\\item[Portugal] 229\n",
       "\\item[Hungary] 211\n",
       "\\item[Malaysia] 210\n",
       "\\item[Singapore] 208\n",
       "\\item[Pakistan] 186\n",
       "\\item[Philippines] 177\n",
       "\\item[Bulgaria] 166\n",
       "\\item[Morocco] 158\n",
       "\\item[Algeria] 122\n",
       "\\item[Peru] 119\n",
       "\\item[Tunisia] 118\n",
       "\\item[United Arab Emirates] 114\n",
       "\\item[Ecuador] 106\n",
       "\\item[Lithuania] 95\n",
       "\\item[Seychelles] 95\n",
       "\\item[Kenya] 93\n",
       "\\item[Kazakhstan] 92\n",
       "\\item[Costa Rica] 90\n",
       "\\item[Kuwait] 90\n",
       "\\item[Slovenia] 87\n",
       "\\item[Slovakia (SLOVAK Republic)] 86\n",
       "\\item[Uruguay] 80\n",
       "\\item[Croatia (LOCAL Name: Hrvatska)] 79\n",
       "\\item[Belarus] 72\n",
       "\\item[Luxembourg] 72\n",
       "\\item[Serbia] 69\n",
       "\\item[Nigeria] 67\n",
       "\\item[Latvia] 64\n",
       "\\item[Panama] 62\n",
       "\\item[Bolivia] 53\n",
       "\\item[Dominican Republic] 51\n",
       "\\item[Cyprus] 43\n",
       "\\item[Estonia] 42\n",
       "\\item[Oman] 41\n",
       "\\item[Bangladesh] 37\n",
       "\\item[Moldova Republic of] 37\n",
       "\\item[Paraguay] 35\n",
       "\\item[Georgia] 32\n",
       "\\item[Sri Lanka] 31\n",
       "\\item[Bosnia and Herzegowina] 30\n",
       "\\item[Puerto Rico] 30\n",
       "\\item[Jordan] 28\n",
       "\\item[Lebanon] 28\n",
       "\\item[El Salvador] 25\n",
       "\\item[Qatar] 25\n",
       "\\item[Sudan] 25\n",
       "\\item[Angola] 24\n",
       "\\item[Macedonia] 24\n",
       "\\item[Syrian Arab Republic] 24\n",
       "\\item[Azerbaijan] 23\n",
       "\\item[Namibia] 23\n",
       "\\item[Malta] 22\n",
       "\\item[(Other)] 550\n",
       "\\item[NA's] 21966\n",
       "\\end{description*}\n"
      ],
      "text/markdown": [
       "United States\n",
       ":   58049China\n",
       ":   12038Japan\n",
       ":   7306United Kingdom\n",
       ":   4490Korea Republic of\n",
       ":   4162Germany\n",
       ":   3646France\n",
       ":   3161Canada\n",
       ":   2975Brazil\n",
       ":   2961Italy\n",
       ":   1944Australia\n",
       ":   1844Netherlands\n",
       ":   1680Russian Federation\n",
       ":   1616India\n",
       ":   1310Taiwan; Republic of China (ROC)\n",
       ":   1237Mexico\n",
       ":   1121Sweden\n",
       ":   1090Spain\n",
       ":   1027South Africa\n",
       ":   838Switzerland\n",
       ":   785Poland\n",
       ":   729Argentina\n",
       ":   661Indonesia\n",
       ":   649Norway\n",
       ":   609Colombia\n",
       ":   602Turkey\n",
       ":   568Viet Nam\n",
       ":   550Romania\n",
       ":   525Denmark\n",
       ":   490Hong Kong\n",
       ":   471Finland\n",
       ":   460Austria\n",
       ":   435Ukraine\n",
       ":   429Chile\n",
       ":   417Belgium\n",
       ":   409Iran (ISLAMIC Republic Of)\n",
       ":   389Egypt\n",
       ":   359Czech Republic\n",
       ":   349Thailand\n",
       ":   291New Zealand\n",
       ":   278Israel\n",
       ":   272Saudi Arabia\n",
       ":   264Venezuela\n",
       ":   251Ireland\n",
       ":   240European Union\n",
       ":   238Greece\n",
       ":   231Portugal\n",
       ":   229Hungary\n",
       ":   211Malaysia\n",
       ":   210Singapore\n",
       ":   208Pakistan\n",
       ":   186Philippines\n",
       ":   177Bulgaria\n",
       ":   166Morocco\n",
       ":   158Algeria\n",
       ":   122Peru\n",
       ":   119Tunisia\n",
       ":   118United Arab Emirates\n",
       ":   114Ecuador\n",
       ":   106Lithuania\n",
       ":   95Seychelles\n",
       ":   95Kenya\n",
       ":   93Kazakhstan\n",
       ":   92Costa Rica\n",
       ":   90Kuwait\n",
       ":   90Slovenia\n",
       ":   87Slovakia (SLOVAK Republic)\n",
       ":   86Uruguay\n",
       ":   80Croatia (LOCAL Name: Hrvatska)\n",
       ":   79Belarus\n",
       ":   72Luxembourg\n",
       ":   72Serbia\n",
       ":   69Nigeria\n",
       ":   67Latvia\n",
       ":   64Panama\n",
       ":   62Bolivia\n",
       ":   53Dominican Republic\n",
       ":   51Cyprus\n",
       ":   43Estonia\n",
       ":   42Oman\n",
       ":   41Bangladesh\n",
       ":   37Moldova Republic of\n",
       ":   37Paraguay\n",
       ":   35Georgia\n",
       ":   32Sri Lanka\n",
       ":   31Bosnia and Herzegowina\n",
       ":   30Puerto Rico\n",
       ":   30Jordan\n",
       ":   28Lebanon\n",
       ":   28El Salvador\n",
       ":   25Qatar\n",
       ":   25Sudan\n",
       ":   25Angola\n",
       ":   24Macedonia\n",
       ":   24Syrian Arab Republic\n",
       ":   24Azerbaijan\n",
       ":   23Namibia\n",
       ":   23Malta\n",
       ":   22(Other)\n",
       ":   550NA's\n",
       ":   21966\n",
       "\n"
      ],
      "text/plain": [
       "                  United States                           China \n",
       "                          58049                           12038 \n",
       "                          Japan                  United Kingdom \n",
       "                           7306                            4490 \n",
       "              Korea Republic of                         Germany \n",
       "                           4162                            3646 \n",
       "                         France                          Canada \n",
       "                           3161                            2975 \n",
       "                         Brazil                           Italy \n",
       "                           2961                            1944 \n",
       "                      Australia                     Netherlands \n",
       "                           1844                            1680 \n",
       "             Russian Federation                           India \n",
       "                           1616                            1310 \n",
       "Taiwan; Republic of China (ROC)                          Mexico \n",
       "                           1237                            1121 \n",
       "                         Sweden                           Spain \n",
       "                           1090                            1027 \n",
       "                   South Africa                     Switzerland \n",
       "                            838                             785 \n",
       "                         Poland                       Argentina \n",
       "                            729                             661 \n",
       "                      Indonesia                          Norway \n",
       "                            649                             609 \n",
       "                       Colombia                          Turkey \n",
       "                            602                             568 \n",
       "                       Viet Nam                         Romania \n",
       "                            550                             525 \n",
       "                        Denmark                       Hong Kong \n",
       "                            490                             471 \n",
       "                        Finland                         Austria \n",
       "                            460                             435 \n",
       "                        Ukraine                           Chile \n",
       "                            429                             417 \n",
       "                        Belgium      Iran (ISLAMIC Republic Of) \n",
       "                            409                             389 \n",
       "                          Egypt                  Czech Republic \n",
       "                            359                             349 \n",
       "                       Thailand                     New Zealand \n",
       "                            291                             278 \n",
       "                         Israel                    Saudi Arabia \n",
       "                            272                             264 \n",
       "                      Venezuela                         Ireland \n",
       "                            251                             240 \n",
       "                 European Union                          Greece \n",
       "                            238                             231 \n",
       "                       Portugal                         Hungary \n",
       "                            229                             211 \n",
       "                       Malaysia                       Singapore \n",
       "                            210                             208 \n",
       "                       Pakistan                     Philippines \n",
       "                            186                             177 \n",
       "                       Bulgaria                         Morocco \n",
       "                            166                             158 \n",
       "                        Algeria                            Peru \n",
       "                            122                             119 \n",
       "                        Tunisia            United Arab Emirates \n",
       "                            118                             114 \n",
       "                        Ecuador                       Lithuania \n",
       "                            106                              95 \n",
       "                     Seychelles                           Kenya \n",
       "                             95                              93 \n",
       "                     Kazakhstan                      Costa Rica \n",
       "                             92                              90 \n",
       "                         Kuwait                        Slovenia \n",
       "                             90                              87 \n",
       "     Slovakia (SLOVAK Republic)                         Uruguay \n",
       "                             86                              80 \n",
       " Croatia (LOCAL Name: Hrvatska)                         Belarus \n",
       "                             79                              72 \n",
       "                     Luxembourg                          Serbia \n",
       "                             72                              69 \n",
       "                        Nigeria                          Latvia \n",
       "                             67                              64 \n",
       "                         Panama                         Bolivia \n",
       "                             62                              53 \n",
       "             Dominican Republic                          Cyprus \n",
       "                             51                              43 \n",
       "                        Estonia                            Oman \n",
       "                             42                              41 \n",
       "                     Bangladesh             Moldova Republic of \n",
       "                             37                              37 \n",
       "                       Paraguay                         Georgia \n",
       "                             35                              32 \n",
       "                      Sri Lanka          Bosnia and Herzegowina \n",
       "                             31                              30 \n",
       "                    Puerto Rico                          Jordan \n",
       "                             30                              28 \n",
       "                        Lebanon                     El Salvador \n",
       "                             28                              25 \n",
       "                          Qatar                           Sudan \n",
       "                             25                              25 \n",
       "                         Angola                       Macedonia \n",
       "                             24                              24 \n",
       "           Syrian Arab Republic                      Azerbaijan \n",
       "                             24                              23 \n",
       "                        Namibia                           Malta \n",
       "                             23                              22 \n",
       "                        (Other)                            NA's \n",
       "                            550                           21966 "
      ]
     },
     "metadata": {},
     "output_type": "display_data"
    }
   ],
   "source": [
    "summary(as.factor(data$country))"
   ]
  },
  {
   "cell_type": "code",
   "execution_count": 12,
   "metadata": {
    "collapsed": false
   },
   "outputs": [],
   "source": [
    "data$purchase_signup_diff <- as.numeric(difftime(as.POSIXct(data$purchase_time, tz=\"GMT\"), as.POSIXct(data$signup_time, tz=\"GMT\"), unit=\"secs\"))"
   ]
  },
  {
   "cell_type": "code",
   "execution_count": 13,
   "metadata": {
    "collapsed": true
   },
   "outputs": [],
   "source": [
    "data <- data %>%\n",
    "        group_by(device_id) %>%\n",
    "        mutate(device_id_count = n())"
   ]
  },
  {
   "cell_type": "code",
   "execution_count": 14,
   "metadata": {
    "collapsed": true
   },
   "outputs": [],
   "source": [
    "data <- data.frame(data %>%\n",
    "                    group_by(ip_address) %>%\n",
    "                    mutate (ip_address_count = n())\n",
    "                  )"
   ]
  },
  {
   "cell_type": "code",
   "execution_count": 15,
   "metadata": {
    "collapsed": true
   },
   "outputs": [],
   "source": [
    "data$signup_time_wd = format(data$signup_time, \"%A\")\n",
    "data$purchase_time_wd = format(data$purchase_time, \"%A\")"
   ]
  },
  {
   "cell_type": "code",
   "execution_count": 16,
   "metadata": {
    "collapsed": true
   },
   "outputs": [],
   "source": [
    "data$signup_time_wy = as.numeric(format(data$signup_time, \"%U\"))\n",
    "data$purchase_time_wy = as.numeric(format(data$purchase_time, \"%U\"))"
   ]
  },
  {
   "cell_type": "code",
   "execution_count": 17,
   "metadata": {
    "collapsed": true
   },
   "outputs": [],
   "source": [
    "data_rf <- data[, -c(1:3,5)]"
   ]
  },
  {
   "cell_type": "code",
   "execution_count": 18,
   "metadata": {
    "collapsed": false
   },
   "outputs": [
    {
     "data": {
      "text/html": [
       "<table>\n",
       "<thead><tr><th scope=col>purchase_value</th><th scope=col>source</th><th scope=col>browser</th><th scope=col>sex</th><th scope=col>age</th><th scope=col>ip_address</th><th scope=col>class</th><th scope=col>country</th><th scope=col>purchase_signup_diff</th><th scope=col>device_id_count</th><th scope=col>ip_address_count</th><th scope=col>signup_time_wd</th><th scope=col>purchase_time_wd</th><th scope=col>signup_time_wy</th><th scope=col>purchase_time_wy</th></tr></thead>\n",
       "<tbody>\n",
       "\t<tr><td>34           </td><td>SEO          </td><td>Chrome       </td><td>M            </td><td>39           </td><td> 732758369   </td><td>0            </td><td>Japan        </td><td>4506682      </td><td> 1           </td><td> 1           </td><td>Tuesday      </td><td>Saturday     </td><td> 8           </td><td>15           </td></tr>\n",
       "\t<tr><td>16           </td><td>Ads          </td><td>Chrome       </td><td>F            </td><td>53           </td><td> 350311388   </td><td>0            </td><td>United States</td><td>  17944      </td><td> 1           </td><td> 1           </td><td>Sunday       </td><td>Monday       </td><td>23           </td><td>23           </td></tr>\n",
       "\t<tr><td>15           </td><td>SEO          </td><td>Opera        </td><td>M            </td><td>53           </td><td>2621473820   </td><td>1            </td><td>United States</td><td>      1      </td><td>12           </td><td>12           </td><td>Thursday     </td><td>Thursday     </td><td> 0           </td><td> 0           </td></tr>\n",
       "\t<tr><td>44           </td><td>SEO          </td><td>Safari       </td><td>M            </td><td>41           </td><td>3840542444   </td><td>0            </td><td>NA           </td><td> 492085      </td><td> 1           </td><td> 1           </td><td>Tuesday      </td><td>Monday       </td><td>17           </td><td>18           </td></tr>\n",
       "\t<tr><td>39           </td><td>Ads          </td><td>Safari       </td><td>M            </td><td>45           </td><td> 415583117   </td><td>0            </td><td>United States</td><td>4361461      </td><td> 1           </td><td> 1           </td><td>Tuesday      </td><td>Wednesday    </td><td>29           </td><td>36           </td></tr>\n",
       "\t<tr><td>42           </td><td>Ads          </td><td>Chrome       </td><td>M            </td><td>18           </td><td>2809315200   </td><td>0            </td><td>Canada       </td><td>4240931      </td><td> 1           </td><td> 1           </td><td>Thursday     </td><td>Thursday     </td><td>20           </td><td>27           </td></tr>\n",
       "</tbody>\n",
       "</table>\n"
      ],
      "text/latex": [
       "\\begin{tabular}{r|lllllllllllllll}\n",
       " purchase\\_value & source & browser & sex & age & ip\\_address & class & country & purchase\\_signup\\_diff & device\\_id\\_count & ip\\_address\\_count & signup\\_time\\_wd & purchase\\_time\\_wd & signup\\_time\\_wy & purchase\\_time\\_wy\\\\\n",
       "\\hline\n",
       "\t 34            & SEO           & Chrome        & M             & 39            &  732758369    & 0             & Japan         & 4506682       &  1            &  1            & Tuesday       & Saturday      &  8            & 15           \\\\\n",
       "\t 16            & Ads           & Chrome        & F             & 53            &  350311388    & 0             & United States &   17944       &  1            &  1            & Sunday        & Monday        & 23            & 23           \\\\\n",
       "\t 15            & SEO           & Opera         & M             & 53            & 2621473820    & 1             & United States &       1       & 12            & 12            & Thursday      & Thursday      &  0            &  0           \\\\\n",
       "\t 44            & SEO           & Safari        & M             & 41            & 3840542444    & 0             & NA            &  492085       &  1            &  1            & Tuesday       & Monday        & 17            & 18           \\\\\n",
       "\t 39            & Ads           & Safari        & M             & 45            &  415583117    & 0             & United States & 4361461       &  1            &  1            & Tuesday       & Wednesday     & 29            & 36           \\\\\n",
       "\t 42            & Ads           & Chrome        & M             & 18            & 2809315200    & 0             & Canada        & 4240931       &  1            &  1            & Thursday      & Thursday      & 20            & 27           \\\\\n",
       "\\end{tabular}\n"
      ],
      "text/markdown": [
       "\n",
       "purchase_value | source | browser | sex | age | ip_address | class | country | purchase_signup_diff | device_id_count | ip_address_count | signup_time_wd | purchase_time_wd | signup_time_wy | purchase_time_wy | \n",
       "|---|---|---|---|---|---|\n",
       "| 34            | SEO           | Chrome        | M             | 39            |  732758369    | 0             | Japan         | 4506682       |  1            |  1            | Tuesday       | Saturday      |  8            | 15            | \n",
       "| 16            | Ads           | Chrome        | F             | 53            |  350311388    | 0             | United States |   17944       |  1            |  1            | Sunday        | Monday        | 23            | 23            | \n",
       "| 15            | SEO           | Opera         | M             | 53            | 2621473820    | 1             | United States |       1       | 12            | 12            | Thursday      | Thursday      |  0            |  0            | \n",
       "| 44            | SEO           | Safari        | M             | 41            | 3840542444    | 0             | NA            |  492085       |  1            |  1            | Tuesday       | Monday        | 17            | 18            | \n",
       "| 39            | Ads           | Safari        | M             | 45            |  415583117    | 0             | United States | 4361461       |  1            |  1            | Tuesday       | Wednesday     | 29            | 36            | \n",
       "| 42            | Ads           | Chrome        | M             | 18            | 2809315200    | 0             | Canada        | 4240931       |  1            |  1            | Thursday      | Thursday      | 20            | 27            | \n",
       "\n",
       "\n"
      ],
      "text/plain": [
       "  purchase_value source browser sex age ip_address class country      \n",
       "1 34             SEO    Chrome  M   39   732758369 0     Japan        \n",
       "2 16             Ads    Chrome  F   53   350311388 0     United States\n",
       "3 15             SEO    Opera   M   53  2621473820 1     United States\n",
       "4 44             SEO    Safari  M   41  3840542444 0     NA           \n",
       "5 39             Ads    Safari  M   45   415583117 0     United States\n",
       "6 42             Ads    Chrome  M   18  2809315200 0     Canada       \n",
       "  purchase_signup_diff device_id_count ip_address_count signup_time_wd\n",
       "1 4506682               1               1               Tuesday       \n",
       "2   17944               1               1               Sunday        \n",
       "3       1              12              12               Thursday      \n",
       "4  492085               1               1               Tuesday       \n",
       "5 4361461               1               1               Tuesday       \n",
       "6 4240931               1               1               Thursday      \n",
       "  purchase_time_wd signup_time_wy purchase_time_wy\n",
       "1 Saturday          8             15              \n",
       "2 Monday           23             23              \n",
       "3 Thursday          0              0              \n",
       "4 Monday           17             18              \n",
       "5 Wednesday        29             36              \n",
       "6 Thursday         20             27              "
      ]
     },
     "metadata": {},
     "output_type": "display_data"
    }
   ],
   "source": [
    "head(data_rf)"
   ]
  },
  {
   "cell_type": "code",
   "execution_count": 19,
   "metadata": {
    "collapsed": false
   },
   "outputs": [],
   "source": [
    "data_rf$country[is.na(data_rf$country)]=\"Not_found\"\n",
    "data_rf$country = ifelse(data_rf$country %in% names(sort(table(data_rf$country),decresing=TRUE))[51:length(unique(data_rf$country))],\"other\", as.character(data_rf$country)\n",
    "                         )"
   ]
  },
  {
   "cell_type": "code",
   "execution_count": 20,
   "metadata": {
    "collapsed": false
   },
   "outputs": [],
   "source": [
    "data_rf$class<- as.factor(data_rf$class)"
   ]
  },
  {
   "cell_type": "code",
   "execution_count": 21,
   "metadata": {
    "collapsed": true
   },
   "outputs": [],
   "source": [
    "data_rf[sapply(data_rf,is.character)] <-lapply(data_rf[sapply(data_rf,is.character)], as.factor)"
   ]
  },
  {
   "cell_type": "code",
   "execution_count": 22,
   "metadata": {
    "collapsed": false
   },
   "outputs": [
    {
     "data": {
      "text/html": [
       "<dl class=dl-horizontal>\n",
       "\t<dt>purchase_value</dt>\n",
       "\t\t<dd>'integer'</dd>\n",
       "\t<dt>source</dt>\n",
       "\t\t<dd>'factor'</dd>\n",
       "\t<dt>browser</dt>\n",
       "\t\t<dd>'factor'</dd>\n",
       "\t<dt>sex</dt>\n",
       "\t\t<dd>'factor'</dd>\n",
       "\t<dt>age</dt>\n",
       "\t\t<dd>'integer'</dd>\n",
       "\t<dt>ip_address</dt>\n",
       "\t\t<dd>'numeric'</dd>\n",
       "\t<dt>class</dt>\n",
       "\t\t<dd>'factor'</dd>\n",
       "\t<dt>country</dt>\n",
       "\t\t<dd>'factor'</dd>\n",
       "\t<dt>purchase_signup_diff</dt>\n",
       "\t\t<dd>'numeric'</dd>\n",
       "\t<dt>device_id_count</dt>\n",
       "\t\t<dd>'integer'</dd>\n",
       "\t<dt>ip_address_count</dt>\n",
       "\t\t<dd>'integer'</dd>\n",
       "\t<dt>signup_time_wd</dt>\n",
       "\t\t<dd>'factor'</dd>\n",
       "\t<dt>purchase_time_wd</dt>\n",
       "\t\t<dd>'factor'</dd>\n",
       "\t<dt>signup_time_wy</dt>\n",
       "\t\t<dd>'numeric'</dd>\n",
       "\t<dt>purchase_time_wy</dt>\n",
       "\t\t<dd>'numeric'</dd>\n",
       "</dl>\n"
      ],
      "text/latex": [
       "\\begin{description*}\n",
       "\\item[purchase\\textbackslash{}\\_value] 'integer'\n",
       "\\item[source] 'factor'\n",
       "\\item[browser] 'factor'\n",
       "\\item[sex] 'factor'\n",
       "\\item[age] 'integer'\n",
       "\\item[ip\\textbackslash{}\\_address] 'numeric'\n",
       "\\item[class] 'factor'\n",
       "\\item[country] 'factor'\n",
       "\\item[purchase\\textbackslash{}\\_signup\\textbackslash{}\\_diff] 'numeric'\n",
       "\\item[device\\textbackslash{}\\_id\\textbackslash{}\\_count] 'integer'\n",
       "\\item[ip\\textbackslash{}\\_address\\textbackslash{}\\_count] 'integer'\n",
       "\\item[signup\\textbackslash{}\\_time\\textbackslash{}\\_wd] 'factor'\n",
       "\\item[purchase\\textbackslash{}\\_time\\textbackslash{}\\_wd] 'factor'\n",
       "\\item[signup\\textbackslash{}\\_time\\textbackslash{}\\_wy] 'numeric'\n",
       "\\item[purchase\\textbackslash{}\\_time\\textbackslash{}\\_wy] 'numeric'\n",
       "\\end{description*}\n"
      ],
      "text/markdown": [
       "purchase_value\n",
       ":   'integer'source\n",
       ":   'factor'browser\n",
       ":   'factor'sex\n",
       ":   'factor'age\n",
       ":   'integer'ip_address\n",
       ":   'numeric'class\n",
       ":   'factor'country\n",
       ":   'factor'purchase_signup_diff\n",
       ":   'numeric'device_id_count\n",
       ":   'integer'ip_address_count\n",
       ":   'integer'signup_time_wd\n",
       ":   'factor'purchase_time_wd\n",
       ":   'factor'signup_time_wy\n",
       ":   'numeric'purchase_time_wy\n",
       ":   'numeric'\n",
       "\n"
      ],
      "text/plain": [
       "      purchase_value               source              browser \n",
       "           \"integer\"             \"factor\"             \"factor\" \n",
       "                 sex                  age           ip_address \n",
       "            \"factor\"            \"integer\"            \"numeric\" \n",
       "               class              country purchase_signup_diff \n",
       "            \"factor\"             \"factor\"            \"numeric\" \n",
       "     device_id_count     ip_address_count       signup_time_wd \n",
       "           \"integer\"            \"integer\"             \"factor\" \n",
       "    purchase_time_wd       signup_time_wy     purchase_time_wy \n",
       "            \"factor\"            \"numeric\"            \"numeric\" "
      ]
     },
     "metadata": {},
     "output_type": "display_data"
    }
   ],
   "source": [
    "sapply(data_rf, class)"
   ]
  },
  {
   "cell_type": "code",
   "execution_count": 23,
   "metadata": {
    "collapsed": true
   },
   "outputs": [],
   "source": [
    "train_sample <- sample(nrow(data_rf), size=nrow(data) * 0.66)\n",
    "train_data <- data_rf[train_sample,]\n",
    "test_data<- data_rf[-train_sample,]"
   ]
  },
  {
   "cell_type": "code",
   "execution_count": 24,
   "metadata": {
    "collapsed": false
   },
   "outputs": [
    {
     "data": {
      "text/plain": [
       "\n",
       "Call:\n",
       " randomForest(x = train_data[, -7], y = train_data$class, xtest = test_data[,      -7], ytest = test_data$class, ntree = 50, mtry = 3, keep.forest = TRUE) \n",
       "               Type of random forest: classification\n",
       "                     Number of trees: 50\n",
       "No. of variables tried at each split: 3\n",
       "\n",
       "        OOB estimate of  error rate: 4.39%\n",
       "Confusion matrix:\n",
       "      0    1 class.error\n",
       "0 90285  102 0.001128481\n",
       "1  4280 5066 0.457949925\n",
       "                Test set error rate: 4.35%\n",
       "Confusion matrix:\n",
       "      0    1  class.error\n",
       "0 46564   10 0.0002147121\n",
       "1  2224 2581 0.4628511967"
      ]
     },
     "metadata": {},
     "output_type": "display_data"
    }
   ],
   "source": [
    "rf = randomForest(y=train_data$class, x=train_data[,-7],\n",
    "                 ytest=test_data$class, xtest=test_data[,-7],\n",
    "                 ntree=50, mtry=3, keep.forest = TRUE)\n",
    "rf"
   ]
  },
  {
   "cell_type": "code",
   "execution_count": 25,
   "metadata": {
    "collapsed": false
   },
   "outputs": [
    {
     "data": {
      "text/plain": [
       "\n",
       "Call:\n",
       " randomForest(x = train_data[, -7], y = train_data$class, xtest = test_data[,      -7], ytest = test_data$class, ntree = 50, mtry = 3, cutoff = c(0.7,      1 - 0.7), keep.forest = TRUE) \n",
       "               Type of random forest: classification\n",
       "                     Number of trees: 50\n",
       "No. of variables tried at each split: 3\n",
       "\n",
       "        OOB estimate of  error rate: 5.21%\n",
       "Confusion matrix:\n",
       "      0    1 class.error\n",
       "0 89067 1320  0.01460387\n",
       "1  3879 5467  0.41504387\n",
       "                Test set error rate: 4.91%\n",
       "Confusion matrix:\n",
       "      0    1 class.error\n",
       "0 46101  473  0.01015588\n",
       "1  2049 2756  0.42643080"
      ]
     },
     "metadata": {},
     "output_type": "display_data"
    }
   ],
   "source": [
    "rf_cutoff = randomForest(y=train_data$class, x=train_data[,-7],\n",
    "                 ytest=test_data$class, xtest=test_data[,-7],\n",
    "                 ntree=50, mtry=3, cutoff=c(0.7,1-0.7),keep.forest = TRUE)\n",
    "rf_cutoff"
   ]
  },
  {
   "cell_type": "code",
   "execution_count": 26,
   "metadata": {
    "collapsed": true
   },
   "outputs": [],
   "source": [
    "rf_results = data.frame (true_values = test_data$class,\n",
    "                          predictions = rf$test$votes[,2]\n",
    "                          )"
   ]
  },
  {
   "cell_type": "code",
   "execution_count": 27,
   "metadata": {
    "collapsed": true
   },
   "outputs": [],
   "source": [
    "pred = prediction (rf_results$predictions, rf_results$true_values)"
   ]
  },
  {
   "cell_type": "code",
   "execution_count": 28,
   "metadata": {
    "collapsed": false
   },
   "outputs": [
    {
     "data": {
      "text/html": [],
      "text/latex": [],
      "text/markdown": [],
      "text/plain": [
       "numeric(0)"
      ]
     },
     "metadata": {},
     "output_type": "display_data"
    },
    {
     "data": {
      "image/png": "[encoded data removed]",
      "text/plain": [
       "plot without title"
      ]
     },
     "metadata": {},
     "output_type": "display_data"
    }
   ],
   "source": [
    "perf = performance (pred, measure = 'tpr', x.measure = \"fpr\")\n",
    " plot(perf) + abline(a=0, b=1, col = 'red') # the red line is randomness"
   ]
  },
  {
   "cell_type": "markdown",
   "metadata": {},
   "source": [
    "Based on the ROC, if we care about minimizing false positive, we would choose a cut-off that would give us true positive rate of ~0.5 and false positive rate almost zero (this was essentially the random forest output). However, if we care about maximizing true positive, we will have to decrease the cut-off. This way we will classify more events as “1”: some will be true ones (so true positive goes up) and many, unfortunately, will be false ones (so false positive will also go up)."
   ]
  },
  {
   "cell_type": "code",
   "execution_count": 29,
   "metadata": {
    "collapsed": true
   },
   "outputs": [],
   "source": [
    "rf_results_cutoff = data.frame (true_values = test_data$class,\n",
    "                          predictions = rf_cutoff$test$votes[,2]\n",
    "                          )"
   ]
  },
  {
   "cell_type": "code",
   "execution_count": 30,
   "metadata": {
    "collapsed": true
   },
   "outputs": [],
   "source": [
    "pred_cutoff = prediction (rf_results_cutoff$predictions, rf_results_cutoff$true_values)"
   ]
  },
  {
   "cell_type": "code",
   "execution_count": 31,
   "metadata": {
    "collapsed": false
   },
   "outputs": [
    {
     "data": {
      "text/html": [],
      "text/latex": [],
      "text/markdown": [],
      "text/plain": [
       "numeric(0)"
      ]
     },
     "metadata": {},
     "output_type": "display_data"
    },
    {
     "data": {
      "image/png": "[encoded data removed]",
      "text/plain": [
       "plot without title"
      ]
     },
     "metadata": {},
     "output_type": "display_data"
    }
   ],
   "source": [
    "perf_cutoff = performance (pred_cutoff, measure = 'tpr', x.measure = \"fpr\")\n",
    " plot(perf_cutoff) + abline(a=0, b=1, col = 'red') # the red line is randomness"
   ]
  },
  {
   "cell_type": "markdown",
   "metadata": {},
   "source": [
    "Regarding “how to use this from a product perspective”: you now have a model that assigns to each user a probability of committing a fraud. You want to think about creating different experiences based on that. For instance:\n",
    "1. If predicted fraud probability < X, the user has the normal experience (the high majority should fall here)\n",
    "2. If X <= predicted fraud probability < Z (so the user is at risk, but not too much), you can create an additional verification step, like verify your phone number via a code sent by SMS or log in via Facebook.\n",
    "3. If predicted fraud probability >= Z (so here is really likely the user is trying to commit a fraud), you can tell the user his session has been put on hold, send this user info to someone who reviews it manually and either blocks the user or decides it is not a fraud so the session is resumed."
   ]
  },
  {
   "cell_type": "code",
   "execution_count": null,
   "metadata": {
    "collapsed": false
   },
   "outputs": [],
   "source": [
    "sort(importance(rf))\n",
    "#newdata <- mtcars[order(mpg, cyl),]"
   ]
  },
  {
   "cell_type": "code",
   "execution_count": 132,
   "metadata": {
    "collapsed": false
   },
   "outputs": [
    {
     "data": {
      "image/png": "[encoded data removed]",
      "text/plain": [
       "Plot with title “rf”"
      ]
     },
     "metadata": {},
     "output_type": "display_data"
    }
   ],
   "source": [
    "varImpPlot(rf,type=2)"
   ]
  },
  {
   "cell_type": "code",
   "execution_count": null,
   "metadata": {
    "collapsed": true
   },
   "outputs": [],
   "source": [
    "op <- par(mfrow=c(2, 2))\n",
    "partialPlot(rf, train_data, country, 1)\n",
    "partialPlot(rf, train_data, sex, 1)\n",
    "partialPlot(rf, train_data, brower, 1)\n",
    "partialPlot(rf, train_data, source, 1)\n",
    "partialPlot(rf, train_data, signup_time_wd, 1)\n",
    "partialPlot(rf, train_data, purchase_time_wd, 1)\n",
    "partialPlot(rf, train_data, age, 1)"
   ]
  },
  {
   "cell_type": "code",
   "execution_count": null,
   "metadata": {
    "collapsed": true
   },
   "outputs": [],
   "source": []
  }
 ],
 "metadata": {
  "kernelspec": {
   "display_name": "R",
   "language": "R",
   "name": "ir"
  },
  "language_info": {
   "codemirror_mode": "r",
   "file_extension": ".r",
   "mimetype": "text/x-r-source",
   "name": "R",
   "pygments_lexer": "r",
   "version": "3.3.2"
  }
 },
 "nbformat": 4,
 "nbformat_minor": 2
}
