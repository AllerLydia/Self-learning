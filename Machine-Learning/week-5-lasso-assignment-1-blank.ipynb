{
 "cells": [
  {
   "cell_type": "markdown",
   "metadata": {},
   "source": [
    "# Regression Week 5: Feature Selection and LASSO (Interpretation)"
   ]
  },
  {
   "cell_type": "markdown",
   "metadata": {},
   "source": [
    "In this notebook, you will use LASSO to select features, building on a pre-implemented solver for LASSO (using GraphLab Create, though you can use other solvers). You will:\n",
    "* Run LASSO with different L1 penalties.\n",
    "* Choose best L1 penalty using a validation set.\n",
    "* Choose best L1 penalty using a validation set, with additional constraint on the size of subset.\n",
    "\n",
    "In the second notebook, you will implement your own LASSO solver, using coordinate descent. "
   ]
  },
  {
   "cell_type": "markdown",
   "metadata": {},
   "source": [
    "# Fire up graphlab create"
   ]
  },
  {
   "cell_type": "code",
   "execution_count": null,
   "metadata": {
    "collapsed": true
   },
   "outputs": [],
   "source": [
    "import graphlab"
   ]
  },
  {
   "cell_type": "markdown",
   "metadata": {},
   "source": [
    "# Load in house sales data\n",
    "\n",
    "Dataset is from house sales in King County, the region where the city of Seattle, WA is located."
   ]
  },
  {
   "cell_type": "code",
   "execution_count": null,
   "metadata": {
    "collapsed": false,
    "scrolled": true
   },
   "outputs": [],
   "source": [
    "sales = graphlab.SFrame('kc_house_data.gl/')"
   ]
  },
  {
   "cell_type": "markdown",
   "metadata": {},
   "source": [
    "# Create new features"
   ]
  },
  {
   "cell_type": "markdown",
   "metadata": {},
   "source": [
    "As in Week 2, we consider features that are some transformations of inputs."
   ]
  },
  {
   "cell_type": "code",
   "execution_count": null,
   "metadata": {
    "collapsed": true
   },
   "outputs": [],
   "source": [
    "from math import log, sqrt\n",
    "sales['sqft_living_sqrt'] = sales['sqft_living'].apply(sqrt)\n",
    "sales['sqft_lot_sqrt'] = sales['sqft_lot'].apply(sqrt)\n",
    "sales['bedrooms_square'] = sales['bedrooms']*sales['bedrooms']\n",
    "\n",
    "# In the dataset, 'floors' was defined with type string, \n",
    "# so we'll convert them to float, before creating a new feature.\n",
    "sales['floors'] = sales['floors'].astype(float) \n",
    "sales['floors_square'] = sales['floors']*sales['floors']"
   ]
  },
  {
   "cell_type": "markdown",
   "metadata": {},
   "source": [
    "* Squaring bedrooms will increase the separation between not many bedrooms (e.g. 1) and lots of bedrooms (e.g. 4) since 1^2 = 1 but 4^2 = 16. Consequently this variable will mostly affect houses with many bedrooms.\n",
    "* On the other hand, taking square root of sqft_living will decrease the separation between big house and small house. The owner may not be exactly twice as happy for getting a house that is twice as big."
   ]
  },
  {
   "cell_type": "markdown",
   "metadata": {},
   "source": [
    "# Learn regression weights with L1 penalty"
   ]
  },
  {
   "cell_type": "markdown",
   "metadata": {},
   "source": [
    "Let us fit a model with all the features available, plus the features we just created above."
   ]
  },
  {
   "cell_type": "code",
   "execution_count": null,
   "metadata": {
    "collapsed": false
   },
   "outputs": [],
   "source": [
    "all_features = ['bedrooms', 'bedrooms_square',\n",
    "            'bathrooms',\n",
    "            'sqft_living', 'sqft_living_sqrt',\n",
    "            'sqft_lot', 'sqft_lot_sqrt',\n",
    "            'floors', 'floors_square',\n",
    "            'waterfront', 'view', 'condition', 'grade',\n",
    "            'sqft_above',\n",
    "            'sqft_basement',\n",
    "            'yr_built', 'yr_renovated']"
   ]
  },
  {
   "cell_type": "markdown",
   "metadata": {},
   "source": [
    "Applying L1 penalty requires adding an extra parameter (`l1_penalty`) to the linear regression call in GraphLab Create. (Other tools may have separate implementations of LASSO.)  Note that it's important to set `l2_penalty=0` to ensure we don't introduce an additional L2 penalty."
   ]
  },
  {
   "cell_type": "code",
   "execution_count": null,
   "metadata": {
    "collapsed": false
   },
   "outputs": [],
   "source": [
    "model_all = graphlab.linear_regression.create(sales, target='price', features=all_features,\n",
    "                                              validation_set=None, \n",
    "                                              l2_penalty=0., l1_penalty=1e10)"
   ]
  },
  {
   "cell_type": "markdown",
   "metadata": {},
   "source": [
    "Find what features had non-zero weight."
   ]
  },
  {
   "cell_type": "code",
   "execution_count": null,
   "metadata": {
    "collapsed": true
   },
   "outputs": [],
   "source": []
  },
  {
   "cell_type": "markdown",
   "metadata": {},
   "source": [
    "Note that a majority of the weights have been set to zero. So by setting an L1 penalty that's large enough, we are performing a subset selection. \n",
    "\n",
    "***QUIZ QUESTION***:\n",
    "According to this list of weights, which of the features have been chosen? "
   ]
  },
  {
   "cell_type": "markdown",
   "metadata": {},
   "source": [
    "# Selecting an L1 penalty"
   ]
  },
  {
   "cell_type": "markdown",
   "metadata": {},
   "source": [
    "To find a good L1 penalty, we will explore multiple values using a validation set. Let us do three way split into train, validation, and test sets:\n",
    "* Split our sales data into 2 sets: training and test\n",
    "* Further split our training data into two sets: train, validation\n",
    "\n",
    "Be *very* careful that you use seed = 1 to ensure you get the same answer!"
   ]
  },
  {
   "cell_type": "code",
   "execution_count": null,
   "metadata": {
    "collapsed": true
   },
   "outputs": [],
   "source": [
    "(training_and_validation, testing) = sales.random_split(.9,seed=1) # initial train/test split\n",
    "(training, validation) = training_and_validation.random_split(0.5, seed=1) # split training into train and validate"
   ]
  },
  {
   "cell_type": "markdown",
   "metadata": {},
   "source": [
    "Next, we write a loop that does the following:\n",
    "* For `l1_penalty` in [10^1, 10^1.5, 10^2, 10^2.5, ..., 10^7] (to get this in Python, type `np.logspace(1, 7, num=13)`.)\n",
    "    * Fit a regression model with a given `l1_penalty` on TRAIN data. Specify `l1_penalty=l1_penalty` and `l2_penalty=0.` in the parameter list.\n",
    "    * Compute the RSS on VALIDATION data (here you will want to use `.predict()`) for that `l1_penalty`\n",
    "* Report which `l1_penalty` produced the lowest RSS on validation data.\n",
    "\n",
    "When you call `linear_regression.create()` make sure you set `validation_set = None`.\n",
    "\n",
    "Note: you can turn off the print out of `linear_regression.create()` with `verbose = False`"
   ]
  },
  {
   "cell_type": "code",
   "execution_count": null,
   "metadata": {
    "collapsed": true
   },
   "outputs": [],
   "source": []
  },
  {
   "cell_type": "code",
   "execution_count": null,
   "metadata": {
    "collapsed": false
   },
   "outputs": [],
   "source": []
  },
  {
   "cell_type": "markdown",
   "metadata": {},
   "source": [
    "*** QUIZ QUESTIONS ***\n",
    "1. What was the best value for the `l1_penalty`?\n",
    "2. What is the RSS on TEST data of the model with the best `l1_penalty`?"
   ]
  },
  {
   "cell_type": "code",
   "execution_count": null,
   "metadata": {
    "collapsed": false
   },
   "outputs": [],
   "source": []
  },
  {
   "cell_type": "markdown",
   "metadata": {},
   "source": [
    "***QUIZ QUESTION***\n",
    "Also, using this value of L1 penalty, how many nonzero weights do you have?"
   ]
  },
  {
   "cell_type": "code",
   "execution_count": null,
   "metadata": {
    "collapsed": false
   },
   "outputs": [],
   "source": []
  },
  {
   "cell_type": "markdown",
   "metadata": {},
   "source": [
    "# Limit the number of nonzero weights\n",
    "\n",
    "What if we absolutely wanted to limit ourselves to, say, 7 features? This may be important if we want to derive \"a rule of thumb\" --- an interpretable model that has only a few features in them."
   ]
  },
  {
   "cell_type": "markdown",
   "metadata": {},
   "source": [
    "In this section, you are going to implement a simple, two phase procedure to achive this goal:\n",
    "1. Explore a large range of `l1_penalty` values to find a narrow region of `l1_penalty` values where models are likely to have the desired number of non-zero weights.\n",
    "2. Further explore the narrow region you found to find a good value for `l1_penalty` that achieves the desired sparsity.  Here, we will again use a validation set to choose the best value for `l1_penalty`."
   ]
  },
  {
   "cell_type": "code",
   "execution_count": null,
   "metadata": {
    "collapsed": true
   },
   "outputs": [],
   "source": [
    "max_nonzeros = 7"
   ]
  },
  {
   "cell_type": "markdown",
   "metadata": {},
   "source": [
    "## Exploring the larger range of values to find a narrow range with the desired sparsity\n",
    "\n",
    "Let's define a wide range of possible `l1_penalty_values`:"
   ]
  },
  {
   "cell_type": "code",
   "execution_count": null,
   "metadata": {
    "collapsed": false
   },
   "outputs": [],
   "source": [
    "l1_penalty_values = np.logspace(8, 10, num=20)"
   ]
  },
  {
   "cell_type": "markdown",
   "metadata": {},
   "source": [
    "Now, implement a loop that search through this space of possible `l1_penalty` values:\n",
    "\n",
    "* For `l1_penalty` in `np.logspace(8, 10, num=20)`:\n",
    "    * Fit a regression model with a given `l1_penalty` on TRAIN data. Specify `l1_penalty=l1_penalty` and `l2_penalty=0.` in the parameter list. When you call `linear_regression.create()` make sure you set `validation_set = None`\n",
    "    * Extract the weights of the model and count the number of nonzeros. Save the number of nonzeros to a list.\n",
    "        * *Hint: `model['coefficients']['value']` gives you an SArray with the parameters you learned.  If you call the method `.nnz()` on it, you will find the number of non-zero parameters!* "
   ]
  },
  {
   "cell_type": "code",
   "execution_count": null,
   "metadata": {
    "collapsed": true
   },
   "outputs": [],
   "source": []
  },
  {
   "cell_type": "markdown",
   "metadata": {},
   "source": [
    "Out of this large range, we want to find the two ends of our desired narrow range of `l1_penalty`.  At one end, we will have `l1_penalty` values that have too few non-zeros, and at the other end, we will have an `l1_penalty` that has too many non-zeros.  \n",
    "\n",
    "More formally, find:\n",
    "* The largest `l1_penalty` that has more non-zeros than `max_nonzero` (if we pick a penalty smaller than this value, we will definitely have too many non-zero weights)\n",
    "    * Store this value in the variable `l1_penalty_min` (we will use it later)\n",
    "* The smallest `l1_penalty` that has fewer non-zeros than `max_nonzero` (if we pick a penalty larger than this value, we will definitely have too few non-zero weights)\n",
    "    * Store this value in the variable `l1_penalty_max` (we will use it later)\n",
    "\n",
    "\n",
    "*Hint: there are many ways to do this, e.g.:*\n",
    "* Programmatically within the loop above\n",
    "* Creating a list with the number of non-zeros for each value of `l1_penalty` and inspecting it to find the appropriate boundaries."
   ]
  },
  {
   "cell_type": "code",
   "execution_count": null,
   "metadata": {
    "collapsed": true
   },
   "outputs": [],
   "source": [
    "l1_penalty_min = \n",
    "l1_penalty_max = "
   ]
  },
  {
   "cell_type": "markdown",
   "metadata": {},
   "source": [
    "***QUIZ QUESTIONS***\n",
    "\n",
    "What values did you find for `l1_penalty_min` and`l1_penalty_max`? "
   ]
  },
  {
   "cell_type": "markdown",
   "metadata": {},
   "source": [
    "## Exploring the narrow range of values to find the solution with the right number of non-zeros that has lowest RSS on the validation set \n",
    "\n",
    "We will now explore the narrow region of `l1_penalty` values we found:"
   ]
  },
  {
   "cell_type": "code",
   "execution_count": null,
   "metadata": {
    "collapsed": true
   },
   "outputs": [],
   "source": [
    "l1_penalty_values = np.linspace(l1_penalty_min,l1_penalty_max,20)"
   ]
  },
  {
   "cell_type": "markdown",
   "metadata": {},
   "source": [
    "* For `l1_penalty` in `np.linspace(l1_penalty_min,l1_penalty_max,20)`:\n",
    "    * Fit a regression model with a given `l1_penalty` on TRAIN data. Specify `l1_penalty=l1_penalty` and `l2_penalty=0.` in the parameter list. When you call `linear_regression.create()` make sure you set `validation_set = None`\n",
    "    * Measure the RSS of the learned model on the VALIDATION set\n",
    "\n",
    "Find the model that the lowest RSS on the VALIDATION set and has sparsity *equal* to `max_nonzero`."
   ]
  },
  {
   "cell_type": "code",
   "execution_count": null,
   "metadata": {
    "collapsed": true
   },
   "outputs": [],
   "source": []
  },
  {
   "cell_type": "markdown",
   "metadata": {},
   "source": [
    "***QUIZ QUESTIONS***\n",
    "1. What value of `l1_penalty` in our narrow range has the lowest RSS on the VALIDATION set and has sparsity *equal* to `max_nonzeros`?\n",
    "2. What features in this model have non-zero coefficients?"
   ]
  },
  {
   "cell_type": "code",
   "execution_count": null,
   "metadata": {
    "collapsed": false
   },
   "outputs": [],
   "source": []
  },
  {
   "cell_type": "code",
   "execution_count": null,
   "metadata": {
    "collapsed": true
   },
   "outputs": [],
   "source": []
  },
  {
   "cell_type": "code",
   "execution_count": null,
   "metadata": {
    "collapsed": true
   },
   "outputs": [],
   "source": []
  },
  {
   "cell_type": "code",
   "execution_count": 7,
   "metadata": {
    "collapsed": false
   },
   "outputs": [
    {
     "name": "stdout",
     "output_type": "stream",
     "text": [
      "*** Learn regression weights with L1 penalty\n",
      "+------------------+-------+---------------+--------+\n",
      "|       name       | index |     value     | stderr |\n",
      "+------------------+-------+---------------+--------+\n",
      "|   (intercept)    |  None |  274873.05595 |  None  |\n",
      "|     bedrooms     |  None |      0.0      |  None  |\n",
      "| bedrooms_square  |  None |      0.0      |  None  |\n",
      "|    bathrooms     |  None | 8468.53108691 |  None  |\n",
      "|   sqft_living    |  None | 24.4207209824 |  None  |\n",
      "| sqft_living_sqrt |  None | 350.060553386 |  None  |\n",
      "|     sqft_lot     |  None |      0.0      |  None  |\n",
      "|  sqft_lot_sqrt   |  None |      0.0      |  None  |\n",
      "|      floors      |  None |      0.0      |  None  |\n",
      "|  floors_square   |  None |      0.0      |  None  |\n",
      "|    waterfront    |  None |      0.0      |  None  |\n",
      "|       view       |  None |      0.0      |  None  |\n",
      "|    condition     |  None |      0.0      |  None  |\n",
      "|      grade       |  None | 842.068034898 |  None  |\n",
      "|    sqft_above    |  None | 20.0247224171 |  None  |\n",
      "|  sqft_basement   |  None |      0.0      |  None  |\n",
      "|     yr_built     |  None |      0.0      |  None  |\n",
      "|   yr_renovated   |  None |      0.0      |  None  |\n",
      "+------------------+-------+---------------+--------+\n",
      "[18 rows x 4 columns]\n",
      "\n",
      "None\n",
      "+------------------+-------+---------------+--------+\n",
      "|       name       | index |     value     | stderr |\n",
      "+------------------+-------+---------------+--------+\n",
      "|   (intercept)    |  None |  274873.05595 |  None  |\n",
      "|    bathrooms     |  None | 8468.53108691 |  None  |\n",
      "|   sqft_living    |  None | 24.4207209824 |  None  |\n",
      "| sqft_living_sqrt |  None | 350.060553386 |  None  |\n",
      "|      grade       |  None | 842.068034898 |  None  |\n",
      "|    sqft_above    |  None | 20.0247224171 |  None  |\n",
      "+------------------+-------+---------------+--------+\n",
      "[? rows x 4 columns]\n",
      "Note: Only the head of the SFrame is printed. This SFrame is lazily evaluated.\n",
      "You can use len(sf) to force materialization.\n",
      "Number of non-zero coefficients: 6\n",
      "*** Selecting an L1 penalty\n",
      "l1_penalty = 10.000000, rss = 625766285142459.875000\n",
      "l1_penalty = 31.622777, rss = 625766285362394.125000\n",
      "l1_penalty = 100.000000, rss = 625766286057885.000000\n",
      "l1_penalty = 316.227766, rss = 625766288257224.625000\n",
      "l1_penalty = 1000.000000, rss = 625766295212186.750000\n",
      "l1_penalty = 3162.277660, rss = 625766317206080.500000\n",
      "l1_penalty = 10000.000000, rss = 625766386760658.125000\n",
      "l1_penalty = 31622.776602, rss = 625766606749278.500000\n",
      "l1_penalty = 100000.000000, rss = 625767302791634.125000\n",
      "l1_penalty = 316227.766017, rss = 625769507643886.250000\n",
      "l1_penalty = 1000000.000000, rss = 625776517727024.000000\n",
      "l1_penalty = 3162277.660168, rss = 625799062845467.000000\n",
      "l1_penalty = 10000000.000000, rss = 625883719085425.250000\n",
      "l1_penalty = 10.000000, rss = 625766285142459.875000\n",
      "l1_penalty = 31.622777, rss = 625766285362394.125000\n",
      "l1_penalty = 100.000000, rss = 625766286057885.000000\n",
      "l1_penalty = 316.227766, rss = 625766288257224.625000\n",
      "l1_penalty = 1000.000000, rss = 625766295212186.750000\n",
      "l1_penalty = 3162.277660, rss = 625766317206080.500000\n",
      "l1_penalty = 10000.000000, rss = 625766386760658.125000\n",
      "l1_penalty = 31622.776602, rss = 625766606749278.500000\n",
      "l1_penalty = 100000.000000, rss = 625767302791634.125000\n",
      "l1_penalty = 316227.766017, rss = 625769507643886.250000\n",
      "l1_penalty = 1000000.000000, rss = 625776517727024.000000\n",
      "l1_penalty = 3162277.660168, rss = 625799062845467.000000\n",
      "l1_penalty = 10000000.000000, rss = 625883719085425.250000\n",
      "best l1_penalty = 10.000000\n",
      "testing: l1_penalty = 10.000000, rss = 156983602381664.187500\n",
      "+------------------+-------+------------------+--------+\n",
      "|       name       | index |      value       | stderr |\n",
      "+------------------+-------+------------------+--------+\n",
      "|   (intercept)    |  None |  18993.4272128   |  None  |\n",
      "|     bedrooms     |  None |  7936.96767903   |  None  |\n",
      "| bedrooms_square  |  None |  936.993368193   |  None  |\n",
      "|    bathrooms     |  None |  25409.5889341   |  None  |\n",
      "|   sqft_living    |  None |  39.1151363797   |  None  |\n",
      "| sqft_living_sqrt |  None |  1124.65021281   |  None  |\n",
      "|     sqft_lot     |  None | 0.00348361822299 |  None  |\n",
      "|  sqft_lot_sqrt   |  None |  148.258391011   |  None  |\n",
      "|      floors      |  None |   21204.335467   |  None  |\n",
      "|  floors_square   |  None |  12915.5243361   |  None  |\n",
      "|    waterfront    |  None |  601905.594545   |  None  |\n",
      "|       view       |  None |  93312.8573119   |  None  |\n",
      "|    condition     |  None |  6609.03571245   |  None  |\n",
      "|      grade       |  None |  6206.93999188   |  None  |\n",
      "|    sqft_above    |  None |  43.2870534193   |  None  |\n",
      "|  sqft_basement   |  None |  122.367827534   |  None  |\n",
      "|     yr_built     |  None |  9.43363539372   |  None  |\n",
      "|   yr_renovated   |  None |  56.0720034488   |  None  |\n",
      "+------------------+-------+------------------+--------+\n",
      "[18 rows x 4 columns]\n",
      "\n",
      "Number of non-zero coefficients: 18\n",
      "+------------------+-------+------------------+--------+\n",
      "|       name       | index |      value       | stderr |\n",
      "+------------------+-------+------------------+--------+\n",
      "|   (intercept)    |  None |  18993.4272128   |  None  |\n",
      "|     bedrooms     |  None |  7936.96767903   |  None  |\n",
      "| bedrooms_square  |  None |  936.993368193   |  None  |\n",
      "|    bathrooms     |  None |  25409.5889341   |  None  |\n",
      "|   sqft_living    |  None |  39.1151363797   |  None  |\n",
      "| sqft_living_sqrt |  None |  1124.65021281   |  None  |\n",
      "|     sqft_lot     |  None | 0.00348361822299 |  None  |\n",
      "|  sqft_lot_sqrt   |  None |  148.258391011   |  None  |\n",
      "|      floors      |  None |   21204.335467   |  None  |\n",
      "|  floors_square   |  None |  12915.5243361   |  None  |\n",
      "+------------------+-------+------------------+--------+\n",
      "[18 rows x 4 columns]\n",
      "Note: Only the head of the SFrame is printed.\n",
      "You can use print_rows(num_rows=m, num_columns=n) to print more rows and columns.\n",
      "*** Limit the number of nonzero weights\n",
      "L1 penalty: 100000000.000000\n",
      "  Number of non-zero coefficients: 18\n",
      "L1 penalty: 127427498.570313\n",
      "  Number of non-zero coefficients: 18\n",
      "L1 penalty: 162377673.918872\n",
      "  Number of non-zero coefficients: 18\n",
      "L1 penalty: 206913808.111479\n",
      "  Number of non-zero coefficients: 18\n",
      "L1 penalty: 263665089.873036\n",
      "  Number of non-zero coefficients: 17\n",
      "L1 penalty: 335981828.628379\n",
      "  Number of non-zero coefficients: 17\n",
      "L1 penalty: 428133239.871940\n",
      "  Number of non-zero coefficients: 17\n",
      "L1 penalty: 545559478.116851\n",
      "  Number of non-zero coefficients: 17\n",
      "L1 penalty: 695192796.177559\n",
      "  Number of non-zero coefficients: 17\n",
      "L1 penalty: 885866790.410083\n",
      "  Number of non-zero coefficients: 16\n",
      "L1 penalty: 1128837891.684688\n",
      "  Number of non-zero coefficients: 15\n",
      "L1 penalty: 1438449888.287666\n",
      "  Number of non-zero coefficients: 15\n",
      "L1 penalty: 1832980710.832438\n",
      "  Number of non-zero coefficients: 13\n",
      "L1 penalty: 2335721469.090121\n",
      "  Number of non-zero coefficients: 12\n",
      "L1 penalty: 2976351441.631313\n",
      "  Number of non-zero coefficients: 10\n",
      "L1 penalty: 3792690190.732254\n",
      "  Number of non-zero coefficients: 6\n",
      "L1 penalty: 4832930238.571753\n",
      "  Number of non-zero coefficients: 5\n",
      "L1 penalty: 6158482110.660254\n",
      "  Number of non-zero coefficients: 3\n",
      "L1 penalty: 7847599703.514623\n",
      "  Number of non-zero coefficients: 1\n",
      "L1 penalty: 10000000000.000000\n",
      "  Number of non-zero coefficients: 1\n",
      "Max L1 penalty: 3792690190.732254\n",
      "Min L1 penalty: 2976351441.631313\n",
      "*** Exploring the narrow range of values to find the solution with the right number of non-zeros that has lowest RSS on the validation set\n",
      "L1 penalty: 2976351441.631313\n",
      "  Number of non-zero coefficients: 10\n",
      "  Sparsity: 8\n",
      "L1 penalty: 3019316638.952415\n",
      "  Number of non-zero coefficients: 10\n",
      "  Sparsity: 8\n",
      "L1 penalty: 3062281836.273518\n",
      "  Number of non-zero coefficients: 10\n",
      "  Sparsity: 8\n",
      "L1 penalty: 3105247033.594620\n",
      "  Number of non-zero coefficients: 10\n",
      "  Sparsity: 8\n",
      "L1 penalty: 3148212230.915722\n",
      "  Number of non-zero coefficients: 10\n",
      "  Sparsity: 8\n",
      "L1 penalty: 3191177428.236824\n",
      "  Number of non-zero coefficients: 10\n",
      "  Sparsity: 8\n",
      "L1 penalty: 3234142625.557926\n",
      "  Number of non-zero coefficients: 10\n",
      "  Sparsity: 8\n",
      "L1 penalty: 3277107822.879028\n",
      "  Number of non-zero coefficients: 10\n",
      "  Sparsity: 8\n",
      "L1 penalty: 3320073020.200130\n",
      "  Number of non-zero coefficients: 8\n",
      "  Sparsity: 10\n",
      "L1 penalty: 3363038217.521233\n",
      "  Number of non-zero coefficients: 8\n",
      "  Sparsity: 10\n",
      "L1 penalty: 3406003414.842335\n",
      "  Number of non-zero coefficients: 8\n",
      "  Sparsity: 10\n",
      "L1 penalty: 3448968612.163437\n",
      "  Number of non-zero coefficients: 7\n",
      "  Sparsity: 11\n",
      "  Validation RSS = 1046937488751711.125000\n",
      "L1 penalty: 3491933809.484539\n",
      "  Number of non-zero coefficients: 7\n",
      "  Sparsity: 11\n",
      "  Validation RSS = 1051147625612860.875000\n",
      "L1 penalty: 3534899006.805641\n",
      "  Number of non-zero coefficients: 7\n",
      "  Sparsity: 11\n",
      "  Validation RSS = 1055992735342999.125000\n",
      "L1 penalty: 3577864204.126743\n",
      "  Number of non-zero coefficients: 7\n",
      "  Sparsity: 11\n",
      "  Validation RSS = 1060799531763287.750000\n",
      "L1 penalty: 3620829401.447845\n",
      "  Number of non-zero coefficients: 6\n",
      "  Sparsity: 12\n",
      "L1 penalty: 3663794598.768947\n",
      "  Number of non-zero coefficients: 6\n",
      "  Sparsity: 12\n",
      "L1 penalty: 3706759796.090049\n",
      "  Number of non-zero coefficients: 6\n",
      "  Sparsity: 12\n",
      "L1 penalty: 3749724993.411151\n",
      "  Number of non-zero coefficients: 6\n",
      "  Sparsity: 12\n",
      "L1 penalty: 3792690190.732254\n",
      "  Number of non-zero coefficients: 6\n",
      "  Sparsity: 12\n",
      "Best L1 penalty = 3448968612.163437\n",
      "RSS = 1046937488751711.125000\n",
      "testing: l1_penalty = 3448968612.163437, rss = 243048850729974.687500\n",
      "+------------------+-------+---------------+--------+\n",
      "|       name       | index |     value     | stderr |\n",
      "+------------------+-------+---------------+--------+\n",
      "|   (intercept)    |  None | 222253.192544 |  None  |\n",
      "|     bedrooms     |  None | 661.722717782 |  None  |\n",
      "|    bathrooms     |  None | 15873.9572593 |  None  |\n",
      "|   sqft_living    |  None | 32.4102214513 |  None  |\n",
      "| sqft_living_sqrt |  None | 690.114773313 |  None  |\n",
      "|      grade       |  None | 2899.42026975 |  None  |\n",
      "|    sqft_above    |  None | 30.0115753022 |  None  |\n",
      "+------------------+-------+---------------+--------+\n",
      "[? rows x 4 columns]\n",
      "Note: Only the head of the SFrame is printed. This SFrame is lazily evaluated.\n",
      "You can use len(sf) to force materialization.\n"
     ]
    }
   ],
   "source": [
    "def get_residual_sum_of_squares(model, data, outcome):\n",
    "    RSS = None\n",
    "    data['prediction'] = model.predict(data)\n",
    "    data['error'] = outcome - data['prediction']\n",
    "    error_sq = data['error'] * data['error']\n",
    "    RSS = error_sq.sum()\n",
    "    return(RSS)\n",
    "\n",
    "import graphlab\n",
    "\n",
    "from math import log, sqrt\n",
    "\n",
    "import sys\n",
    "\n",
    "import numpy as np\n",
    "\n",
    "sales = graphlab.SFrame('kc_house_data.gl/')\n",
    "\n",
    "sales['sqft_living_sqrt'] = sales['sqft_living'].apply(sqrt)\n",
    "sales['sqft_lot_sqrt'] = sales['sqft_lot'].apply(sqrt)\n",
    "sales['bedrooms_square'] = sales['bedrooms']*sales['bedrooms']\n",
    "\n",
    "# In the dataset, 'floors' was defined with type string, \n",
    "# so we'll convert them to float, before creating a new feature.\n",
    "sales['floors'] = sales['floors'].astype(float) \n",
    "sales['floors_square'] = sales['floors']*sales['floors']\n",
    "\n",
    "# -------------------------------------\n",
    "# Learn regression weights with L1 penalty\n",
    "# -------------------------------------\n",
    "print(\"*** Learn regression weights with L1 penalty\")\n",
    "all_features = ['bedrooms', 'bedrooms_square',\n",
    "            'bathrooms',\n",
    "            'sqft_living', 'sqft_living_sqrt',\n",
    "            'sqft_lot', 'sqft_lot_sqrt',\n",
    "            'floors', 'floors_square',\n",
    "            'waterfront', 'view', 'condition', 'grade',\n",
    "            'sqft_above',\n",
    "            'sqft_basement',\n",
    "            'yr_built', 'yr_renovated']\n",
    "\n",
    "model_all = graphlab.linear_regression.create(sales, target='price', features=all_features,\n",
    "                                              validation_set=None, \n",
    "                                              l2_penalty=0., l1_penalty=1e10,\n",
    "                                              verbose=False)\n",
    "\n",
    "coef = model_all.get(\"coefficients\")\n",
    "print coef.print_rows(num_rows=18, num_columns=4)\n",
    "print coef[coef[\"value\"]!=0]\n",
    "print \"Number of non-zero coefficients: %d\" % len(coef[coef[\"value\"]!=0])\n",
    "\n",
    "# -------------------------------------\n",
    "# Selecting an L1 penalty\n",
    "# -------------------------------------\n",
    "print(\"*** Selecting an L1 penalty\")\n",
    "(training_and_validation, testing) = sales.random_split(.9,seed=1) # initial train/test split\n",
    "(training, validation) = training_and_validation.random_split(0.5, seed=1) # split training into train and validate\n",
    "\n",
    "result = []\n",
    "lowest_rss = None\n",
    "best_l1_penalty = None\n",
    "best_model = None\n",
    "for l1_penalty in np.logspace(1,7,num=13):\n",
    "    model = graphlab.linear_regression.create(training, target='price', features=all_features,\n",
    "                                              validation_set=None, \n",
    "                                              l2_penalty=0., l1_penalty=l1_penalty,\n",
    "                                              verbose=False)\n",
    "    rss = get_residual_sum_of_squares(model, validation, validation['price'])\n",
    "    print(\"l1_penalty = %f, rss = %f\" % (l1_penalty, rss))\n",
    "    result.append(\"l1_penalty = %f, rss = %f\" % (l1_penalty, rss))\n",
    "    if lowest_rss is None:\n",
    "        lowest_rss = rss\n",
    "        best_l1_penalty = l1_penalty\n",
    "        best_model = model\n",
    "    if rss < lowest_rss:\n",
    "        lowest_rss = rss\n",
    "        best_l1_penalty = l1_penalty\n",
    "        best_model = model\n",
    "\n",
    "for r in result:\n",
    "    print(r)\n",
    "\n",
    "print \"best l1_penalty = %f\" % best_l1_penalty\n",
    "\n",
    "rss = get_residual_sum_of_squares(best_model, testing, testing['price'])\n",
    "\n",
    "print(\"testing: l1_penalty = %f, rss = %f\" % (best_l1_penalty, rss))\n",
    "coef = best_model.get(\"coefficients\")\n",
    "coef.print_rows(num_rows=18, num_columns=4)\n",
    "nonzero_coef = coef[coef[\"value\"]!=0]\n",
    "print \"Number of non-zero coefficients: %d\" % len(nonzero_coef)\n",
    "print nonzero_coef\n",
    "\n",
    "# -------------------------------------\n",
    "# Limit the number of nonzero weights\n",
    "# -------------------------------------\n",
    "print(\"*** Limit the number of nonzero weights\")\n",
    "\n",
    "max_nonzeros = 7\n",
    "\n",
    "l1_penalty_min = None\n",
    "l1_penalty_max = None\n",
    "l1_penalty_values = np.logspace(8, 10, num=20)\n",
    "for l1_penalty in l1_penalty_values:\n",
    "    model = graphlab.linear_regression.create(training, target='price', features=all_features,\n",
    "                                              validation_set=None, \n",
    "                                              l2_penalty=0., l1_penalty=l1_penalty,\n",
    "                                              verbose=False)\n",
    "    coef = model.get(\"coefficients\")\n",
    "#    print coef[coef[\"value\"]!=0]\n",
    "    nonzero_coef = coef[coef[\"value\"]!=0]\n",
    "    print(\"L1 penalty: %f\" % l1_penalty)\n",
    "    print(\"  Number of non-zero coefficients: %d\" % len(nonzero_coef[\"value\"]))\n",
    "\n",
    "    if len(nonzero_coef[\"value\"]) > max_nonzeros:\n",
    "        l1_penalty_min = l1_penalty\n",
    "\n",
    "    if l1_penalty_max is None and len(nonzero_coef[\"value\"]) < max_nonzeros:\n",
    "        l1_penalty_max = l1_penalty\n",
    "\n",
    "print(\"Max L1 penalty: %f\" % l1_penalty_max)\n",
    "print(\"Min L1 penalty: %f\" % l1_penalty_min)\n",
    "\n",
    "# -------------------------------------\n",
    "# Exploring the narrow range of values to find the solution with the right number of non-zeros that has lowest RSS on the validation set\n",
    "# -------------------------------------\n",
    "print(\"*** Exploring the narrow range of values to find the solution with the right number of non-zeros that has lowest RSS on the validation set\")\n",
    "\n",
    "l1_penalty_values = np.linspace(l1_penalty_min,l1_penalty_max,20)\n",
    "\n",
    "result = []\n",
    "lowest_rss = None\n",
    "best_l1_penalty = None\n",
    "best_model = None\n",
    "for l1_penalty in l1_penalty_values:\n",
    "    model = graphlab.linear_regression.create(training, target='price', features=all_features,\n",
    "                                              validation_set=None, \n",
    "                                              l2_penalty=0., l1_penalty=l1_penalty, verbose=False)\n",
    "\n",
    "    coef = model.get(\"coefficients\")\n",
    "#    print coef[coef[\"value\"]!=0]\n",
    "    nonzero_coef = coef[coef[\"value\"]!=0]\n",
    "    print(\"L1 penalty: %f\" % l1_penalty)\n",
    "    print(\"  Number of non-zero coefficients: %d\" % len(nonzero_coef[\"value\"]))\n",
    "    sparsity = len(coef[\"value\"]) - len(nonzero_coef[\"value\"])\n",
    "    print(\"  Sparsity: %d\" % sparsity)\n",
    "\n",
    "    if len(nonzero_coef[\"value\"]) == max_nonzeros:\n",
    "        rss = get_residual_sum_of_squares(model, validation, validation['price'])\n",
    "        print(\"  Validation RSS = %f\" % rss)\n",
    "        if lowest_rss is None:\n",
    "            lowest_rss = rss\n",
    "            best_l1_penalty = l1_penalty\n",
    "            best_model = model\n",
    "        if rss < lowest_rss:\n",
    "            lowest_rss = rss\n",
    "            best_l1_penalty = l1_penalty\n",
    "            best_model = model\n",
    "\n",
    "for r in result:\n",
    "    print(r)\n",
    "\n",
    "print \"Best L1 penalty = %f\" % best_l1_penalty\n",
    "print \"RSS = %f\" % lowest_rss\n",
    "\n",
    "rss = get_residual_sum_of_squares(best_model, testing, testing['price'])\n",
    "\n",
    "print(\"testing: l1_penalty = %f, rss = %f\" % (best_l1_penalty, rss))\n",
    "coef = best_model.get(\"coefficients\")\n",
    "print coef[coef[\"value\"]!=0]"
   ]
  },
  {
   "cell_type": "code",
   "execution_count": 5,
   "metadata": {
    "collapsed": false
   },
   "outputs": [
    {
     "name": "stdout",
     "output_type": "stream",
     "text": [
      "+------------------+-------+---------------+--------+\n",
      "|       name       | index |     value     | stderr |\n",
      "+------------------+-------+---------------+--------+\n",
      "|   (intercept)    |  None | 222253.192544 |  None  |\n",
      "|     bedrooms     |  None | 661.722717782 |  None  |\n",
      "| bedrooms_square  |  None |      0.0      |  None  |\n",
      "|    bathrooms     |  None | 15873.9572593 |  None  |\n",
      "|   sqft_living    |  None | 32.4102214513 |  None  |\n",
      "| sqft_living_sqrt |  None | 690.114773313 |  None  |\n",
      "|     sqft_lot     |  None |      0.0      |  None  |\n",
      "|  sqft_lot_sqrt   |  None |      0.0      |  None  |\n",
      "|      floors      |  None |      0.0      |  None  |\n",
      "|  floors_square   |  None |      0.0      |  None  |\n",
      "|    waterfront    |  None |      0.0      |  None  |\n",
      "|       view       |  None |      0.0      |  None  |\n",
      "|    condition     |  None |      0.0      |  None  |\n",
      "|      grade       |  None | 2899.42026975 |  None  |\n",
      "|    sqft_above    |  None | 30.0115753022 |  None  |\n",
      "|  sqft_basement   |  None |      0.0      |  None  |\n",
      "|     yr_built     |  None |      0.0      |  None  |\n",
      "|   yr_renovated   |  None |      0.0      |  None  |\n",
      "+------------------+-------+---------------+--------+\n",
      "[18 rows x 4 columns]\n",
      "\n"
     ]
    }
   ],
   "source": [
    "coef.print_rows(num_rows=18, num_columns=4)"
   ]
  },
  {
   "cell_type": "code",
   "execution_count": 8,
   "metadata": {
    "collapsed": false
   },
   "outputs": [
    {
     "name": "stdout",
     "output_type": "stream",
     "text": [
      "*** Limit the number of nonzero weights\n",
      "L1 penalty: 100000000.000000\n",
      "  Number of non-zero coefficients: 18\n",
      "L1 penalty: 127427498.570313\n",
      "  Number of non-zero coefficients: 18\n",
      "L1 penalty: 162377673.918872\n",
      "  Number of non-zero coefficients: 18\n",
      "L1 penalty: 206913808.111479\n",
      "  Number of non-zero coefficients: 18\n",
      "L1 penalty: 263665089.873036\n",
      "  Number of non-zero coefficients: 17\n",
      "L1 penalty: 335981828.628379\n",
      "  Number of non-zero coefficients: 17\n",
      "L1 penalty: 428133239.871940\n",
      "  Number of non-zero coefficients: 17\n",
      "L1 penalty: 545559478.116851\n",
      "  Number of non-zero coefficients: 17\n",
      "L1 penalty: 695192796.177559\n",
      "  Number of non-zero coefficients: 17\n",
      "L1 penalty: 885866790.410083\n",
      "  Number of non-zero coefficients: 16\n",
      "L1 penalty: 1128837891.684688\n",
      "  Number of non-zero coefficients: 15\n",
      "L1 penalty: 1438449888.287666\n",
      "  Number of non-zero coefficients: 15\n",
      "L1 penalty: 1832980710.832438\n",
      "  Number of non-zero coefficients: 13\n",
      "L1 penalty: 2335721469.090121\n",
      "  Number of non-zero coefficients: 12\n",
      "L1 penalty: 2976351441.631313\n",
      "  Number of non-zero coefficients: 10\n",
      "L1 penalty: 3792690190.732254\n",
      "  Number of non-zero coefficients: 6\n",
      "L1 penalty: 4832930238.571753\n",
      "  Number of non-zero coefficients: 5\n",
      "L1 penalty: 6158482110.660254\n",
      "  Number of non-zero coefficients: 3\n",
      "L1 penalty: 7847599703.514623\n",
      "  Number of non-zero coefficients: 1\n",
      "L1 penalty: 10000000000.000000\n",
      "  Number of non-zero coefficients: 1\n",
      "Max L1 penalty: 3792690190.732254\n",
      "Min L1 penalty: 2976351441.631313\n"
     ]
    }
   ],
   "source": [
    "print(\"*** Limit the number of nonzero weights\")\n",
    "\n",
    "max_nonzeros = 7\n",
    "\n",
    "l1_penalty_min = None\n",
    "l1_penalty_max = None\n",
    "l1_penalty_values = np.logspace(8, 10, num=20)\n",
    "for l1_penalty in l1_penalty_values:\n",
    "    model = graphlab.linear_regression.create(training, target='price', features=all_features,\n",
    "                                              validation_set=None, \n",
    "                                              l2_penalty=0., l1_penalty=l1_penalty,\n",
    "                                              verbose=False)\n",
    "    coef = model.get(\"coefficients\")\n",
    "#    print coef[coef[\"value\"]!=0]\n",
    "    nonzero_coef = coef[coef[\"value\"]!=0]\n",
    "    print(\"L1 penalty: %f\" % l1_penalty)\n",
    "    print(\"  Number of non-zero coefficients: %d\" % len(nonzero_coef[\"value\"]))\n",
    "\n",
    "    if len(nonzero_coef[\"value\"]) > max_nonzeros:\n",
    "        l1_penalty_min = l1_penalty\n",
    "\n",
    "    if l1_penalty_max is None and len(nonzero_coef[\"value\"]) < max_nonzeros:\n",
    "        l1_penalty_max = l1_penalty\n",
    "\n",
    "print(\"Max L1 penalty: %f\" % l1_penalty_max)\n",
    "print(\"Min L1 penalty: %f\" % l1_penalty_min)"
   ]
  },
  {
   "cell_type": "code",
   "execution_count": 9,
   "metadata": {
    "collapsed": false
   },
   "outputs": [
    {
     "name": "stdout",
     "output_type": "stream",
     "text": [
      "*** Exploring the narrow range of values to find the solution with the right number of non-zeros that has lowest RSS on the validation set\n",
      "L1 penalty: 2976351441.631313\n",
      "  Number of non-zero coefficients: 10\n",
      "  Sparsity: 8\n",
      "L1 penalty: 3019316638.952415\n",
      "  Number of non-zero coefficients: 10\n",
      "  Sparsity: 8\n",
      "L1 penalty: 3062281836.273518\n",
      "  Number of non-zero coefficients: 10\n",
      "  Sparsity: 8\n",
      "L1 penalty: 3105247033.594620\n",
      "  Number of non-zero coefficients: 10\n",
      "  Sparsity: 8\n",
      "L1 penalty: 3148212230.915722\n",
      "  Number of non-zero coefficients: 10\n",
      "  Sparsity: 8\n",
      "L1 penalty: 3191177428.236824\n",
      "  Number of non-zero coefficients: 10\n",
      "  Sparsity: 8\n",
      "L1 penalty: 3234142625.557926\n",
      "  Number of non-zero coefficients: 10\n",
      "  Sparsity: 8\n",
      "L1 penalty: 3277107822.879028\n",
      "  Number of non-zero coefficients: 10\n",
      "  Sparsity: 8\n",
      "L1 penalty: 3320073020.200130\n",
      "  Number of non-zero coefficients: 8\n",
      "  Sparsity: 10\n",
      "L1 penalty: 3363038217.521233\n",
      "  Number of non-zero coefficients: 8\n",
      "  Sparsity: 10\n",
      "L1 penalty: 3406003414.842335\n",
      "  Number of non-zero coefficients: 8\n",
      "  Sparsity: 10\n",
      "L1 penalty: 3448968612.163437\n",
      "  Number of non-zero coefficients: 7\n",
      "  Sparsity: 11\n",
      "  Validation RSS = 1046937488751711.125000\n",
      "L1 penalty: 3491933809.484539\n",
      "  Number of non-zero coefficients: 7\n",
      "  Sparsity: 11\n",
      "  Validation RSS = 1051147625612860.875000\n",
      "L1 penalty: 3534899006.805641\n",
      "  Number of non-zero coefficients: 7\n",
      "  Sparsity: 11\n",
      "  Validation RSS = 1055992735342999.125000\n",
      "L1 penalty: 3577864204.126743\n",
      "  Number of non-zero coefficients: 7\n",
      "  Sparsity: 11\n",
      "  Validation RSS = 1060799531763287.750000\n",
      "L1 penalty: 3620829401.447845\n",
      "  Number of non-zero coefficients: 6\n",
      "  Sparsity: 12\n",
      "L1 penalty: 3663794598.768947\n",
      "  Number of non-zero coefficients: 6\n",
      "  Sparsity: 12\n",
      "L1 penalty: 3706759796.090049\n",
      "  Number of non-zero coefficients: 6\n",
      "  Sparsity: 12\n",
      "L1 penalty: 3749724993.411151\n",
      "  Number of non-zero coefficients: 6\n",
      "  Sparsity: 12\n",
      "L1 penalty: 3792690190.732254\n",
      "  Number of non-zero coefficients: 6\n",
      "  Sparsity: 12\n",
      "Best L1 penalty = 3448968612.163437\n",
      "RSS = 1046937488751711.125000\n",
      "testing: l1_penalty = 3448968612.163437, rss = 243048850729974.687500\n",
      "+------------------+-------+---------------+--------+\n",
      "|       name       | index |     value     | stderr |\n",
      "+------------------+-------+---------------+--------+\n",
      "|   (intercept)    |  None | 222253.192544 |  None  |\n",
      "|     bedrooms     |  None | 661.722717782 |  None  |\n",
      "|    bathrooms     |  None | 15873.9572593 |  None  |\n",
      "|   sqft_living    |  None | 32.4102214513 |  None  |\n",
      "| sqft_living_sqrt |  None | 690.114773313 |  None  |\n",
      "|      grade       |  None | 2899.42026975 |  None  |\n",
      "|    sqft_above    |  None | 30.0115753022 |  None  |\n",
      "+------------------+-------+---------------+--------+\n",
      "[? rows x 4 columns]\n",
      "Note: Only the head of the SFrame is printed. This SFrame is lazily evaluated.\n",
      "You can use len(sf) to force materialization.\n"
     ]
    }
   ],
   "source": [
    "print(\"*** Exploring the narrow range of values to find the solution with the right number of non-zeros that has lowest RSS on the validation set\")\n",
    "\n",
    "l1_penalty_values = np.linspace(l1_penalty_min,l1_penalty_max,20)\n",
    "\n",
    "result = []\n",
    "lowest_rss = None\n",
    "best_l1_penalty = None\n",
    "best_model = None\n",
    "for l1_penalty in l1_penalty_values:\n",
    "    model = graphlab.linear_regression.create(training, target='price', features=all_features,\n",
    "                                              validation_set=None, \n",
    "                                              l2_penalty=0., l1_penalty=l1_penalty, verbose=False)\n",
    "\n",
    "    coef = model.get(\"coefficients\")\n",
    "#    print coef[coef[\"value\"]!=0]\n",
    "    nonzero_coef = coef[coef[\"value\"]!=0]\n",
    "    print(\"L1 penalty: %f\" % l1_penalty)\n",
    "    print(\"  Number of non-zero coefficients: %d\" % len(nonzero_coef[\"value\"]))\n",
    "    sparsity = len(coef[\"value\"]) - len(nonzero_coef[\"value\"])\n",
    "    print(\"  Sparsity: %d\" % sparsity)\n",
    "\n",
    "    if len(nonzero_coef[\"value\"]) == max_nonzeros:\n",
    "        rss = get_residual_sum_of_squares(model, validation, validation['price'])\n",
    "        print(\"  Validation RSS = %f\" % rss)\n",
    "        if lowest_rss is None:\n",
    "            lowest_rss = rss\n",
    "            best_l1_penalty = l1_penalty\n",
    "            best_model = model\n",
    "        if rss < lowest_rss:\n",
    "            lowest_rss = rss\n",
    "            best_l1_penalty = l1_penalty\n",
    "            best_model = model\n",
    "\n",
    "for r in result:\n",
    "    print(r)\n",
    "\n",
    "print \"Best L1 penalty = %f\" % best_l1_penalty\n",
    "print \"RSS = %f\" % lowest_rss\n",
    "\n",
    "rss = get_residual_sum_of_squares(best_model, testing, testing['price'])\n",
    "\n",
    "print(\"testing: l1_penalty = %f, rss = %f\" % (best_l1_penalty, rss))\n",
    "coef = best_model.get(\"coefficients\")\n",
    "print coef[coef[\"value\"]!=0]"
   ]
  },
  {
   "cell_type": "code",
   "execution_count": null,
   "metadata": {
    "collapsed": true
   },
   "outputs": [],
   "source": []
  }
 ],
 "metadata": {
  "kernelspec": {
   "display_name": "Python 2",
   "language": "python",
   "name": "python2"
  },
  "language_info": {
   "codemirror_mode": {
    "name": "ipython",
    "version": 2
   },
   "file_extension": ".py",
   "mimetype": "text/x-python",
   "name": "python",
   "nbconvert_exporter": "python",
   "pygments_lexer": "ipython2",
   "version": "2.7.10"
  }
 },
 "nbformat": 4,
 "nbformat_minor": 0
}
