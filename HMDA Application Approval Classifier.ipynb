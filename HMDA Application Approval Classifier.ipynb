{
 "cells": [
  {
   "cell_type": "markdown",
   "metadata": {},
   "source": [
    "#### Load data & filter for Conventional Loan - NY only"
   ]
  },
  {
   "cell_type": "code",
   "execution_count": 145,
   "metadata": {
    "collapsed": true
   },
   "outputs": [],
   "source": [
    "import numpy as np\n",
    "import pandas as pd\n",
    "import zipfile"
   ]
  },
  {
   "cell_type": "code",
   "execution_count": 2,
   "metadata": {},
   "outputs": [
    {
     "name": "stderr",
     "output_type": "stream",
     "text": [
      "/Users/Lydia/anaconda/envs/tensorflow/lib/python3.5/site-packages/IPython/core/interactiveshell.py:2698: DtypeWarning: Columns (15,16,17,32,33,34) have mixed types. Specify dtype option on import or set low_memory=False.\n",
      "  interactivity=interactivity, compiler=compiler, result=result)\n"
     ]
    }
   ],
   "source": [
    "zf = zipfile.ZipFile(\"hmda_lar.zip\", \"r\")\n",
    "data = pd.read_csv(zf.open(\"hmda_lar.csv\"))"
   ]
  },
  {
   "cell_type": "code",
   "execution_count": 74,
   "metadata": {
    "collapsed": true
   },
   "outputs": [],
   "source": [
    "data_conv = data[data[\"loan_type\"] == 1]"
   ]
  },
  {
   "cell_type": "code",
   "execution_count": 75,
   "metadata": {
    "collapsed": true
   },
   "outputs": [],
   "source": [
    "NY_data = data_conv[data_conv[\"state_abbr\"] == \"NY\"]"
   ]
  },
  {
   "cell_type": "code",
   "execution_count": 76,
   "metadata": {},
   "outputs": [
    {
     "data": {
      "text/plain": [
       "(337707, 78)"
      ]
     },
     "execution_count": 76,
     "metadata": {},
     "output_type": "execute_result"
    }
   ],
   "source": [
    "NY_data.shape"
   ]
  },
  {
   "cell_type": "code",
   "execution_count": 6,
   "metadata": {
    "collapsed": true
   },
   "outputs": [],
   "source": [
    "NY_data.to_csv(\"NY_data.csv\", sep=',')"
   ]
  },
  {
   "cell_type": "markdown",
   "metadata": {},
   "source": [
    "Since \"_name\" columns service as explaination for colmns with number in column names, remove them from dataframe."
   ]
  },
  {
   "cell_type": "code",
   "execution_count": 77,
   "metadata": {
    "collapsed": true
   },
   "outputs": [],
   "source": [
    "clean_col = [name for name in NY_data.columns if \"_name\" not in name]"
   ]
  },
  {
   "cell_type": "code",
   "execution_count": 78,
   "metadata": {},
   "outputs": [
    {
     "name": "stdout",
     "output_type": "stream",
     "text": [
      "['action_taken', 'agency_code', 'agency_abbr', 'applicant_ethnicity', 'applicant_income_000s', 'applicant_race_1', 'applicant_race_2', 'applicant_race_3', 'applicant_race_4', 'applicant_race_5', 'applicant_sex', 'application_date_indicator', 'as_of_year', 'census_tract_number', 'co_applicant_ethnicity', 'co_applicant_race_1', 'co_applicant_race_2', 'co_applicant_race_3', 'co_applicant_race_4', 'co_applicant_race_5', 'co_applicant_sex', 'county_code', 'denial_reason_1', 'denial_reason_2', 'denial_reason_3', 'edit_status', 'hoepa_status', 'lien_status', 'loan_purpose', 'loan_type', 'msamd', 'owner_occupancy', 'preapproval', 'property_type', 'purchaser_type', 'respondent_id', 'sequence_number', 'state_code', 'state_abbr', 'hud_median_family_income', 'loan_amount_000s', 'number_of_1_to_4_family_units', 'number_of_owner_occupied_units', 'minority_population', 'population', 'rate_spread', 'tract_to_msamd_income']\n"
     ]
    }
   ],
   "source": [
    "type(clean_col)\n",
    "print(clean_col)"
   ]
  },
  {
   "cell_type": "code",
   "execution_count": 79,
   "metadata": {},
   "outputs": [],
   "source": [
    "clean_col.remove(\"agency_code\")"
   ]
  },
  {
   "cell_type": "code",
   "execution_count": 80,
   "metadata": {},
   "outputs": [],
   "source": [
    "clean_col.remove(\"state_code\")"
   ]
  },
  {
   "cell_type": "code",
   "execution_count": 81,
   "metadata": {
    "collapsed": true
   },
   "outputs": [],
   "source": [
    "NY_data = NY_data[clean_col]"
   ]
  },
  {
   "cell_type": "code",
   "execution_count": 82,
   "metadata": {},
   "outputs": [
    {
     "data": {
      "text/html": [
       "<div>\n",
       "<style>\n",
       "    .dataframe thead tr:only-child th {\n",
       "        text-align: right;\n",
       "    }\n",
       "\n",
       "    .dataframe thead th {\n",
       "        text-align: left;\n",
       "    }\n",
       "\n",
       "    .dataframe tbody tr th {\n",
       "        vertical-align: top;\n",
       "    }\n",
       "</style>\n",
       "<table border=\"1\" class=\"dataframe\">\n",
       "  <thead>\n",
       "    <tr style=\"text-align: right;\">\n",
       "      <th></th>\n",
       "      <th>action_taken</th>\n",
       "      <th>agency_abbr</th>\n",
       "      <th>applicant_ethnicity</th>\n",
       "      <th>applicant_income_000s</th>\n",
       "      <th>applicant_race_1</th>\n",
       "      <th>applicant_race_2</th>\n",
       "      <th>applicant_race_3</th>\n",
       "      <th>applicant_race_4</th>\n",
       "      <th>applicant_race_5</th>\n",
       "      <th>applicant_sex</th>\n",
       "      <th>...</th>\n",
       "      <th>sequence_number</th>\n",
       "      <th>state_abbr</th>\n",
       "      <th>hud_median_family_income</th>\n",
       "      <th>loan_amount_000s</th>\n",
       "      <th>number_of_1_to_4_family_units</th>\n",
       "      <th>number_of_owner_occupied_units</th>\n",
       "      <th>minority_population</th>\n",
       "      <th>population</th>\n",
       "      <th>rate_spread</th>\n",
       "      <th>tract_to_msamd_income</th>\n",
       "    </tr>\n",
       "  </thead>\n",
       "  <tbody>\n",
       "    <tr>\n",
       "      <th>6</th>\n",
       "      <td>1</td>\n",
       "      <td>CFPB</td>\n",
       "      <td>2</td>\n",
       "      <td>200.0</td>\n",
       "      <td>5</td>\n",
       "      <td>NaN</td>\n",
       "      <td>NaN</td>\n",
       "      <td>NaN</td>\n",
       "      <td>NaN</td>\n",
       "      <td>1</td>\n",
       "      <td>...</td>\n",
       "      <td>26589</td>\n",
       "      <td>NY</td>\n",
       "      <td>71300.0</td>\n",
       "      <td>460</td>\n",
       "      <td>53.0</td>\n",
       "      <td>256.0</td>\n",
       "      <td>45.959999</td>\n",
       "      <td>3512.0</td>\n",
       "      <td>NaN</td>\n",
       "      <td>160.600006</td>\n",
       "    </tr>\n",
       "    <tr>\n",
       "      <th>34</th>\n",
       "      <td>1</td>\n",
       "      <td>CFPB</td>\n",
       "      <td>2</td>\n",
       "      <td>255.0</td>\n",
       "      <td>5</td>\n",
       "      <td>NaN</td>\n",
       "      <td>NaN</td>\n",
       "      <td>NaN</td>\n",
       "      <td>NaN</td>\n",
       "      <td>1</td>\n",
       "      <td>...</td>\n",
       "      <td>106528</td>\n",
       "      <td>NY</td>\n",
       "      <td>109000.0</td>\n",
       "      <td>648</td>\n",
       "      <td>835.0</td>\n",
       "      <td>676.0</td>\n",
       "      <td>30.059999</td>\n",
       "      <td>2339.0</td>\n",
       "      <td>NaN</td>\n",
       "      <td>133.300003</td>\n",
       "    </tr>\n",
       "    <tr>\n",
       "      <th>66</th>\n",
       "      <td>1</td>\n",
       "      <td>CFPB</td>\n",
       "      <td>2</td>\n",
       "      <td>25.0</td>\n",
       "      <td>2</td>\n",
       "      <td>5.0</td>\n",
       "      <td>NaN</td>\n",
       "      <td>NaN</td>\n",
       "      <td>NaN</td>\n",
       "      <td>1</td>\n",
       "      <td>...</td>\n",
       "      <td>8633</td>\n",
       "      <td>NY</td>\n",
       "      <td>69000.0</td>\n",
       "      <td>57</td>\n",
       "      <td>1891.0</td>\n",
       "      <td>804.0</td>\n",
       "      <td>45.419998</td>\n",
       "      <td>4881.0</td>\n",
       "      <td>NaN</td>\n",
       "      <td>48.299999</td>\n",
       "    </tr>\n",
       "    <tr>\n",
       "      <th>84</th>\n",
       "      <td>1</td>\n",
       "      <td>CFPB</td>\n",
       "      <td>3</td>\n",
       "      <td>114.0</td>\n",
       "      <td>6</td>\n",
       "      <td>NaN</td>\n",
       "      <td>NaN</td>\n",
       "      <td>NaN</td>\n",
       "      <td>NaN</td>\n",
       "      <td>3</td>\n",
       "      <td>...</td>\n",
       "      <td>106529</td>\n",
       "      <td>NY</td>\n",
       "      <td>109000.0</td>\n",
       "      <td>302</td>\n",
       "      <td>363.0</td>\n",
       "      <td>1817.0</td>\n",
       "      <td>21.139999</td>\n",
       "      <td>5870.0</td>\n",
       "      <td>NaN</td>\n",
       "      <td>109.459999</td>\n",
       "    </tr>\n",
       "    <tr>\n",
       "      <th>97</th>\n",
       "      <td>5</td>\n",
       "      <td>HUD</td>\n",
       "      <td>2</td>\n",
       "      <td>32.0</td>\n",
       "      <td>3</td>\n",
       "      <td>NaN</td>\n",
       "      <td>NaN</td>\n",
       "      <td>NaN</td>\n",
       "      <td>NaN</td>\n",
       "      <td>2</td>\n",
       "      <td>...</td>\n",
       "      <td>141368</td>\n",
       "      <td>NY</td>\n",
       "      <td>109000.0</td>\n",
       "      <td>172</td>\n",
       "      <td>693.0</td>\n",
       "      <td>480.0</td>\n",
       "      <td>83.349998</td>\n",
       "      <td>2571.0</td>\n",
       "      <td>NaN</td>\n",
       "      <td>78.470001</td>\n",
       "    </tr>\n",
       "  </tbody>\n",
       "</table>\n",
       "<p>5 rows × 45 columns</p>\n",
       "</div>"
      ],
      "text/plain": [
       "    action_taken agency_abbr  applicant_ethnicity  applicant_income_000s  \\\n",
       "6              1        CFPB                    2                  200.0   \n",
       "34             1        CFPB                    2                  255.0   \n",
       "66             1        CFPB                    2                   25.0   \n",
       "84             1        CFPB                    3                  114.0   \n",
       "97             5         HUD                    2                   32.0   \n",
       "\n",
       "    applicant_race_1  applicant_race_2  applicant_race_3  applicant_race_4  \\\n",
       "6                  5               NaN               NaN               NaN   \n",
       "34                 5               NaN               NaN               NaN   \n",
       "66                 2               5.0               NaN               NaN   \n",
       "84                 6               NaN               NaN               NaN   \n",
       "97                 3               NaN               NaN               NaN   \n",
       "\n",
       "    applicant_race_5  applicant_sex          ...            sequence_number  \\\n",
       "6                NaN              1          ...                      26589   \n",
       "34               NaN              1          ...                     106528   \n",
       "66               NaN              1          ...                       8633   \n",
       "84               NaN              3          ...                     106529   \n",
       "97               NaN              2          ...                     141368   \n",
       "\n",
       "    state_abbr  hud_median_family_income  loan_amount_000s  \\\n",
       "6           NY                   71300.0               460   \n",
       "34          NY                  109000.0               648   \n",
       "66          NY                   69000.0                57   \n",
       "84          NY                  109000.0               302   \n",
       "97          NY                  109000.0               172   \n",
       "\n",
       "    number_of_1_to_4_family_units  number_of_owner_occupied_units  \\\n",
       "6                            53.0                           256.0   \n",
       "34                          835.0                           676.0   \n",
       "66                         1891.0                           804.0   \n",
       "84                          363.0                          1817.0   \n",
       "97                          693.0                           480.0   \n",
       "\n",
       "    minority_population  population  rate_spread  tract_to_msamd_income  \n",
       "6             45.959999      3512.0          NaN             160.600006  \n",
       "34            30.059999      2339.0          NaN             133.300003  \n",
       "66            45.419998      4881.0          NaN              48.299999  \n",
       "84            21.139999      5870.0          NaN             109.459999  \n",
       "97            83.349998      2571.0          NaN              78.470001  \n",
       "\n",
       "[5 rows x 45 columns]"
      ]
     },
     "execution_count": 82,
     "metadata": {},
     "output_type": "execute_result"
    }
   ],
   "source": [
    "NY_data.head()"
   ]
  },
  {
   "cell_type": "markdown",
   "metadata": {},
   "source": [
    "Since this analysis is for NY and Conventinal loan only, remove state and loan type."
   ]
  },
  {
   "cell_type": "code",
   "execution_count": 83,
   "metadata": {},
   "outputs": [],
   "source": [
    "NY_data = NY_data.drop(\"state_abbr\",1)"
   ]
  },
  {
   "cell_type": "code",
   "execution_count": 84,
   "metadata": {},
   "outputs": [],
   "source": [
    "NY_data = NY_data.drop(\"loan_type\",1)"
   ]
  },
  {
   "cell_type": "markdown",
   "metadata": {},
   "source": [
    "*Assuming it is for US only. Do have doubt about country_code, it contains different values."
   ]
  },
  {
   "cell_type": "code",
   "execution_count": 85,
   "metadata": {
    "collapsed": true
   },
   "outputs": [],
   "source": [
    "NY_data = NY_data.drop(\"county_code\",1)"
   ]
  },
  {
   "cell_type": "code",
   "execution_count": 86,
   "metadata": {},
   "outputs": [
    {
     "data": {
      "text/html": [
       "<div>\n",
       "<style>\n",
       "    .dataframe thead tr:only-child th {\n",
       "        text-align: right;\n",
       "    }\n",
       "\n",
       "    .dataframe thead th {\n",
       "        text-align: left;\n",
       "    }\n",
       "\n",
       "    .dataframe tbody tr th {\n",
       "        vertical-align: top;\n",
       "    }\n",
       "</style>\n",
       "<table border=\"1\" class=\"dataframe\">\n",
       "  <thead>\n",
       "    <tr style=\"text-align: right;\">\n",
       "      <th></th>\n",
       "      <th>action_taken</th>\n",
       "      <th>agency_abbr</th>\n",
       "      <th>applicant_ethnicity</th>\n",
       "      <th>applicant_income_000s</th>\n",
       "      <th>applicant_race_1</th>\n",
       "      <th>applicant_race_2</th>\n",
       "      <th>applicant_race_3</th>\n",
       "      <th>applicant_race_4</th>\n",
       "      <th>applicant_race_5</th>\n",
       "      <th>applicant_sex</th>\n",
       "      <th>...</th>\n",
       "      <th>respondent_id</th>\n",
       "      <th>sequence_number</th>\n",
       "      <th>hud_median_family_income</th>\n",
       "      <th>loan_amount_000s</th>\n",
       "      <th>number_of_1_to_4_family_units</th>\n",
       "      <th>number_of_owner_occupied_units</th>\n",
       "      <th>minority_population</th>\n",
       "      <th>population</th>\n",
       "      <th>rate_spread</th>\n",
       "      <th>tract_to_msamd_income</th>\n",
       "    </tr>\n",
       "  </thead>\n",
       "  <tbody>\n",
       "    <tr>\n",
       "      <th>6</th>\n",
       "      <td>1</td>\n",
       "      <td>CFPB</td>\n",
       "      <td>2</td>\n",
       "      <td>200.0</td>\n",
       "      <td>5</td>\n",
       "      <td>NaN</td>\n",
       "      <td>NaN</td>\n",
       "      <td>NaN</td>\n",
       "      <td>NaN</td>\n",
       "      <td>1</td>\n",
       "      <td>...</td>\n",
       "      <td>0002735146</td>\n",
       "      <td>26589</td>\n",
       "      <td>71300.0</td>\n",
       "      <td>460</td>\n",
       "      <td>53.0</td>\n",
       "      <td>256.0</td>\n",
       "      <td>45.959999</td>\n",
       "      <td>3512.0</td>\n",
       "      <td>NaN</td>\n",
       "      <td>160.600006</td>\n",
       "    </tr>\n",
       "    <tr>\n",
       "      <th>34</th>\n",
       "      <td>1</td>\n",
       "      <td>CFPB</td>\n",
       "      <td>2</td>\n",
       "      <td>255.0</td>\n",
       "      <td>5</td>\n",
       "      <td>NaN</td>\n",
       "      <td>NaN</td>\n",
       "      <td>NaN</td>\n",
       "      <td>NaN</td>\n",
       "      <td>1</td>\n",
       "      <td>...</td>\n",
       "      <td>0000476810</td>\n",
       "      <td>106528</td>\n",
       "      <td>109000.0</td>\n",
       "      <td>648</td>\n",
       "      <td>835.0</td>\n",
       "      <td>676.0</td>\n",
       "      <td>30.059999</td>\n",
       "      <td>2339.0</td>\n",
       "      <td>NaN</td>\n",
       "      <td>133.300003</td>\n",
       "    </tr>\n",
       "    <tr>\n",
       "      <th>66</th>\n",
       "      <td>1</td>\n",
       "      <td>CFPB</td>\n",
       "      <td>2</td>\n",
       "      <td>25.0</td>\n",
       "      <td>2</td>\n",
       "      <td>5.0</td>\n",
       "      <td>NaN</td>\n",
       "      <td>NaN</td>\n",
       "      <td>NaN</td>\n",
       "      <td>1</td>\n",
       "      <td>...</td>\n",
       "      <td>0000501105</td>\n",
       "      <td>8633</td>\n",
       "      <td>69000.0</td>\n",
       "      <td>57</td>\n",
       "      <td>1891.0</td>\n",
       "      <td>804.0</td>\n",
       "      <td>45.419998</td>\n",
       "      <td>4881.0</td>\n",
       "      <td>NaN</td>\n",
       "      <td>48.299999</td>\n",
       "    </tr>\n",
       "    <tr>\n",
       "      <th>84</th>\n",
       "      <td>1</td>\n",
       "      <td>CFPB</td>\n",
       "      <td>3</td>\n",
       "      <td>114.0</td>\n",
       "      <td>6</td>\n",
       "      <td>NaN</td>\n",
       "      <td>NaN</td>\n",
       "      <td>NaN</td>\n",
       "      <td>NaN</td>\n",
       "      <td>3</td>\n",
       "      <td>...</td>\n",
       "      <td>0000476810</td>\n",
       "      <td>106529</td>\n",
       "      <td>109000.0</td>\n",
       "      <td>302</td>\n",
       "      <td>363.0</td>\n",
       "      <td>1817.0</td>\n",
       "      <td>21.139999</td>\n",
       "      <td>5870.0</td>\n",
       "      <td>NaN</td>\n",
       "      <td>109.459999</td>\n",
       "    </tr>\n",
       "    <tr>\n",
       "      <th>97</th>\n",
       "      <td>5</td>\n",
       "      <td>HUD</td>\n",
       "      <td>2</td>\n",
       "      <td>32.0</td>\n",
       "      <td>3</td>\n",
       "      <td>NaN</td>\n",
       "      <td>NaN</td>\n",
       "      <td>NaN</td>\n",
       "      <td>NaN</td>\n",
       "      <td>2</td>\n",
       "      <td>...</td>\n",
       "      <td>75-2921540</td>\n",
       "      <td>141368</td>\n",
       "      <td>109000.0</td>\n",
       "      <td>172</td>\n",
       "      <td>693.0</td>\n",
       "      <td>480.0</td>\n",
       "      <td>83.349998</td>\n",
       "      <td>2571.0</td>\n",
       "      <td>NaN</td>\n",
       "      <td>78.470001</td>\n",
       "    </tr>\n",
       "  </tbody>\n",
       "</table>\n",
       "<p>5 rows × 42 columns</p>\n",
       "</div>"
      ],
      "text/plain": [
       "    action_taken agency_abbr  applicant_ethnicity  applicant_income_000s  \\\n",
       "6              1        CFPB                    2                  200.0   \n",
       "34             1        CFPB                    2                  255.0   \n",
       "66             1        CFPB                    2                   25.0   \n",
       "84             1        CFPB                    3                  114.0   \n",
       "97             5         HUD                    2                   32.0   \n",
       "\n",
       "    applicant_race_1  applicant_race_2  applicant_race_3  applicant_race_4  \\\n",
       "6                  5               NaN               NaN               NaN   \n",
       "34                 5               NaN               NaN               NaN   \n",
       "66                 2               5.0               NaN               NaN   \n",
       "84                 6               NaN               NaN               NaN   \n",
       "97                 3               NaN               NaN               NaN   \n",
       "\n",
       "    applicant_race_5  applicant_sex          ...            respondent_id  \\\n",
       "6                NaN              1          ...               0002735146   \n",
       "34               NaN              1          ...               0000476810   \n",
       "66               NaN              1          ...               0000501105   \n",
       "84               NaN              3          ...               0000476810   \n",
       "97               NaN              2          ...               75-2921540   \n",
       "\n",
       "    sequence_number  hud_median_family_income  loan_amount_000s  \\\n",
       "6             26589                   71300.0               460   \n",
       "34           106528                  109000.0               648   \n",
       "66             8633                   69000.0                57   \n",
       "84           106529                  109000.0               302   \n",
       "97           141368                  109000.0               172   \n",
       "\n",
       "    number_of_1_to_4_family_units  number_of_owner_occupied_units  \\\n",
       "6                            53.0                           256.0   \n",
       "34                          835.0                           676.0   \n",
       "66                         1891.0                           804.0   \n",
       "84                          363.0                          1817.0   \n",
       "97                          693.0                           480.0   \n",
       "\n",
       "    minority_population  population  rate_spread  tract_to_msamd_income  \n",
       "6             45.959999      3512.0          NaN             160.600006  \n",
       "34            30.059999      2339.0          NaN             133.300003  \n",
       "66            45.419998      4881.0          NaN              48.299999  \n",
       "84            21.139999      5870.0          NaN             109.459999  \n",
       "97            83.349998      2571.0          NaN              78.470001  \n",
       "\n",
       "[5 rows x 42 columns]"
      ]
     },
     "execution_count": 86,
     "metadata": {},
     "output_type": "execute_result"
    }
   ],
   "source": [
    "NY_data.head()"
   ]
  },
  {
   "cell_type": "code",
   "execution_count": null,
   "metadata": {
    "collapsed": true
   },
   "outputs": [],
   "source": []
  },
  {
   "cell_type": "markdown",
   "metadata": {},
   "source": [
    "#### Select variables to run into model"
   ]
  },
  {
   "cell_type": "code",
   "execution_count": 87,
   "metadata": {},
   "outputs": [],
   "source": [
    "miss_per = [\"applicant_race_1\", \"applicant_race_2\", \"applicant_race_3\", \"applicant_race_4\", \"applicant_race_5\", \"co_applicant_race_1\", \"co_applicant_race_2\", \"co_applicant_race_3\", \"co_applicant_race_4\", \"co_applicant_race_5\", \\\n",
    "            \"rate_spread\", \"edit_status\"]"
   ]
  },
  {
   "cell_type": "code",
   "execution_count": 88,
   "metadata": {},
   "outputs": [
    {
     "name": "stdout",
     "output_type": "stream",
     "text": [
      "Percentage of missing value:  applicant_race_1\n",
      "0.0\n",
      "Percentage of missing value:  applicant_race_2\n",
      "0.996298566509\n",
      "Percentage of missing value:  applicant_race_3\n",
      "0.999792719724\n",
      "Percentage of missing value:  applicant_race_4\n",
      "0.999958543945\n",
      "Percentage of missing value:  applicant_race_5\n",
      "0.999973349679\n",
      "Percentage of missing value:  co_applicant_race_1\n",
      "0.0\n",
      "Percentage of missing value:  co_applicant_race_2\n",
      "0.99883626931\n",
      "Percentage of missing value:  co_applicant_race_3\n",
      "0.999923010183\n",
      "Percentage of missing value:  co_applicant_race_4\n",
      "0.999988155413\n",
      "Percentage of missing value:  co_applicant_race_5\n",
      "0.999994077706\n",
      "Percentage of missing value:  rate_spread\n",
      "0.98858774026\n",
      "Percentage of missing value:  edit_status\n",
      "0.821007559808\n"
     ]
    }
   ],
   "source": [
    "for i in miss_per:\n",
    "    print (\"Percentage of missing value: \", i)\n",
    "    print (sum(NY_data[i].isnull())/NY_data.shape[0])"
   ]
  },
  {
   "cell_type": "markdown",
   "metadata": {},
   "source": [
    "Since missing percetage is over 99% for 2 and onward, will drop those columns and only keep first column of race as race information.\n",
    "\n",
    "Define a application is approved when action code is 1,2,6,8. The goal of this practice is to predict whether a application will be approved or not, denial reason therefore is not relenvent. "
   ]
  },
  {
   "cell_type": "code",
   "execution_count": 89,
   "metadata": {},
   "outputs": [],
   "source": [
    "NY_data = NY_data.drop(\"applicant_race_2\",1)\n",
    "NY_data = NY_data.drop(\"applicant_race_3\",1)\n",
    "NY_data = NY_data.drop(\"applicant_race_4\",1)\n",
    "NY_data = NY_data.drop(\"applicant_race_5\",1)\n",
    "NY_data = NY_data.drop(\"co_applicant_race_2\",1)\n",
    "NY_data = NY_data.drop(\"co_applicant_race_3\",1)\n",
    "NY_data = NY_data.drop(\"co_applicant_race_4\",1)\n",
    "NY_data = NY_data.drop(\"co_applicant_race_5\",1)\n",
    "NY_data = NY_data.drop(\"denial_reason_1\",1)\n",
    "NY_data = NY_data.drop(\"denial_reason_2\",1)\n",
    "NY_data = NY_data.drop(\"denial_reason_3\",1)"
   ]
  },
  {
   "cell_type": "code",
   "execution_count": 90,
   "metadata": {},
   "outputs": [
    {
     "data": {
      "text/html": [
       "<div>\n",
       "<style>\n",
       "    .dataframe thead tr:only-child th {\n",
       "        text-align: right;\n",
       "    }\n",
       "\n",
       "    .dataframe thead th {\n",
       "        text-align: left;\n",
       "    }\n",
       "\n",
       "    .dataframe tbody tr th {\n",
       "        vertical-align: top;\n",
       "    }\n",
       "</style>\n",
       "<table border=\"1\" class=\"dataframe\">\n",
       "  <thead>\n",
       "    <tr style=\"text-align: right;\">\n",
       "      <th></th>\n",
       "      <th>action_taken</th>\n",
       "      <th>agency_abbr</th>\n",
       "      <th>applicant_ethnicity</th>\n",
       "      <th>applicant_income_000s</th>\n",
       "      <th>applicant_race_1</th>\n",
       "      <th>applicant_sex</th>\n",
       "      <th>application_date_indicator</th>\n",
       "      <th>as_of_year</th>\n",
       "      <th>census_tract_number</th>\n",
       "      <th>co_applicant_ethnicity</th>\n",
       "      <th>...</th>\n",
       "      <th>respondent_id</th>\n",
       "      <th>sequence_number</th>\n",
       "      <th>hud_median_family_income</th>\n",
       "      <th>loan_amount_000s</th>\n",
       "      <th>number_of_1_to_4_family_units</th>\n",
       "      <th>number_of_owner_occupied_units</th>\n",
       "      <th>minority_population</th>\n",
       "      <th>population</th>\n",
       "      <th>rate_spread</th>\n",
       "      <th>tract_to_msamd_income</th>\n",
       "    </tr>\n",
       "  </thead>\n",
       "  <tbody>\n",
       "    <tr>\n",
       "      <th>6</th>\n",
       "      <td>1</td>\n",
       "      <td>CFPB</td>\n",
       "      <td>2</td>\n",
       "      <td>200.0</td>\n",
       "      <td>5</td>\n",
       "      <td>1</td>\n",
       "      <td>0</td>\n",
       "      <td>2015</td>\n",
       "      <td>111.00</td>\n",
       "      <td>5</td>\n",
       "      <td>...</td>\n",
       "      <td>0002735146</td>\n",
       "      <td>26589</td>\n",
       "      <td>71300.0</td>\n",
       "      <td>460</td>\n",
       "      <td>53.0</td>\n",
       "      <td>256.0</td>\n",
       "      <td>45.959999</td>\n",
       "      <td>3512.0</td>\n",
       "      <td>NaN</td>\n",
       "      <td>160.600006</td>\n",
       "    </tr>\n",
       "    <tr>\n",
       "      <th>34</th>\n",
       "      <td>1</td>\n",
       "      <td>CFPB</td>\n",
       "      <td>2</td>\n",
       "      <td>255.0</td>\n",
       "      <td>5</td>\n",
       "      <td>1</td>\n",
       "      <td>0</td>\n",
       "      <td>2015</td>\n",
       "      <td>3026.00</td>\n",
       "      <td>5</td>\n",
       "      <td>...</td>\n",
       "      <td>0000476810</td>\n",
       "      <td>106528</td>\n",
       "      <td>109000.0</td>\n",
       "      <td>648</td>\n",
       "      <td>835.0</td>\n",
       "      <td>676.0</td>\n",
       "      <td>30.059999</td>\n",
       "      <td>2339.0</td>\n",
       "      <td>NaN</td>\n",
       "      <td>133.300003</td>\n",
       "    </tr>\n",
       "    <tr>\n",
       "      <th>66</th>\n",
       "      <td>1</td>\n",
       "      <td>CFPB</td>\n",
       "      <td>2</td>\n",
       "      <td>25.0</td>\n",
       "      <td>2</td>\n",
       "      <td>1</td>\n",
       "      <td>0</td>\n",
       "      <td>2015</td>\n",
       "      <td>58.02</td>\n",
       "      <td>5</td>\n",
       "      <td>...</td>\n",
       "      <td>0000501105</td>\n",
       "      <td>8633</td>\n",
       "      <td>69000.0</td>\n",
       "      <td>57</td>\n",
       "      <td>1891.0</td>\n",
       "      <td>804.0</td>\n",
       "      <td>45.419998</td>\n",
       "      <td>4881.0</td>\n",
       "      <td>NaN</td>\n",
       "      <td>48.299999</td>\n",
       "    </tr>\n",
       "    <tr>\n",
       "      <th>84</th>\n",
       "      <td>1</td>\n",
       "      <td>CFPB</td>\n",
       "      <td>3</td>\n",
       "      <td>114.0</td>\n",
       "      <td>6</td>\n",
       "      <td>3</td>\n",
       "      <td>0</td>\n",
       "      <td>2015</td>\n",
       "      <td>3007.00</td>\n",
       "      <td>5</td>\n",
       "      <td>...</td>\n",
       "      <td>0000476810</td>\n",
       "      <td>106529</td>\n",
       "      <td>109000.0</td>\n",
       "      <td>302</td>\n",
       "      <td>363.0</td>\n",
       "      <td>1817.0</td>\n",
       "      <td>21.139999</td>\n",
       "      <td>5870.0</td>\n",
       "      <td>NaN</td>\n",
       "      <td>109.459999</td>\n",
       "    </tr>\n",
       "    <tr>\n",
       "      <th>97</th>\n",
       "      <td>5</td>\n",
       "      <td>HUD</td>\n",
       "      <td>2</td>\n",
       "      <td>32.0</td>\n",
       "      <td>3</td>\n",
       "      <td>2</td>\n",
       "      <td>0</td>\n",
       "      <td>2015</td>\n",
       "      <td>4072.04</td>\n",
       "      <td>5</td>\n",
       "      <td>...</td>\n",
       "      <td>75-2921540</td>\n",
       "      <td>141368</td>\n",
       "      <td>109000.0</td>\n",
       "      <td>172</td>\n",
       "      <td>693.0</td>\n",
       "      <td>480.0</td>\n",
       "      <td>83.349998</td>\n",
       "      <td>2571.0</td>\n",
       "      <td>NaN</td>\n",
       "      <td>78.470001</td>\n",
       "    </tr>\n",
       "  </tbody>\n",
       "</table>\n",
       "<p>5 rows × 31 columns</p>\n",
       "</div>"
      ],
      "text/plain": [
       "    action_taken agency_abbr  applicant_ethnicity  applicant_income_000s  \\\n",
       "6              1        CFPB                    2                  200.0   \n",
       "34             1        CFPB                    2                  255.0   \n",
       "66             1        CFPB                    2                   25.0   \n",
       "84             1        CFPB                    3                  114.0   \n",
       "97             5         HUD                    2                   32.0   \n",
       "\n",
       "    applicant_race_1  applicant_sex  application_date_indicator  as_of_year  \\\n",
       "6                  5              1                           0        2015   \n",
       "34                 5              1                           0        2015   \n",
       "66                 2              1                           0        2015   \n",
       "84                 6              3                           0        2015   \n",
       "97                 3              2                           0        2015   \n",
       "\n",
       "    census_tract_number  co_applicant_ethnicity          ...            \\\n",
       "6                111.00                       5          ...             \n",
       "34              3026.00                       5          ...             \n",
       "66                58.02                       5          ...             \n",
       "84              3007.00                       5          ...             \n",
       "97              4072.04                       5          ...             \n",
       "\n",
       "    respondent_id  sequence_number  hud_median_family_income  \\\n",
       "6      0002735146            26589                   71300.0   \n",
       "34     0000476810           106528                  109000.0   \n",
       "66     0000501105             8633                   69000.0   \n",
       "84     0000476810           106529                  109000.0   \n",
       "97     75-2921540           141368                  109000.0   \n",
       "\n",
       "    loan_amount_000s  number_of_1_to_4_family_units  \\\n",
       "6                460                           53.0   \n",
       "34               648                          835.0   \n",
       "66                57                         1891.0   \n",
       "84               302                          363.0   \n",
       "97               172                          693.0   \n",
       "\n",
       "    number_of_owner_occupied_units  minority_population  population  \\\n",
       "6                            256.0            45.959999      3512.0   \n",
       "34                           676.0            30.059999      2339.0   \n",
       "66                           804.0            45.419998      4881.0   \n",
       "84                          1817.0            21.139999      5870.0   \n",
       "97                           480.0            83.349998      2571.0   \n",
       "\n",
       "    rate_spread  tract_to_msamd_income  \n",
       "6           NaN             160.600006  \n",
       "34          NaN             133.300003  \n",
       "66          NaN              48.299999  \n",
       "84          NaN             109.459999  \n",
       "97          NaN              78.470001  \n",
       "\n",
       "[5 rows x 31 columns]"
      ]
     },
     "execution_count": 90,
     "metadata": {},
     "output_type": "execute_result"
    }
   ],
   "source": [
    "NY_data.head()"
   ]
  },
  {
   "cell_type": "code",
   "execution_count": null,
   "metadata": {
    "collapsed": true
   },
   "outputs": [],
   "source": []
  },
  {
   "cell_type": "markdown",
   "metadata": {},
   "source": [
    "#### Convert variable to the right data type"
   ]
  },
  {
   "cell_type": "code",
   "execution_count": 292,
   "metadata": {},
   "outputs": [
    {
     "data": {
      "text/plain": [
       "Index(['action_taken', 'agency_abbr', 'applicant_ethnicity',\n",
       "       'applicant_income_000s', 'applicant_race_1', 'applicant_sex',\n",
       "       'application_date_indicator', 'as_of_year', 'census_tract_number',\n",
       "       'co_applicant_ethnicity', 'co_applicant_race_1', 'co_applicant_sex',\n",
       "       'edit_status', 'hoepa_status', 'lien_status', 'loan_purpose', 'msamd',\n",
       "       'owner_occupancy', 'preapproval', 'property_type', 'purchaser_type',\n",
       "       'respondent_id', 'sequence_number', 'hud_median_family_income',\n",
       "       'loan_amount_000s', 'number_of_1_to_4_family_units',\n",
       "       'number_of_owner_occupied_units', 'minority_population', 'population',\n",
       "       'rate_spread', 'tract_to_msamd_income'],\n",
       "      dtype='object')"
      ]
     },
     "execution_count": 292,
     "metadata": {},
     "output_type": "execute_result"
    }
   ],
   "source": [
    "NY_data.columns"
   ]
  },
  {
   "cell_type": "markdown",
   "metadata": {},
   "source": [
    "MSAMD: The FFIEC Geocoding System allows you to retrieve Metropolitan Statistical Area (MSA), State, County, and Census Tract codes for street addresses. Beginning with 2004, Metropolitan Area was changed to a 5-digit Metropolitan Statistical Area/Metropolitan Division (MSA/MD) number.\n",
    "\n",
    "HOEPA: The Home Ownership and Equity Protection Act (HOEPA) \n",
    "\n",
    "References:\n",
    "- https://www.ffiec.gov/hmdarawdata/FORMATS/2011HMDACodeSheet.pdf\n",
    "- https://www.ffiec.gov/hmda/pdf/regulationc2004.pdf#AppendixA,I.B.1.d"
   ]
  },
  {
   "cell_type": "code",
   "execution_count": 116,
   "metadata": {
    "collapsed": true
   },
   "outputs": [],
   "source": [
    "cat_data = NY_data"
   ]
  },
  {
   "cell_type": "code",
   "execution_count": 117,
   "metadata": {},
   "outputs": [],
   "source": [
    "cat = [\"action_taken\", \"agency_abbr\", \"applicant_ethnicity\", \"applicant_race_1\",\\\n",
    "      \"applicant_sex\", \"census_tract_number\",  \"co_applicant_ethnicity\", \"co_applicant_race_1\", \\\n",
    "       \"co_applicant_sex\",\"edit_status\", \"hoepa_status\", \"lien_status\",\"loan_purpose\", \"msamd\",\\\n",
    "      \"owner_occupancy\", \"preapproval\", \"property_type\", \"purchaser_type\", \"respondent_id\",\"sequence_number\",\\\n",
    "      \"rate_spread\", \"as_of_year\", \"application_date_indicator\"]\n",
    "\n",
    "\n",
    "cat_data[cat] = NY_data[cat].astype(str)"
   ]
  },
  {
   "cell_type": "code",
   "execution_count": 118,
   "metadata": {},
   "outputs": [
    {
     "data": {
      "text/plain": [
       "action_taken                       object\n",
       "agency_abbr                        object\n",
       "applicant_ethnicity                object\n",
       "applicant_income_000s             float64\n",
       "applicant_race_1                   object\n",
       "applicant_sex                      object\n",
       "application_date_indicator         object\n",
       "as_of_year                         object\n",
       "census_tract_number                object\n",
       "co_applicant_ethnicity             object\n",
       "co_applicant_race_1                object\n",
       "co_applicant_sex                   object\n",
       "edit_status                        object\n",
       "hoepa_status                       object\n",
       "lien_status                        object\n",
       "loan_purpose                       object\n",
       "msamd                              object\n",
       "owner_occupancy                    object\n",
       "preapproval                        object\n",
       "property_type                      object\n",
       "purchaser_type                     object\n",
       "respondent_id                      object\n",
       "sequence_number                    object\n",
       "hud_median_family_income          float64\n",
       "loan_amount_000s                    int64\n",
       "number_of_1_to_4_family_units     float64\n",
       "number_of_owner_occupied_units    float64\n",
       "minority_population               float64\n",
       "population                        float64\n",
       "rate_spread                        object\n",
       "tract_to_msamd_income             float64\n",
       "dtype: object"
      ]
     },
     "execution_count": 118,
     "metadata": {},
     "output_type": "execute_result"
    }
   ],
   "source": [
    "cat_data.dtypes"
   ]
  },
  {
   "cell_type": "markdown",
   "metadata": {
    "collapsed": true
   },
   "source": [
    "#### Perform Explotory Data Analysis"
   ]
  },
  {
   "cell_type": "code",
   "execution_count": 119,
   "metadata": {},
   "outputs": [
    {
     "data": {
      "text/html": [
       "<div>\n",
       "<style>\n",
       "    .dataframe thead tr:only-child th {\n",
       "        text-align: right;\n",
       "    }\n",
       "\n",
       "    .dataframe thead th {\n",
       "        text-align: left;\n",
       "    }\n",
       "\n",
       "    .dataframe tbody tr th {\n",
       "        vertical-align: top;\n",
       "    }\n",
       "</style>\n",
       "<table border=\"1\" class=\"dataframe\">\n",
       "  <thead>\n",
       "    <tr style=\"text-align: right;\">\n",
       "      <th></th>\n",
       "      <th>applicant_income_000s</th>\n",
       "      <th>hud_median_family_income</th>\n",
       "      <th>loan_amount_000s</th>\n",
       "      <th>number_of_1_to_4_family_units</th>\n",
       "      <th>number_of_owner_occupied_units</th>\n",
       "      <th>minority_population</th>\n",
       "      <th>population</th>\n",
       "      <th>tract_to_msamd_income</th>\n",
       "    </tr>\n",
       "  </thead>\n",
       "  <tbody>\n",
       "    <tr>\n",
       "      <th>count</th>\n",
       "      <td>304864.000000</td>\n",
       "      <td>336332.000000</td>\n",
       "      <td>337707.000000</td>\n",
       "      <td>335774.000000</td>\n",
       "      <td>335986.000000</td>\n",
       "      <td>336307.000000</td>\n",
       "      <td>336307.000000</td>\n",
       "      <td>336241.000000</td>\n",
       "    </tr>\n",
       "    <tr>\n",
       "      <th>mean</th>\n",
       "      <td>154.299278</td>\n",
       "      <td>78156.585457</td>\n",
       "      <td>361.774497</td>\n",
       "      <td>1473.072704</td>\n",
       "      <td>1210.643009</td>\n",
       "      <td>28.602026</td>\n",
       "      <td>4788.137782</td>\n",
       "      <td>122.361974</td>\n",
       "    </tr>\n",
       "    <tr>\n",
       "      <th>std</th>\n",
       "      <td>295.927737</td>\n",
       "      <td>16030.323803</td>\n",
       "      <td>1326.087956</td>\n",
       "      <td>823.560638</td>\n",
       "      <td>619.928316</td>\n",
       "      <td>27.764787</td>\n",
       "      <td>1932.720770</td>\n",
       "      <td>57.482680</td>\n",
       "    </tr>\n",
       "    <tr>\n",
       "      <th>min</th>\n",
       "      <td>1.000000</td>\n",
       "      <td>57200.000000</td>\n",
       "      <td>1.000000</td>\n",
       "      <td>6.000000</td>\n",
       "      <td>2.000000</td>\n",
       "      <td>0.340000</td>\n",
       "      <td>1.000000</td>\n",
       "      <td>3.670000</td>\n",
       "    </tr>\n",
       "    <tr>\n",
       "      <th>25%</th>\n",
       "      <td>61.000000</td>\n",
       "      <td>69700.000000</td>\n",
       "      <td>100.000000</td>\n",
       "      <td>890.000000</td>\n",
       "      <td>733.000000</td>\n",
       "      <td>8.140000</td>\n",
       "      <td>3452.000000</td>\n",
       "      <td>89.510002</td>\n",
       "    </tr>\n",
       "    <tr>\n",
       "      <th>50%</th>\n",
       "      <td>96.000000</td>\n",
       "      <td>71300.000000</td>\n",
       "      <td>212.000000</td>\n",
       "      <td>1476.000000</td>\n",
       "      <td>1195.000000</td>\n",
       "      <td>17.660000</td>\n",
       "      <td>4578.000000</td>\n",
       "      <td>109.220001</td>\n",
       "    </tr>\n",
       "    <tr>\n",
       "      <th>75%</th>\n",
       "      <td>155.000000</td>\n",
       "      <td>82700.000000</td>\n",
       "      <td>380.000000</td>\n",
       "      <td>2000.000000</td>\n",
       "      <td>1640.000000</td>\n",
       "      <td>38.110001</td>\n",
       "      <td>5938.000000</td>\n",
       "      <td>137.309998</td>\n",
       "    </tr>\n",
       "    <tr>\n",
       "      <th>max</th>\n",
       "      <td>9999.000000</td>\n",
       "      <td>109000.000000</td>\n",
       "      <td>99999.000000</td>\n",
       "      <td>6345.000000</td>\n",
       "      <td>6454.000000</td>\n",
       "      <td>100.000000</td>\n",
       "      <td>26588.000000</td>\n",
       "      <td>367.609985</td>\n",
       "    </tr>\n",
       "  </tbody>\n",
       "</table>\n",
       "</div>"
      ],
      "text/plain": [
       "       applicant_income_000s  hud_median_family_income  loan_amount_000s  \\\n",
       "count          304864.000000             336332.000000     337707.000000   \n",
       "mean              154.299278              78156.585457        361.774497   \n",
       "std               295.927737              16030.323803       1326.087956   \n",
       "min                 1.000000              57200.000000          1.000000   \n",
       "25%                61.000000              69700.000000        100.000000   \n",
       "50%                96.000000              71300.000000        212.000000   \n",
       "75%               155.000000              82700.000000        380.000000   \n",
       "max              9999.000000             109000.000000      99999.000000   \n",
       "\n",
       "       number_of_1_to_4_family_units  number_of_owner_occupied_units  \\\n",
       "count                  335774.000000                   335986.000000   \n",
       "mean                     1473.072704                     1210.643009   \n",
       "std                       823.560638                      619.928316   \n",
       "min                         6.000000                        2.000000   \n",
       "25%                       890.000000                      733.000000   \n",
       "50%                      1476.000000                     1195.000000   \n",
       "75%                      2000.000000                     1640.000000   \n",
       "max                      6345.000000                     6454.000000   \n",
       "\n",
       "       minority_population     population  tract_to_msamd_income  \n",
       "count        336307.000000  336307.000000          336241.000000  \n",
       "mean             28.602026    4788.137782             122.361974  \n",
       "std              27.764787    1932.720770              57.482680  \n",
       "min               0.340000       1.000000               3.670000  \n",
       "25%               8.140000    3452.000000              89.510002  \n",
       "50%              17.660000    4578.000000             109.220001  \n",
       "75%              38.110001    5938.000000             137.309998  \n",
       "max             100.000000   26588.000000             367.609985  "
      ]
     },
     "execution_count": 119,
     "metadata": {},
     "output_type": "execute_result"
    }
   ],
   "source": [
    "cat_data.describe()"
   ]
  },
  {
   "cell_type": "markdown",
   "metadata": {},
   "source": [
    "Will need to confirm with client regards \"9999\" in applicat income and \"99999\" in loan amount. Here treat them as outlier and remove those record.\n",
    "\n",
    "As for missing values, can remove or replace:\n",
    "- With mean;\n",
    "- With previous record's value;\n",
    "- With next record's value;\n",
    "- With 0;\n",
    "- With predictions using available records. \n",
    "\n",
    "In this practice, due to time constrain, will leave them in the data and apply classification model that can handle missing values."
   ]
  },
  {
   "cell_type": "code",
   "execution_count": 174,
   "metadata": {},
   "outputs": [
    {
     "data": {
      "text/plain": [
       "53"
      ]
     },
     "execution_count": 174,
     "metadata": {},
     "output_type": "execute_result"
    }
   ],
   "source": [
    "sum(cat_data[\"applicant_income_000s\"]==9999)"
   ]
  },
  {
   "cell_type": "code",
   "execution_count": 177,
   "metadata": {},
   "outputs": [
    {
     "data": {
      "text/plain": [
       "18"
      ]
     },
     "execution_count": 177,
     "metadata": {},
     "output_type": "execute_result"
    }
   ],
   "source": [
    "sum(cat_data[\"loan_amount_000s\"]== 99999)"
   ]
  },
  {
   "cell_type": "code",
   "execution_count": 178,
   "metadata": {
    "collapsed": true
   },
   "outputs": [],
   "source": [
    "cat_data = cat_data[cat_data[\"applicant_income_000s\"] != 9999]"
   ]
  },
  {
   "cell_type": "code",
   "execution_count": 179,
   "metadata": {
    "collapsed": true
   },
   "outputs": [],
   "source": [
    "cat_data = cat_data[cat_data[\"loan_amount_000s\"] != 99999]"
   ]
  },
  {
   "cell_type": "code",
   "execution_count": 180,
   "metadata": {},
   "outputs": [
    {
     "data": {
      "text/plain": [
       "(337636, 31)"
      ]
     },
     "execution_count": 180,
     "metadata": {},
     "output_type": "execute_result"
    }
   ],
   "source": [
    "cat_data.shape"
   ]
  },
  {
   "cell_type": "code",
   "execution_count": 196,
   "metadata": {},
   "outputs": [],
   "source": [
    "plot_col = [\"applicant_income_000s\", \"loan_amount_000s\"]"
   ]
  },
  {
   "cell_type": "code",
   "execution_count": 213,
   "metadata": {},
   "outputs": [
    {
     "data": {
      "text/plain": [
       "(-1, 900)"
      ]
     },
     "execution_count": 213,
     "metadata": {},
     "output_type": "execute_result"
    },
    {
     "data": {
      "image/png": "[encoded data removed]",
      "text/plain": [
       "<matplotlib.figure.Figure at 0x1dc395fd0>"
      ]
     },
     "metadata": {},
     "output_type": "display_data"
    }
   ],
   "source": [
    "ax=cat_data[plot_col].boxplot()\n",
    "ax.set_ylim(-1, (900))"
   ]
  },
  {
   "cell_type": "markdown",
   "metadata": {},
   "source": [
    "As shown in above plot, no outlier after removing 9999 and 99999."
   ]
  },
  {
   "cell_type": "code",
   "execution_count": null,
   "metadata": {
    "collapsed": true
   },
   "outputs": [],
   "source": []
  },
  {
   "cell_type": "markdown",
   "metadata": {},
   "source": [
    "#### Creat target label"
   ]
  },
  {
   "cell_type": "code",
   "execution_count": 216,
   "metadata": {},
   "outputs": [],
   "source": [
    "cat_data[\"targets\"] = cat_data[\"action_taken\"].apply(lambda x: +1 if x in (\"1\", \"2\", \"6\", \"8\") else -1)"
   ]
  },
  {
   "cell_type": "code",
   "execution_count": 218,
   "metadata": {
    "collapsed": true
   },
   "outputs": [],
   "source": [
    "cat_data = cat_data.drop(\"action_taken\",1)"
   ]
  },
  {
   "cell_type": "code",
   "execution_count": 219,
   "metadata": {},
   "outputs": [
    {
     "data": {
      "text/html": [
       "<div>\n",
       "<style>\n",
       "    .dataframe thead tr:only-child th {\n",
       "        text-align: right;\n",
       "    }\n",
       "\n",
       "    .dataframe thead th {\n",
       "        text-align: left;\n",
       "    }\n",
       "\n",
       "    .dataframe tbody tr th {\n",
       "        vertical-align: top;\n",
       "    }\n",
       "</style>\n",
       "<table border=\"1\" class=\"dataframe\">\n",
       "  <thead>\n",
       "    <tr style=\"text-align: right;\">\n",
       "      <th></th>\n",
       "      <th>agency_abbr</th>\n",
       "      <th>applicant_ethnicity</th>\n",
       "      <th>applicant_income_000s</th>\n",
       "      <th>applicant_race_1</th>\n",
       "      <th>applicant_sex</th>\n",
       "      <th>application_date_indicator</th>\n",
       "      <th>as_of_year</th>\n",
       "      <th>census_tract_number</th>\n",
       "      <th>co_applicant_ethnicity</th>\n",
       "      <th>co_applicant_race_1</th>\n",
       "      <th>...</th>\n",
       "      <th>sequence_number</th>\n",
       "      <th>hud_median_family_income</th>\n",
       "      <th>loan_amount_000s</th>\n",
       "      <th>number_of_1_to_4_family_units</th>\n",
       "      <th>number_of_owner_occupied_units</th>\n",
       "      <th>minority_population</th>\n",
       "      <th>population</th>\n",
       "      <th>rate_spread</th>\n",
       "      <th>tract_to_msamd_income</th>\n",
       "      <th>targets</th>\n",
       "    </tr>\n",
       "  </thead>\n",
       "  <tbody>\n",
       "    <tr>\n",
       "      <th>6</th>\n",
       "      <td>CFPB</td>\n",
       "      <td>2</td>\n",
       "      <td>200.0</td>\n",
       "      <td>5</td>\n",
       "      <td>1</td>\n",
       "      <td>0</td>\n",
       "      <td>2015</td>\n",
       "      <td>111.0</td>\n",
       "      <td>5</td>\n",
       "      <td>8</td>\n",
       "      <td>...</td>\n",
       "      <td>26589</td>\n",
       "      <td>71300.0</td>\n",
       "      <td>460</td>\n",
       "      <td>53.0</td>\n",
       "      <td>256.0</td>\n",
       "      <td>45.959999</td>\n",
       "      <td>3512.0</td>\n",
       "      <td>nan</td>\n",
       "      <td>160.600006</td>\n",
       "      <td>1</td>\n",
       "    </tr>\n",
       "    <tr>\n",
       "      <th>34</th>\n",
       "      <td>CFPB</td>\n",
       "      <td>2</td>\n",
       "      <td>255.0</td>\n",
       "      <td>5</td>\n",
       "      <td>1</td>\n",
       "      <td>0</td>\n",
       "      <td>2015</td>\n",
       "      <td>3026.0</td>\n",
       "      <td>5</td>\n",
       "      <td>8</td>\n",
       "      <td>...</td>\n",
       "      <td>106528</td>\n",
       "      <td>109000.0</td>\n",
       "      <td>648</td>\n",
       "      <td>835.0</td>\n",
       "      <td>676.0</td>\n",
       "      <td>30.059999</td>\n",
       "      <td>2339.0</td>\n",
       "      <td>nan</td>\n",
       "      <td>133.300003</td>\n",
       "      <td>1</td>\n",
       "    </tr>\n",
       "    <tr>\n",
       "      <th>66</th>\n",
       "      <td>CFPB</td>\n",
       "      <td>2</td>\n",
       "      <td>25.0</td>\n",
       "      <td>2</td>\n",
       "      <td>1</td>\n",
       "      <td>0</td>\n",
       "      <td>2015</td>\n",
       "      <td>58.02</td>\n",
       "      <td>5</td>\n",
       "      <td>8</td>\n",
       "      <td>...</td>\n",
       "      <td>8633</td>\n",
       "      <td>69000.0</td>\n",
       "      <td>57</td>\n",
       "      <td>1891.0</td>\n",
       "      <td>804.0</td>\n",
       "      <td>45.419998</td>\n",
       "      <td>4881.0</td>\n",
       "      <td>nan</td>\n",
       "      <td>48.299999</td>\n",
       "      <td>1</td>\n",
       "    </tr>\n",
       "    <tr>\n",
       "      <th>84</th>\n",
       "      <td>CFPB</td>\n",
       "      <td>3</td>\n",
       "      <td>114.0</td>\n",
       "      <td>6</td>\n",
       "      <td>3</td>\n",
       "      <td>0</td>\n",
       "      <td>2015</td>\n",
       "      <td>3007.0</td>\n",
       "      <td>5</td>\n",
       "      <td>8</td>\n",
       "      <td>...</td>\n",
       "      <td>106529</td>\n",
       "      <td>109000.0</td>\n",
       "      <td>302</td>\n",
       "      <td>363.0</td>\n",
       "      <td>1817.0</td>\n",
       "      <td>21.139999</td>\n",
       "      <td>5870.0</td>\n",
       "      <td>nan</td>\n",
       "      <td>109.459999</td>\n",
       "      <td>1</td>\n",
       "    </tr>\n",
       "    <tr>\n",
       "      <th>97</th>\n",
       "      <td>HUD</td>\n",
       "      <td>2</td>\n",
       "      <td>32.0</td>\n",
       "      <td>3</td>\n",
       "      <td>2</td>\n",
       "      <td>0</td>\n",
       "      <td>2015</td>\n",
       "      <td>4072.04</td>\n",
       "      <td>5</td>\n",
       "      <td>8</td>\n",
       "      <td>...</td>\n",
       "      <td>141368</td>\n",
       "      <td>109000.0</td>\n",
       "      <td>172</td>\n",
       "      <td>693.0</td>\n",
       "      <td>480.0</td>\n",
       "      <td>83.349998</td>\n",
       "      <td>2571.0</td>\n",
       "      <td>nan</td>\n",
       "      <td>78.470001</td>\n",
       "      <td>-1</td>\n",
       "    </tr>\n",
       "  </tbody>\n",
       "</table>\n",
       "<p>5 rows × 31 columns</p>\n",
       "</div>"
      ],
      "text/plain": [
       "   agency_abbr applicant_ethnicity  applicant_income_000s applicant_race_1  \\\n",
       "6         CFPB                   2                  200.0                5   \n",
       "34        CFPB                   2                  255.0                5   \n",
       "66        CFPB                   2                   25.0                2   \n",
       "84        CFPB                   3                  114.0                6   \n",
       "97         HUD                   2                   32.0                3   \n",
       "\n",
       "   applicant_sex application_date_indicator as_of_year census_tract_number  \\\n",
       "6              1                          0       2015               111.0   \n",
       "34             1                          0       2015              3026.0   \n",
       "66             1                          0       2015               58.02   \n",
       "84             3                          0       2015              3007.0   \n",
       "97             2                          0       2015             4072.04   \n",
       "\n",
       "   co_applicant_ethnicity co_applicant_race_1   ...   sequence_number  \\\n",
       "6                       5                   8   ...             26589   \n",
       "34                      5                   8   ...            106528   \n",
       "66                      5                   8   ...              8633   \n",
       "84                      5                   8   ...            106529   \n",
       "97                      5                   8   ...            141368   \n",
       "\n",
       "   hud_median_family_income loan_amount_000s number_of_1_to_4_family_units  \\\n",
       "6                   71300.0              460                          53.0   \n",
       "34                 109000.0              648                         835.0   \n",
       "66                  69000.0               57                        1891.0   \n",
       "84                 109000.0              302                         363.0   \n",
       "97                 109000.0              172                         693.0   \n",
       "\n",
       "   number_of_owner_occupied_units minority_population population rate_spread  \\\n",
       "6                           256.0           45.959999     3512.0         nan   \n",
       "34                          676.0           30.059999     2339.0         nan   \n",
       "66                          804.0           45.419998     4881.0         nan   \n",
       "84                         1817.0           21.139999     5870.0         nan   \n",
       "97                          480.0           83.349998     2571.0         nan   \n",
       "\n",
       "   tract_to_msamd_income targets  \n",
       "6             160.600006       1  \n",
       "34            133.300003       1  \n",
       "66             48.299999       1  \n",
       "84            109.459999       1  \n",
       "97             78.470001      -1  \n",
       "\n",
       "[5 rows x 31 columns]"
      ]
     },
     "execution_count": 219,
     "metadata": {},
     "output_type": "execute_result"
    }
   ],
   "source": [
    "cat_data.head()"
   ]
  },
  {
   "cell_type": "code",
   "execution_count": null,
   "metadata": {
    "collapsed": true
   },
   "outputs": [],
   "source": []
  },
  {
   "cell_type": "markdown",
   "metadata": {},
   "source": [
    "#### Build Decision Tree Model"
   ]
  },
  {
   "cell_type": "code",
   "execution_count": 269,
   "metadata": {
    "collapsed": true
   },
   "outputs": [],
   "source": [
    "from sklearn import preprocessing\n",
    "from sklearn.model_selection import train_test_split\n",
    "from sklearn import tree\n",
    "from sklearn.tree import DecisionTreeClassifier"
   ]
  },
  {
   "cell_type": "code",
   "execution_count": 270,
   "metadata": {},
   "outputs": [],
   "source": [
    "cat_data = cat_data.apply(preprocessing.LabelEncoder().fit_transform)"
   ]
  },
  {
   "cell_type": "code",
   "execution_count": 271,
   "metadata": {},
   "outputs": [
    {
     "name": "stderr",
     "output_type": "stream",
     "text": [
      "/Users/Lydia/anaconda/envs/tensorflow/lib/python3.5/site-packages/sklearn/model_selection/_split.py:2010: FutureWarning: From version 0.21, test_size will always complement train_size unless both are specified.\n",
      "  FutureWarning)\n"
     ]
    }
   ],
   "source": [
    "train_data, test_data = train_test_split(cat_data, train_size=0.8, random_state=0)"
   ]
  },
  {
   "cell_type": "code",
   "execution_count": 272,
   "metadata": {
    "collapsed": true
   },
   "outputs": [],
   "source": [
    "decision_tree_model = tree.DecisionTreeClassifier(max_depth=6)"
   ]
  },
  {
   "cell_type": "code",
   "execution_count": 273,
   "metadata": {
    "collapsed": true
   },
   "outputs": [],
   "source": [
    "#small_model = tree.DecisionTreeClassifier(max_depth=2)"
   ]
  },
  {
   "cell_type": "code",
   "execution_count": 274,
   "metadata": {
    "collapsed": true
   },
   "outputs": [],
   "source": [
    "train_input = train_data.drop(\"targets\",1)"
   ]
  },
  {
   "cell_type": "code",
   "execution_count": 275,
   "metadata": {},
   "outputs": [
    {
     "data": {
      "text/plain": [
       "DecisionTreeClassifier(class_weight=None, criterion='gini', max_depth=6,\n",
       "            max_features=None, max_leaf_nodes=None,\n",
       "            min_impurity_decrease=0.0, min_impurity_split=None,\n",
       "            min_samples_leaf=1, min_samples_split=2,\n",
       "            min_weight_fraction_leaf=0.0, presort=False, random_state=None,\n",
       "            splitter='best')"
      ]
     },
     "execution_count": 275,
     "metadata": {},
     "output_type": "execute_result"
    }
   ],
   "source": [
    "decision_tree_model.fit(train_input, train_data[\"targets\"])"
   ]
  },
  {
   "cell_type": "code",
   "execution_count": 291,
   "metadata": {
    "collapsed": true
   },
   "outputs": [],
   "source": [
    "from sklearn import tree\n",
    "tree.export_graphviz(decision_tree_model,out_file='tree.dot') "
   ]
  },
  {
   "cell_type": "code",
   "execution_count": null,
   "metadata": {
    "collapsed": true
   },
   "outputs": [],
   "source": []
  },
  {
   "cell_type": "markdown",
   "metadata": {},
   "source": [
    "#### Make prediction"
   ]
  },
  {
   "cell_type": "code",
   "execution_count": 276,
   "metadata": {
    "collapsed": true
   },
   "outputs": [],
   "source": [
    "test_approval = test_data[test_data[\"targets\"] == 1]\n",
    "test_nonapproval = test_data[test_data[\"targets\"] == 0]"
   ]
  },
  {
   "cell_type": "code",
   "execution_count": 277,
   "metadata": {
    "collapsed": true
   },
   "outputs": [],
   "source": [
    "sample_test_approval = test_approval[0:2]\n",
    "sample_test_nonapproval = test_nonapproval[0:2]"
   ]
  },
  {
   "cell_type": "code",
   "execution_count": 278,
   "metadata": {},
   "outputs": [
    {
     "data": {
      "text/html": [
       "<div>\n",
       "<style>\n",
       "    .dataframe thead tr:only-child th {\n",
       "        text-align: right;\n",
       "    }\n",
       "\n",
       "    .dataframe thead th {\n",
       "        text-align: left;\n",
       "    }\n",
       "\n",
       "    .dataframe tbody tr th {\n",
       "        vertical-align: top;\n",
       "    }\n",
       "</style>\n",
       "<table border=\"1\" class=\"dataframe\">\n",
       "  <thead>\n",
       "    <tr style=\"text-align: right;\">\n",
       "      <th></th>\n",
       "      <th>agency_abbr</th>\n",
       "      <th>applicant_ethnicity</th>\n",
       "      <th>applicant_income_000s</th>\n",
       "      <th>applicant_race_1</th>\n",
       "      <th>applicant_sex</th>\n",
       "      <th>application_date_indicator</th>\n",
       "      <th>as_of_year</th>\n",
       "      <th>census_tract_number</th>\n",
       "      <th>co_applicant_ethnicity</th>\n",
       "      <th>co_applicant_race_1</th>\n",
       "      <th>...</th>\n",
       "      <th>sequence_number</th>\n",
       "      <th>hud_median_family_income</th>\n",
       "      <th>loan_amount_000s</th>\n",
       "      <th>number_of_1_to_4_family_units</th>\n",
       "      <th>number_of_owner_occupied_units</th>\n",
       "      <th>minority_population</th>\n",
       "      <th>population</th>\n",
       "      <th>rate_spread</th>\n",
       "      <th>tract_to_msamd_income</th>\n",
       "      <th>targets</th>\n",
       "    </tr>\n",
       "  </thead>\n",
       "  <tbody>\n",
       "    <tr>\n",
       "      <th>10337949</th>\n",
       "      <td>4</td>\n",
       "      <td>1</td>\n",
       "      <td>104</td>\n",
       "      <td>4</td>\n",
       "      <td>1</td>\n",
       "      <td>0</td>\n",
       "      <td>0</td>\n",
       "      <td>492</td>\n",
       "      <td>1</td>\n",
       "      <td>4</td>\n",
       "      <td>...</td>\n",
       "      <td>17093</td>\n",
       "      <td>13</td>\n",
       "      <td>68</td>\n",
       "      <td>1915</td>\n",
       "      <td>1762</td>\n",
       "      <td>1290</td>\n",
       "      <td>2976</td>\n",
       "      <td>576</td>\n",
       "      <td>2346</td>\n",
       "      <td>1</td>\n",
       "    </tr>\n",
       "    <tr>\n",
       "      <th>1828647</th>\n",
       "      <td>0</td>\n",
       "      <td>1</td>\n",
       "      <td>224</td>\n",
       "      <td>1</td>\n",
       "      <td>1</td>\n",
       "      <td>0</td>\n",
       "      <td>0</td>\n",
       "      <td>135</td>\n",
       "      <td>1</td>\n",
       "      <td>1</td>\n",
       "      <td>...</td>\n",
       "      <td>103376</td>\n",
       "      <td>14</td>\n",
       "      <td>943</td>\n",
       "      <td>934</td>\n",
       "      <td>925</td>\n",
       "      <td>1891</td>\n",
       "      <td>1413</td>\n",
       "      <td>576</td>\n",
       "      <td>1730</td>\n",
       "      <td>1</td>\n",
       "    </tr>\n",
       "  </tbody>\n",
       "</table>\n",
       "<p>2 rows × 31 columns</p>\n",
       "</div>"
      ],
      "text/plain": [
       "          agency_abbr  applicant_ethnicity  applicant_income_000s  \\\n",
       "10337949            4                    1                    104   \n",
       "1828647             0                    1                    224   \n",
       "\n",
       "          applicant_race_1  applicant_sex  application_date_indicator  \\\n",
       "10337949                 4              1                           0   \n",
       "1828647                  1              1                           0   \n",
       "\n",
       "          as_of_year  census_tract_number  co_applicant_ethnicity  \\\n",
       "10337949           0                  492                       1   \n",
       "1828647            0                  135                       1   \n",
       "\n",
       "          co_applicant_race_1   ...     sequence_number  \\\n",
       "10337949                    4   ...               17093   \n",
       "1828647                     1   ...              103376   \n",
       "\n",
       "          hud_median_family_income  loan_amount_000s  \\\n",
       "10337949                        13                68   \n",
       "1828647                         14               943   \n",
       "\n",
       "          number_of_1_to_4_family_units  number_of_owner_occupied_units  \\\n",
       "10337949                           1915                            1762   \n",
       "1828647                             934                             925   \n",
       "\n",
       "          minority_population  population  rate_spread  tract_to_msamd_income  \\\n",
       "10337949                 1290        2976          576                   2346   \n",
       "1828647                  1891        1413          576                   1730   \n",
       "\n",
       "          targets  \n",
       "10337949        1  \n",
       "1828647         1  \n",
       "\n",
       "[2 rows x 31 columns]"
      ]
     },
     "execution_count": 278,
     "metadata": {},
     "output_type": "execute_result"
    }
   ],
   "source": [
    "sample_test_approval"
   ]
  },
  {
   "cell_type": "code",
   "execution_count": 279,
   "metadata": {},
   "outputs": [
    {
     "data": {
      "text/html": [
       "<div>\n",
       "<style>\n",
       "    .dataframe thead tr:only-child th {\n",
       "        text-align: right;\n",
       "    }\n",
       "\n",
       "    .dataframe thead th {\n",
       "        text-align: left;\n",
       "    }\n",
       "\n",
       "    .dataframe tbody tr th {\n",
       "        vertical-align: top;\n",
       "    }\n",
       "</style>\n",
       "<table border=\"1\" class=\"dataframe\">\n",
       "  <thead>\n",
       "    <tr style=\"text-align: right;\">\n",
       "      <th></th>\n",
       "      <th>agency_abbr</th>\n",
       "      <th>applicant_ethnicity</th>\n",
       "      <th>applicant_income_000s</th>\n",
       "      <th>applicant_race_1</th>\n",
       "      <th>applicant_sex</th>\n",
       "      <th>application_date_indicator</th>\n",
       "      <th>as_of_year</th>\n",
       "      <th>census_tract_number</th>\n",
       "      <th>co_applicant_ethnicity</th>\n",
       "      <th>co_applicant_race_1</th>\n",
       "      <th>...</th>\n",
       "      <th>sequence_number</th>\n",
       "      <th>hud_median_family_income</th>\n",
       "      <th>loan_amount_000s</th>\n",
       "      <th>number_of_1_to_4_family_units</th>\n",
       "      <th>number_of_owner_occupied_units</th>\n",
       "      <th>minority_population</th>\n",
       "      <th>population</th>\n",
       "      <th>rate_spread</th>\n",
       "      <th>tract_to_msamd_income</th>\n",
       "      <th>targets</th>\n",
       "    </tr>\n",
       "  </thead>\n",
       "  <tbody>\n",
       "    <tr>\n",
       "      <th>10962982</th>\n",
       "      <td>0</td>\n",
       "      <td>1</td>\n",
       "      <td>51</td>\n",
       "      <td>1</td>\n",
       "      <td>1</td>\n",
       "      <td>0</td>\n",
       "      <td>0</td>\n",
       "      <td>1133</td>\n",
       "      <td>4</td>\n",
       "      <td>7</td>\n",
       "      <td>...</td>\n",
       "      <td>111956</td>\n",
       "      <td>9</td>\n",
       "      <td>269</td>\n",
       "      <td>1556</td>\n",
       "      <td>505</td>\n",
       "      <td>3279</td>\n",
       "      <td>3256</td>\n",
       "      <td>576</td>\n",
       "      <td>390</td>\n",
       "      <td>0</td>\n",
       "    </tr>\n",
       "    <tr>\n",
       "      <th>3630913</th>\n",
       "      <td>3</td>\n",
       "      <td>1</td>\n",
       "      <td>116</td>\n",
       "      <td>2</td>\n",
       "      <td>1</td>\n",
       "      <td>0</td>\n",
       "      <td>0</td>\n",
       "      <td>2427</td>\n",
       "      <td>4</td>\n",
       "      <td>7</td>\n",
       "      <td>...</td>\n",
       "      <td>43500</td>\n",
       "      <td>9</td>\n",
       "      <td>491</td>\n",
       "      <td>911</td>\n",
       "      <td>182</td>\n",
       "      <td>3269</td>\n",
       "      <td>1414</td>\n",
       "      <td>576</td>\n",
       "      <td>960</td>\n",
       "      <td>0</td>\n",
       "    </tr>\n",
       "  </tbody>\n",
       "</table>\n",
       "<p>2 rows × 31 columns</p>\n",
       "</div>"
      ],
      "text/plain": [
       "          agency_abbr  applicant_ethnicity  applicant_income_000s  \\\n",
       "10962982            0                    1                     51   \n",
       "3630913             3                    1                    116   \n",
       "\n",
       "          applicant_race_1  applicant_sex  application_date_indicator  \\\n",
       "10962982                 1              1                           0   \n",
       "3630913                  2              1                           0   \n",
       "\n",
       "          as_of_year  census_tract_number  co_applicant_ethnicity  \\\n",
       "10962982           0                 1133                       4   \n",
       "3630913            0                 2427                       4   \n",
       "\n",
       "          co_applicant_race_1   ...     sequence_number  \\\n",
       "10962982                    7   ...              111956   \n",
       "3630913                     7   ...               43500   \n",
       "\n",
       "          hud_median_family_income  loan_amount_000s  \\\n",
       "10962982                         9               269   \n",
       "3630913                          9               491   \n",
       "\n",
       "          number_of_1_to_4_family_units  number_of_owner_occupied_units  \\\n",
       "10962982                           1556                             505   \n",
       "3630913                             911                             182   \n",
       "\n",
       "          minority_population  population  rate_spread  tract_to_msamd_income  \\\n",
       "10962982                 3279        3256          576                    390   \n",
       "3630913                  3269        1414          576                    960   \n",
       "\n",
       "          targets  \n",
       "10962982        0  \n",
       "3630913         0  \n",
       "\n",
       "[2 rows x 31 columns]"
      ]
     },
     "execution_count": 279,
     "metadata": {},
     "output_type": "execute_result"
    }
   ],
   "source": [
    "sample_test_nonapproval"
   ]
  },
  {
   "cell_type": "code",
   "execution_count": 280,
   "metadata": {
    "collapsed": true
   },
   "outputs": [],
   "source": [
    "sample_test = sample_test_approval.append(sample_test_nonapproval)"
   ]
  },
  {
   "cell_type": "code",
   "execution_count": 281,
   "metadata": {},
   "outputs": [
    {
     "data": {
      "text/html": [
       "<div>\n",
       "<style>\n",
       "    .dataframe thead tr:only-child th {\n",
       "        text-align: right;\n",
       "    }\n",
       "\n",
       "    .dataframe thead th {\n",
       "        text-align: left;\n",
       "    }\n",
       "\n",
       "    .dataframe tbody tr th {\n",
       "        vertical-align: top;\n",
       "    }\n",
       "</style>\n",
       "<table border=\"1\" class=\"dataframe\">\n",
       "  <thead>\n",
       "    <tr style=\"text-align: right;\">\n",
       "      <th></th>\n",
       "      <th>agency_abbr</th>\n",
       "      <th>applicant_ethnicity</th>\n",
       "      <th>applicant_income_000s</th>\n",
       "      <th>applicant_race_1</th>\n",
       "      <th>applicant_sex</th>\n",
       "      <th>application_date_indicator</th>\n",
       "      <th>as_of_year</th>\n",
       "      <th>census_tract_number</th>\n",
       "      <th>co_applicant_ethnicity</th>\n",
       "      <th>co_applicant_race_1</th>\n",
       "      <th>...</th>\n",
       "      <th>sequence_number</th>\n",
       "      <th>hud_median_family_income</th>\n",
       "      <th>loan_amount_000s</th>\n",
       "      <th>number_of_1_to_4_family_units</th>\n",
       "      <th>number_of_owner_occupied_units</th>\n",
       "      <th>minority_population</th>\n",
       "      <th>population</th>\n",
       "      <th>rate_spread</th>\n",
       "      <th>tract_to_msamd_income</th>\n",
       "      <th>targets</th>\n",
       "    </tr>\n",
       "  </thead>\n",
       "  <tbody>\n",
       "    <tr>\n",
       "      <th>10337949</th>\n",
       "      <td>4</td>\n",
       "      <td>1</td>\n",
       "      <td>104</td>\n",
       "      <td>4</td>\n",
       "      <td>1</td>\n",
       "      <td>0</td>\n",
       "      <td>0</td>\n",
       "      <td>492</td>\n",
       "      <td>1</td>\n",
       "      <td>4</td>\n",
       "      <td>...</td>\n",
       "      <td>17093</td>\n",
       "      <td>13</td>\n",
       "      <td>68</td>\n",
       "      <td>1915</td>\n",
       "      <td>1762</td>\n",
       "      <td>1290</td>\n",
       "      <td>2976</td>\n",
       "      <td>576</td>\n",
       "      <td>2346</td>\n",
       "      <td>1</td>\n",
       "    </tr>\n",
       "    <tr>\n",
       "      <th>1828647</th>\n",
       "      <td>0</td>\n",
       "      <td>1</td>\n",
       "      <td>224</td>\n",
       "      <td>1</td>\n",
       "      <td>1</td>\n",
       "      <td>0</td>\n",
       "      <td>0</td>\n",
       "      <td>135</td>\n",
       "      <td>1</td>\n",
       "      <td>1</td>\n",
       "      <td>...</td>\n",
       "      <td>103376</td>\n",
       "      <td>14</td>\n",
       "      <td>943</td>\n",
       "      <td>934</td>\n",
       "      <td>925</td>\n",
       "      <td>1891</td>\n",
       "      <td>1413</td>\n",
       "      <td>576</td>\n",
       "      <td>1730</td>\n",
       "      <td>1</td>\n",
       "    </tr>\n",
       "    <tr>\n",
       "      <th>10962982</th>\n",
       "      <td>0</td>\n",
       "      <td>1</td>\n",
       "      <td>51</td>\n",
       "      <td>1</td>\n",
       "      <td>1</td>\n",
       "      <td>0</td>\n",
       "      <td>0</td>\n",
       "      <td>1133</td>\n",
       "      <td>4</td>\n",
       "      <td>7</td>\n",
       "      <td>...</td>\n",
       "      <td>111956</td>\n",
       "      <td>9</td>\n",
       "      <td>269</td>\n",
       "      <td>1556</td>\n",
       "      <td>505</td>\n",
       "      <td>3279</td>\n",
       "      <td>3256</td>\n",
       "      <td>576</td>\n",
       "      <td>390</td>\n",
       "      <td>0</td>\n",
       "    </tr>\n",
       "    <tr>\n",
       "      <th>3630913</th>\n",
       "      <td>3</td>\n",
       "      <td>1</td>\n",
       "      <td>116</td>\n",
       "      <td>2</td>\n",
       "      <td>1</td>\n",
       "      <td>0</td>\n",
       "      <td>0</td>\n",
       "      <td>2427</td>\n",
       "      <td>4</td>\n",
       "      <td>7</td>\n",
       "      <td>...</td>\n",
       "      <td>43500</td>\n",
       "      <td>9</td>\n",
       "      <td>491</td>\n",
       "      <td>911</td>\n",
       "      <td>182</td>\n",
       "      <td>3269</td>\n",
       "      <td>1414</td>\n",
       "      <td>576</td>\n",
       "      <td>960</td>\n",
       "      <td>0</td>\n",
       "    </tr>\n",
       "  </tbody>\n",
       "</table>\n",
       "<p>4 rows × 31 columns</p>\n",
       "</div>"
      ],
      "text/plain": [
       "          agency_abbr  applicant_ethnicity  applicant_income_000s  \\\n",
       "10337949            4                    1                    104   \n",
       "1828647             0                    1                    224   \n",
       "10962982            0                    1                     51   \n",
       "3630913             3                    1                    116   \n",
       "\n",
       "          applicant_race_1  applicant_sex  application_date_indicator  \\\n",
       "10337949                 4              1                           0   \n",
       "1828647                  1              1                           0   \n",
       "10962982                 1              1                           0   \n",
       "3630913                  2              1                           0   \n",
       "\n",
       "          as_of_year  census_tract_number  co_applicant_ethnicity  \\\n",
       "10337949           0                  492                       1   \n",
       "1828647            0                  135                       1   \n",
       "10962982           0                 1133                       4   \n",
       "3630913            0                 2427                       4   \n",
       "\n",
       "          co_applicant_race_1   ...     sequence_number  \\\n",
       "10337949                    4   ...               17093   \n",
       "1828647                     1   ...              103376   \n",
       "10962982                    7   ...              111956   \n",
       "3630913                     7   ...               43500   \n",
       "\n",
       "          hud_median_family_income  loan_amount_000s  \\\n",
       "10337949                        13                68   \n",
       "1828647                         14               943   \n",
       "10962982                         9               269   \n",
       "3630913                          9               491   \n",
       "\n",
       "          number_of_1_to_4_family_units  number_of_owner_occupied_units  \\\n",
       "10337949                           1915                            1762   \n",
       "1828647                             934                             925   \n",
       "10962982                           1556                             505   \n",
       "3630913                             911                             182   \n",
       "\n",
       "          minority_population  population  rate_spread  tract_to_msamd_income  \\\n",
       "10337949                 1290        2976          576                   2346   \n",
       "1828647                  1891        1413          576                   1730   \n",
       "10962982                 3279        3256          576                    390   \n",
       "3630913                  3269        1414          576                    960   \n",
       "\n",
       "          targets  \n",
       "10337949        1  \n",
       "1828647         1  \n",
       "10962982        0  \n",
       "3630913         0  \n",
       "\n",
       "[4 rows x 31 columns]"
      ]
     },
     "execution_count": 281,
     "metadata": {},
     "output_type": "execute_result"
    }
   ],
   "source": [
    "sample_test"
   ]
  },
  {
   "cell_type": "code",
   "execution_count": 282,
   "metadata": {},
   "outputs": [
    {
     "data": {
      "text/plain": [
       "array([1, 0, 1, ..., 1, 0, 0])"
      ]
     },
     "execution_count": 282,
     "metadata": {},
     "output_type": "execute_result"
    }
   ],
   "source": [
    "decision_tree_model.predict(test_data.drop(\"targets\",1))"
   ]
  },
  {
   "cell_type": "code",
   "execution_count": null,
   "metadata": {
    "collapsed": true
   },
   "outputs": [],
   "source": []
  },
  {
   "cell_type": "markdown",
   "metadata": {},
   "source": [
    "#### Evaluat accuracy of the decision tree model"
   ]
  },
  {
   "cell_type": "code",
   "execution_count": 284,
   "metadata": {},
   "outputs": [
    {
     "data": {
      "text/plain": [
       "0.81847631317843228"
      ]
     },
     "execution_count": 284,
     "metadata": {},
     "output_type": "execute_result"
    }
   ],
   "source": [
    "decision_tree_model.score(train_data.drop('targets',1), train_data[\"targets\"], sample_weight=None)"
   ]
  },
  {
   "cell_type": "code",
   "execution_count": 285,
   "metadata": {},
   "outputs": [
    {
     "data": {
      "text/plain": [
       "0.81677230185996919"
      ]
     },
     "execution_count": 285,
     "metadata": {},
     "output_type": "execute_result"
    }
   ],
   "source": [
    "decision_tree_model.score(test_data.drop('targets',1), test_data[\"targets\"], sample_weight=None)"
   ]
  },
  {
   "cell_type": "code",
   "execution_count": null,
   "metadata": {
    "collapsed": true
   },
   "outputs": [],
   "source": []
  },
  {
   "cell_type": "markdown",
   "metadata": {},
   "source": [
    "#### Quantify the cost of mistakes"
   ]
  },
  {
   "cell_type": "code",
   "execution_count": 288,
   "metadata": {
    "collapsed": true
   },
   "outputs": [],
   "source": [
    "test_prediction = decision_tree_model.predict(test_data.drop(\"targets\",1))"
   ]
  },
  {
   "cell_type": "code",
   "execution_count": 289,
   "metadata": {},
   "outputs": [
    {
     "name": "stdout",
     "output_type": "stream",
     "text": [
      "Number of False positives is: 5939\n"
     ]
    }
   ],
   "source": [
    "false_pos = sum(test_prediction>test_data[\"targets\"])\n",
    "print(\"Number of False positives is:\", false_pos)"
   ]
  },
  {
   "cell_type": "code",
   "execution_count": 290,
   "metadata": {},
   "outputs": [
    {
     "name": "stdout",
     "output_type": "stream",
     "text": [
      "Number of False Negative is: 6434\n"
     ]
    }
   ],
   "source": [
    "false_neg = sum(test_prediction<test_data[\"targets\"])\n",
    "print (\"Number of False Negative is:\", false_neg)"
   ]
  },
  {
   "cell_type": "markdown",
   "metadata": {},
   "source": [
    "total_cost = false_neg*false_neg_cost + false_pos * false_pos_cost"
   ]
  },
  {
   "cell_type": "code",
   "execution_count": null,
   "metadata": {
    "collapsed": true
   },
   "outputs": [],
   "source": []
  }
 ],
 "metadata": {
  "kernelspec": {
   "display_name": "Python 3",
   "language": "python",
   "name": "python3"
  },
  "language_info": {
   "codemirror_mode": {
    "name": "ipython",
    "version": 3
   },
   "file_extension": ".py",
   "mimetype": "text/x-python",
   "name": "python",
   "nbconvert_exporter": "python",
   "pygments_lexer": "ipython3",
   "version": "3.5.4"
  }
 },
 "nbformat": 4,
 "nbformat_minor": 2
}
