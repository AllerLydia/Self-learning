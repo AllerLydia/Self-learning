{
 "cells": [
  {
   "cell_type": "code",
   "execution_count": 14,
   "metadata": {
    "collapsed": false
   },
   "outputs": [],
   "source": [
    "test_data <- read.csv(file=\"Translation_Test/test_table.csv\",head=TRUE,sep=\",\")"
   ]
  },
  {
   "cell_type": "code",
   "execution_count": 15,
   "metadata": {
    "collapsed": false
   },
   "outputs": [
    {
     "data": {
      "text/html": [
       "<table>\n",
       "<thead><tr><th scope=col>user_id</th><th scope=col>date</th><th scope=col>source</th><th scope=col>device</th><th scope=col>browser_language</th><th scope=col>ads_channel</th><th scope=col>browser</th><th scope=col>conversion</th><th scope=col>test</th></tr></thead>\n",
       "<tbody>\n",
       "\t<tr><td>315281     </td><td>2015-12-03 </td><td>Direct     </td><td>Web        </td><td>ES         </td><td>NA         </td><td>IE         </td><td>1          </td><td>0          </td></tr>\n",
       "\t<tr><td>497851     </td><td>2015-12-04 </td><td>Ads        </td><td>Web        </td><td>ES         </td><td>Google     </td><td>IE         </td><td>0          </td><td>1          </td></tr>\n",
       "\t<tr><td>848402     </td><td>2015-12-04 </td><td>Ads        </td><td>Web        </td><td>ES         </td><td>Facebook   </td><td>Chrome     </td><td>0          </td><td>0          </td></tr>\n",
       "\t<tr><td>290051     </td><td>2015-12-03 </td><td>Ads        </td><td>Mobile     </td><td>Other      </td><td>Facebook   </td><td>Android_App</td><td>0          </td><td>1          </td></tr>\n",
       "\t<tr><td>548435     </td><td>2015-11-30 </td><td>Ads        </td><td>Web        </td><td>ES         </td><td>Google     </td><td>FireFox    </td><td>0          </td><td>1          </td></tr>\n",
       "\t<tr><td>540675     </td><td>2015-12-03 </td><td>Direct     </td><td>Mobile     </td><td>ES         </td><td>NA         </td><td>Android_App</td><td>0          </td><td>1          </td></tr>\n",
       "</tbody>\n",
       "</table>\n"
      ],
      "text/latex": [
       "\\begin{tabular}{r|lllllllll}\n",
       " user\\_id & date & source & device & browser\\_language & ads\\_channel & browser & conversion & test\\\\\n",
       "\\hline\n",
       "\t 315281      & 2015-12-03  & Direct      & Web         & ES          & NA          & IE          & 1           & 0          \\\\\n",
       "\t 497851      & 2015-12-04  & Ads         & Web         & ES          & Google      & IE          & 0           & 1          \\\\\n",
       "\t 848402      & 2015-12-04  & Ads         & Web         & ES          & Facebook    & Chrome      & 0           & 0          \\\\\n",
       "\t 290051        & 2015-12-03    & Ads           & Mobile        & Other         & Facebook      & Android\\_App & 0             & 1            \\\\\n",
       "\t 548435      & 2015-11-30  & Ads         & Web         & ES          & Google      & FireFox     & 0           & 1          \\\\\n",
       "\t 540675        & 2015-12-03    & Direct        & Mobile        & ES            & NA            & Android\\_App & 0             & 1            \\\\\n",
       "\\end{tabular}\n"
      ],
      "text/markdown": [
       "\n",
       "user_id | date | source | device | browser_language | ads_channel | browser | conversion | test | \n",
       "|---|---|---|---|---|---|\n",
       "| 315281      | 2015-12-03  | Direct      | Web         | ES          | NA          | IE          | 1           | 0           | \n",
       "| 497851      | 2015-12-04  | Ads         | Web         | ES          | Google      | IE          | 0           | 1           | \n",
       "| 848402      | 2015-12-04  | Ads         | Web         | ES          | Facebook    | Chrome      | 0           | 0           | \n",
       "| 290051      | 2015-12-03  | Ads         | Mobile      | Other       | Facebook    | Android_App | 0           | 1           | \n",
       "| 548435      | 2015-11-30  | Ads         | Web         | ES          | Google      | FireFox     | 0           | 1           | \n",
       "| 540675      | 2015-12-03  | Direct      | Mobile      | ES          | NA          | Android_App | 0           | 1           | \n",
       "\n",
       "\n"
      ],
      "text/plain": [
       "  user_id date       source device browser_language ads_channel browser    \n",
       "1 315281  2015-12-03 Direct Web    ES               NA          IE         \n",
       "2 497851  2015-12-04 Ads    Web    ES               Google      IE         \n",
       "3 848402  2015-12-04 Ads    Web    ES               Facebook    Chrome     \n",
       "4 290051  2015-12-03 Ads    Mobile Other            Facebook    Android_App\n",
       "5 548435  2015-11-30 Ads    Web    ES               Google      FireFox    \n",
       "6 540675  2015-12-03 Direct Mobile ES               NA          Android_App\n",
       "  conversion test\n",
       "1 1          0   \n",
       "2 0          1   \n",
       "3 0          0   \n",
       "4 0          1   \n",
       "5 0          1   \n",
       "6 0          1   "
      ]
     },
     "metadata": {},
     "output_type": "display_data"
    }
   ],
   "source": [
    "head(test_data)"
   ]
  },
  {
   "cell_type": "code",
   "execution_count": 16,
   "metadata": {
    "collapsed": false
   },
   "outputs": [],
   "source": [
    "user_data <- read.csv(file=\"Translation_Test/user_table.csv\",head=TRUE,sep=\",\")"
   ]
  },
  {
   "cell_type": "code",
   "execution_count": 17,
   "metadata": {
    "collapsed": false
   },
   "outputs": [
    {
     "data": {
      "text/html": [
       "<table>\n",
       "<thead><tr><th scope=col>user_id</th><th scope=col>sex</th><th scope=col>age</th><th scope=col>country</th></tr></thead>\n",
       "<tbody>\n",
       "\t<tr><td>765821   </td><td>M        </td><td>20       </td><td>Mexico   </td></tr>\n",
       "\t<tr><td>343561   </td><td>F        </td><td>27       </td><td>Nicaragua</td></tr>\n",
       "\t<tr><td>118744   </td><td>M        </td><td>23       </td><td>Colombia </td></tr>\n",
       "\t<tr><td>987753   </td><td>F        </td><td>27       </td><td>Venezuela</td></tr>\n",
       "\t<tr><td>554597   </td><td>F        </td><td>20       </td><td>Spain    </td></tr>\n",
       "\t<tr><td> 62371   </td><td>M        </td><td>29       </td><td>Ecuador  </td></tr>\n",
       "</tbody>\n",
       "</table>\n"
      ],
      "text/latex": [
       "\\begin{tabular}{r|llll}\n",
       " user\\_id & sex & age & country\\\\\n",
       "\\hline\n",
       "\t 765821    & M         & 20        & Mexico   \\\\\n",
       "\t 343561    & F         & 27        & Nicaragua\\\\\n",
       "\t 118744    & M         & 23        & Colombia \\\\\n",
       "\t 987753    & F         & 27        & Venezuela\\\\\n",
       "\t 554597    & F         & 20        & Spain    \\\\\n",
       "\t  62371    & M         & 29        & Ecuador  \\\\\n",
       "\\end{tabular}\n"
      ],
      "text/markdown": [
       "\n",
       "user_id | sex | age | country | \n",
       "|---|---|---|---|---|---|\n",
       "| 765821    | M         | 20        | Mexico    | \n",
       "| 343561    | F         | 27        | Nicaragua | \n",
       "| 118744    | M         | 23        | Colombia  | \n",
       "| 987753    | F         | 27        | Venezuela | \n",
       "| 554597    | F         | 20        | Spain     | \n",
       "|  62371    | M         | 29        | Ecuador   | \n",
       "\n",
       "\n"
      ],
      "text/plain": [
       "  user_id sex age country  \n",
       "1 765821  M   20  Mexico   \n",
       "2 343561  F   27  Nicaragua\n",
       "3 118744  M   23  Colombia \n",
       "4 987753  F   27  Venezuela\n",
       "5 554597  F   20  Spain    \n",
       "6  62371  M   29  Ecuador  "
      ]
     },
     "metadata": {},
     "output_type": "display_data"
    }
   ],
   "source": [
    "head(user_data)"
   ]
  },
  {
   "cell_type": "code",
   "execution_count": 18,
   "metadata": {
    "collapsed": true
   },
   "outputs": [],
   "source": [
    "test_data$test <- as.factor(test_data$test)"
   ]
  },
  {
   "cell_type": "code",
   "execution_count": 19,
   "metadata": {
    "collapsed": false
   },
   "outputs": [],
   "source": [
    "test_data$user_id <- as.factor(test_data$user_id)"
   ]
  },
  {
   "cell_type": "code",
   "execution_count": 97,
   "metadata": {
    "collapsed": true
   },
   "outputs": [],
   "source": [
    "test_data$date <- as.Date(test_data$date)"
   ]
  },
  {
   "cell_type": "code",
   "execution_count": 98,
   "metadata": {
    "collapsed": false
   },
   "outputs": [],
   "source": [
    "user_data$user_id <- as.factor(user_data$user_id)"
   ]
  },
  {
   "cell_type": "code",
   "execution_count": 99,
   "metadata": {
    "collapsed": false
   },
   "outputs": [
    {
     "data": {
      "text/plain": [
       "test_data \n",
       "\n",
       " 9  Variables      453321  Observations\n",
       "--------------------------------------------------------------------------------\n",
       "user_id \n",
       "       n  missing distinct \n",
       "  453321        0   453321 \n",
       "\n",
       "lowest : 1       2       3       5       8      \n",
       "highest: 999993  999996  999998  999999  1000000\n",
       "--------------------------------------------------------------------------------\n",
       "date \n",
       "       n  missing distinct \n",
       "  453321        0        5 \n",
       "                                                                 \n",
       "Value      2015-11-30 2015-12-01 2015-12-02 2015-12-03 2015-12-04\n",
       "Frequency       71025      70991      70649      99493     141163\n",
       "Proportion      0.157      0.157      0.156      0.219      0.311\n",
       "--------------------------------------------------------------------------------\n",
       "source \n",
       "       n  missing distinct \n",
       "  453321        0        3 \n",
       "                               \n",
       "Value         Ads Direct    SEO\n",
       "Frequency  181877  90834 180610\n",
       "Proportion  0.401  0.200  0.398\n",
       "--------------------------------------------------------------------------------\n",
       "device \n",
       "       n  missing distinct \n",
       "  453321        0        2 \n",
       "                        \n",
       "Value      Mobile    Web\n",
       "Frequency  201756 251565\n",
       "Proportion  0.445  0.555\n",
       "--------------------------------------------------------------------------------\n",
       "browser_language \n",
       "       n  missing distinct \n",
       "  453321        0        3 \n",
       "                               \n",
       "Value          EN     ES  Other\n",
       "Frequency   63137 377547  12637\n",
       "Proportion  0.139  0.833  0.028\n",
       "--------------------------------------------------------------------------------\n",
       "ads_channel \n",
       "       n  missing distinct \n",
       "  181877   271444        5 \n",
       "                                                       \n",
       "Value          Bing Facebook   Google    Other    Yahoo\n",
       "Frequency     13689    68425    68180     4148    27435\n",
       "Proportion    0.075    0.376    0.375    0.023    0.151\n",
       "--------------------------------------------------------------------------------\n",
       "browser \n",
       "       n  missing distinct \n",
       "  453321        0        7 \n",
       "                                                                      \n",
       "Value      Android_App      Chrome     FireFox          IE  Iphone_App\n",
       "Frequency       155135      101929       40766       61715       46621\n",
       "Proportion       0.342       0.225       0.090       0.136       0.103\n",
       "                                  \n",
       "Value            Opera      Safari\n",
       "Frequency         6090       41065\n",
       "Proportion       0.013       0.091\n",
       "--------------------------------------------------------------------------------\n",
       "conversion \n",
       "       n  missing distinct     Info      Sum     Mean      Gmd \n",
       "  453321        0        2    0.141    22475  0.04958  0.09424 \n",
       "\n",
       "--------------------------------------------------------------------------------\n",
       "test \n",
       "       n  missing distinct \n",
       "  453321        0        2 \n",
       "                        \n",
       "Value           0      1\n",
       "Frequency  237338 215983\n",
       "Proportion  0.524  0.476\n",
       "--------------------------------------------------------------------------------"
      ]
     },
     "metadata": {},
     "output_type": "display_data"
    }
   ],
   "source": [
    "library(Hmisc, warn.conflict=FALSE)\n",
    "describe(test_data)"
   ]
  },
  {
   "cell_type": "code",
   "execution_count": 100,
   "metadata": {
    "collapsed": false
   },
   "outputs": [],
   "source": [
    "library(dplyr,warn.conflicts = FALSE)\n",
    "library(rpart,warn.conflicts = FALSE)\n",
    "library(ggplot2,warn.conflicts = FALSE)"
   ]
  },
  {
   "cell_type": "code",
   "execution_count": 101,
   "metadata": {
    "collapsed": false
   },
   "outputs": [],
   "source": [
    "test_text <- subset(test_data,test==1)"
   ]
  },
  {
   "cell_type": "code",
   "execution_count": 102,
   "metadata": {
    "collapsed": false
   },
   "outputs": [],
   "source": [
    "test_con <- subset(test_data,test==0)\n",
    "conversion_Rate <- sum(test_con$conversion) / nrow(test_con)\n",
    "conversion_Rate_1 <- mean(test_con$conversion)"
   ]
  },
  {
   "cell_type": "code",
   "execution_count": 103,
   "metadata": {
    "collapsed": true
   },
   "outputs": [],
   "source": [
    "data <- merge(test_data, user_data, by=\"user_id\", all.x=TRUE, sort=TRUE)"
   ]
  },
  {
   "cell_type": "code",
   "execution_count": 104,
   "metadata": {
    "collapsed": false
   },
   "outputs": [
    {
     "data": {
      "text/plain": [
       "    user_id            date               source          device      \n",
       " 1      :     1   Min.   :2015-11-30   Ads   :181877   Mobile:201756  \n",
       " 2      :     1   1st Qu.:2015-12-01   Direct: 90834   Web   :251565  \n",
       " 3      :     1   Median :2015-12-03   SEO   :180610                  \n",
       " 5      :     1   Mean   :2015-12-02                                  \n",
       " 8      :     1   3rd Qu.:2015-12-04                                  \n",
       " 11     :     1   Max.   :2015-12-04                                  \n",
       " (Other):453315                                                       \n",
       " browser_language   ads_channel            browser         conversion     \n",
       " EN   : 63137     Bing    : 13689   Android_App:155135   Min.   :0.00000  \n",
       " ES   :377547     Facebook: 68425   Chrome     :101929   1st Qu.:0.00000  \n",
       " Other: 12637     Google  : 68180   FireFox    : 40766   Median :0.00000  \n",
       "                  Other   :  4148   IE         : 61715   Mean   :0.04958  \n",
       "                  Yahoo   : 27435   Iphone_App : 46621   3rd Qu.:0.00000  \n",
       "                  NA's    :271444   Opera      :  6090   Max.   :1.00000  \n",
       "                                    Safari     : 41065                    \n",
       " test         sex              age             country      \n",
       " 0:237338   F   :188382   Min.   :18.00   Mexico   :128484  \n",
       " 1:215983   M   :264485   1st Qu.:22.00   Colombia : 54060  \n",
       "            NA's:   454   Median :26.00   Spain    : 51782  \n",
       "                          Mean   :27.13   Argentina: 46733  \n",
       "                          3rd Qu.:31.00   Peru     : 33666  \n",
       "                          Max.   :70.00   (Other)  :138142  \n",
       "                          NA's   :454     NA's     :   454  "
      ]
     },
     "metadata": {},
     "output_type": "display_data"
    }
   ],
   "source": [
    "summary(data)"
   ]
  },
  {
   "cell_type": "code",
   "execution_count": 110,
   "metadata": {
    "collapsed": true
   },
   "outputs": [],
   "source": [
    "test_sp <- subset(data, country != \"Spain\")"
   ]
  },
  {
   "cell_type": "code",
   "execution_count": 111,
   "metadata": {
    "collapsed": false
   },
   "outputs": [
    {
     "data": {
      "text/plain": [
       "test_sp \n",
       "\n",
       " 12  Variables      401085  Observations\n",
       "--------------------------------------------------------------------------------\n",
       "user_id \n",
       "       n  missing distinct \n",
       "  401085        0   401085 \n",
       "\n",
       "lowest : 1       2       3       5       8      \n",
       "highest: 999993  999996  999998  999999  1000000\n",
       "--------------------------------------------------------------------------------\n",
       "date \n",
       "       n  missing distinct \n",
       "  401085        0        5 \n",
       "                                                                 \n",
       "Value      2015-11-30 2015-12-01 2015-12-02 2015-12-03 2015-12-04\n",
       "Frequency       62826      62835      62420      88110     124894\n",
       "Proportion      0.157      0.157      0.156      0.220      0.311\n",
       "--------------------------------------------------------------------------------\n",
       "source \n",
       "       n  missing distinct \n",
       "  401085        0        3 \n",
       "                               \n",
       "Value         Ads Direct    SEO\n",
       "Frequency  160800  80285 160000\n",
       "Proportion  0.401  0.200  0.399\n",
       "--------------------------------------------------------------------------------\n",
       "device \n",
       "       n  missing distinct \n",
       "  401085        0        2 \n",
       "                        \n",
       "Value      Mobile    Web\n",
       "Frequency  178606 222479\n",
       "Proportion  0.445  0.555\n",
       "--------------------------------------------------------------------------------\n",
       "browser_language \n",
       "       n  missing distinct \n",
       "  401085        0        3 \n",
       "                               \n",
       "Value          EN     ES  Other\n",
       "Frequency   55883 334014  11188\n",
       "Proportion  0.139  0.833  0.028\n",
       "--------------------------------------------------------------------------------\n",
       "ads_channel \n",
       "       n  missing distinct \n",
       "  160800   240285        5 \n",
       "                                                       \n",
       "Value          Bing Facebook   Google    Other    Yahoo\n",
       "Frequency     12073    60453    60301     3646    24327\n",
       "Proportion    0.075    0.376    0.375    0.023    0.151\n",
       "--------------------------------------------------------------------------------\n",
       "browser \n",
       "       n  missing distinct \n",
       "  401085        0        7 \n",
       "                                                                      \n",
       "Value      Android_App      Chrome     FireFox          IE  Iphone_App\n",
       "Frequency       137355       90130       35985       54599       41251\n",
       "Proportion       0.342       0.225       0.090       0.136       0.103\n",
       "                                  \n",
       "Value            Opera      Safari\n",
       "Frequency         5377       36388\n",
       "Proportion       0.013       0.091\n",
       "--------------------------------------------------------------------------------\n",
       "conversion \n",
       "       n  missing distinct     Info      Sum     Mean      Gmd \n",
       "  401085        0        2    0.131    18316  0.04567  0.08716 \n",
       "\n",
       "--------------------------------------------------------------------------------\n",
       "test \n",
       "       n  missing distinct \n",
       "  401085        0        2 \n",
       "                        \n",
       "Value           0      1\n",
       "Frequency  185311 215774\n",
       "Proportion  0.462  0.538\n",
       "--------------------------------------------------------------------------------\n",
       "sex \n",
       "       n  missing distinct \n",
       "  401085        0        2 \n",
       "                        \n",
       "Value           F      M\n",
       "Frequency  167005 234080\n",
       "Proportion  0.416  0.584\n",
       "--------------------------------------------------------------------------------\n",
       "age \n",
       "       n  missing distinct     Info     Mean      Gmd      .05      .10 \n",
       "  401085        0       50    0.998    27.13     7.51       18       19 \n",
       "     .25      .50      .75      .90      .95 \n",
       "      22       26       31       37       40 \n",
       "\n",
       "lowest : 18 19 20 21 22, highest: 63 64 65 66 70\n",
       "--------------------------------------------------------------------------------\n",
       "country \n",
       "       n  missing distinct \n",
       "  401085        0       16 \n",
       "\n",
       "Argentina (46733, 0.117), Bolivia (11124, 0.028), Chile (19737, 0.049),\n",
       "Colombia (54060, 0.135), Costa Rica (5309, 0.013), Ecuador (15895, 0.040), El\n",
       "Salvador (8175, 0.020), Guatemala (15125, 0.038), Honduras (8568, 0.021),\n",
       "Mexico (128484, 0.320), Nicaragua (6723, 0.017), Panama (3951, 0.010), Paraguay\n",
       "(7347, 0.018), Peru (33666, 0.084), Uruguay (4134, 0.010), Venezuela (32054,\n",
       "0.080)\n",
       "--------------------------------------------------------------------------------"
      ]
     },
     "metadata": {},
     "output_type": "display_data"
    }
   ],
   "source": [
    "describe(test_sp)"
   ]
  },
  {
   "cell_type": "code",
   "execution_count": 112,
   "metadata": {
    "collapsed": false
   },
   "outputs": [
    {
     "data": {
      "text/html": [
       "<table>\n",
       "<thead><tr><th scope=col>test</th><th scope=col>conversion_rate</th></tr></thead>\n",
       "<tbody>\n",
       "\t<tr><td>0         </td><td>0.04829179</td></tr>\n",
       "\t<tr><td>1         </td><td>0.04341116</td></tr>\n",
       "</tbody>\n",
       "</table>\n"
      ],
      "text/latex": [
       "\\begin{tabular}{r|ll}\n",
       " test & conversion\\_rate\\\\\n",
       "\\hline\n",
       "\t 0          & 0.04829179\\\\\n",
       "\t 1          & 0.04341116\\\\\n",
       "\\end{tabular}\n"
      ],
      "text/markdown": [
       "\n",
       "test | conversion_rate | \n",
       "|---|---|\n",
       "| 0          | 0.04829179 | \n",
       "| 1          | 0.04341116 | \n",
       "\n",
       "\n"
      ],
      "text/plain": [
       "  test conversion_rate\n",
       "1 0    0.04829179     \n",
       "2 1    0.04341116     "
      ]
     },
     "metadata": {},
     "output_type": "display_data"
    }
   ],
   "source": [
    "compare <- test_sp %>%\n",
    "group_by (test) %>%\n",
    "summarise(conversion_rate = mean(conversion))\n",
    "compare"
   ]
  },
  {
   "cell_type": "code",
   "execution_count": 113,
   "metadata": {
    "collapsed": false
   },
   "outputs": [
    {
     "data": {
      "text/html": [
       "<table>\n",
       "<thead><tr><th scope=col>country</th><th scope=col>conversion</th></tr></thead>\n",
       "<tbody>\n",
       "\t<tr><td>NA         </td><td>0.05741627 </td></tr>\n",
       "\t<tr><td>Costa Rica </td><td>0.05473764 </td></tr>\n",
       "\t<tr><td>Nicaragua  </td><td>0.05417676 </td></tr>\n",
       "\t<tr><td>Chile      </td><td>0.05129502 </td></tr>\n",
       "\t<tr><td>Mexico     </td><td>0.05118631 </td></tr>\n",
       "\t<tr><td>Peru       </td><td>0.05060427 </td></tr>\n",
       "\t<tr><td>Colombia   </td><td>0.05057096 </td></tr>\n",
       "\t<tr><td>Panama     </td><td>0.04937028 </td></tr>\n",
       "\t<tr><td>Paraguay   </td><td>0.04922910 </td></tr>\n",
       "\t<tr><td>Ecuador    </td><td>0.04898842 </td></tr>\n",
       "\t<tr><td>Venezuela  </td><td>0.04897831 </td></tr>\n",
       "\t<tr><td>Guatemala  </td><td>0.04864721 </td></tr>\n",
       "\t<tr><td>El Salvador</td><td>0.04794689 </td></tr>\n",
       "\t<tr><td>Bolivia    </td><td>0.04790097 </td></tr>\n",
       "\t<tr><td>Honduras   </td><td>0.04753981 </td></tr>\n",
       "\t<tr><td>Argentina  </td><td>0.01372502 </td></tr>\n",
       "\t<tr><td>Uruguay    </td><td>0.01290670 </td></tr>\n",
       "\t<tr><td>Spain      </td><td>       NaN </td></tr>\n",
       "</tbody>\n",
       "</table>\n"
      ],
      "text/latex": [
       "\\begin{tabular}{r|ll}\n",
       " country & conversion\\\\\n",
       "\\hline\n",
       "\t NA          & 0.05741627 \\\\\n",
       "\t Costa Rica  & 0.05473764 \\\\\n",
       "\t Nicaragua   & 0.05417676 \\\\\n",
       "\t Chile       & 0.05129502 \\\\\n",
       "\t Mexico      & 0.05118631 \\\\\n",
       "\t Peru        & 0.05060427 \\\\\n",
       "\t Colombia    & 0.05057096 \\\\\n",
       "\t Panama      & 0.04937028 \\\\\n",
       "\t Paraguay    & 0.04922910 \\\\\n",
       "\t Ecuador     & 0.04898842 \\\\\n",
       "\t Venezuela   & 0.04897831 \\\\\n",
       "\t Guatemala   & 0.04864721 \\\\\n",
       "\t El Salvador & 0.04794689 \\\\\n",
       "\t Bolivia     & 0.04790097 \\\\\n",
       "\t Honduras    & 0.04753981 \\\\\n",
       "\t Argentina   & 0.01372502 \\\\\n",
       "\t Uruguay     & 0.01290670 \\\\\n",
       "\t Spain       &        NaN \\\\\n",
       "\\end{tabular}\n"
      ],
      "text/markdown": [
       "\n",
       "country | conversion | \n",
       "|---|---|---|---|---|---|---|---|---|---|---|---|---|---|---|---|---|---|\n",
       "| NA          | 0.05741627  | \n",
       "| Costa Rica  | 0.05473764  | \n",
       "| Nicaragua   | 0.05417676  | \n",
       "| Chile       | 0.05129502  | \n",
       "| Mexico      | 0.05118631  | \n",
       "| Peru        | 0.05060427  | \n",
       "| Colombia    | 0.05057096  | \n",
       "| Panama      | 0.04937028  | \n",
       "| Paraguay    | 0.04922910  | \n",
       "| Ecuador     | 0.04898842  | \n",
       "| Venezuela   | 0.04897831  | \n",
       "| Guatemala   | 0.04864721  | \n",
       "| El Salvador | 0.04794689  | \n",
       "| Bolivia     | 0.04790097  | \n",
       "| Honduras    | 0.04753981  | \n",
       "| Argentina   | 0.01372502  | \n",
       "| Uruguay     | 0.01290670  | \n",
       "| Spain       |        NaN  | \n",
       "\n",
       "\n"
      ],
      "text/plain": [
       "   country     conversion\n",
       "1  NA          0.05741627\n",
       "2  Costa Rica  0.05473764\n",
       "3  Nicaragua   0.05417676\n",
       "4  Chile       0.05129502\n",
       "5  Mexico      0.05118631\n",
       "6  Peru        0.05060427\n",
       "7  Colombia    0.05057096\n",
       "8  Panama      0.04937028\n",
       "9  Paraguay    0.04922910\n",
       "10 Ecuador     0.04898842\n",
       "11 Venezuela   0.04897831\n",
       "12 Guatemala   0.04864721\n",
       "13 El Salvador 0.04794689\n",
       "14 Bolivia     0.04790097\n",
       "15 Honduras    0.04753981\n",
       "16 Argentina   0.01372502\n",
       "17 Uruguay     0.01290670\n",
       "18 Spain              NaN"
      ]
     },
     "metadata": {},
     "output_type": "display_data"
    }
   ],
   "source": [
    "data_conversion_country = data %>%\n",
    "group_by (country) %>%\n",
    "summarise(conversion = mean(conversion[test == 1])) %>%\n",
    "arrange(desc(conversion))\n",
    "data_conversion_country"
   ]
  },
  {
   "cell_type": "code",
   "execution_count": 114,
   "metadata": {
    "collapsed": false
   },
   "outputs": [
    {
     "data": {
      "text/html": [
       "<table>\n",
       "<thead><tr><th scope=col>country</th><th scope=col>conversion</th></tr></thead>\n",
       "<tbody>\n",
       "\t<tr><td>Spain      </td><td>0.07971882 </td></tr>\n",
       "\t<tr><td>NA         </td><td>0.07755102 </td></tr>\n",
       "\t<tr><td>El Salvador</td><td>0.05355404 </td></tr>\n",
       "\t<tr><td>Nicaragua  </td><td>0.05264697 </td></tr>\n",
       "\t<tr><td>Costa Rica </td><td>0.05225564 </td></tr>\n",
       "\t<tr><td>Colombia   </td><td>0.05208949 </td></tr>\n",
       "\t<tr><td>Honduras   </td><td>0.05090576 </td></tr>\n",
       "\t<tr><td>Guatemala  </td><td>0.05064288 </td></tr>\n",
       "\t<tr><td>Venezuela  </td><td>0.05034367 </td></tr>\n",
       "\t<tr><td>Peru       </td><td>0.04991404 </td></tr>\n",
       "\t<tr><td>Mexico     </td><td>0.04949462 </td></tr>\n",
       "\t<tr><td>Bolivia    </td><td>0.04936937 </td></tr>\n",
       "\t<tr><td>Ecuador    </td><td>0.04915381 </td></tr>\n",
       "\t<tr><td>Paraguay   </td><td>0.04849315 </td></tr>\n",
       "\t<tr><td>Chile      </td><td>0.04810718 </td></tr>\n",
       "\t<tr><td>Panama     </td><td>0.04679552 </td></tr>\n",
       "\t<tr><td>Argentina  </td><td>0.01507054 </td></tr>\n",
       "\t<tr><td>Uruguay    </td><td>0.01204819 </td></tr>\n",
       "</tbody>\n",
       "</table>\n"
      ],
      "text/latex": [
       "\\begin{tabular}{r|ll}\n",
       " country & conversion\\\\\n",
       "\\hline\n",
       "\t Spain       & 0.07971882 \\\\\n",
       "\t NA          & 0.07755102 \\\\\n",
       "\t El Salvador & 0.05355404 \\\\\n",
       "\t Nicaragua   & 0.05264697 \\\\\n",
       "\t Costa Rica  & 0.05225564 \\\\\n",
       "\t Colombia    & 0.05208949 \\\\\n",
       "\t Honduras    & 0.05090576 \\\\\n",
       "\t Guatemala   & 0.05064288 \\\\\n",
       "\t Venezuela   & 0.05034367 \\\\\n",
       "\t Peru        & 0.04991404 \\\\\n",
       "\t Mexico      & 0.04949462 \\\\\n",
       "\t Bolivia     & 0.04936937 \\\\\n",
       "\t Ecuador     & 0.04915381 \\\\\n",
       "\t Paraguay    & 0.04849315 \\\\\n",
       "\t Chile       & 0.04810718 \\\\\n",
       "\t Panama      & 0.04679552 \\\\\n",
       "\t Argentina   & 0.01507054 \\\\\n",
       "\t Uruguay     & 0.01204819 \\\\\n",
       "\\end{tabular}\n"
      ],
      "text/markdown": [
       "\n",
       "country | conversion | \n",
       "|---|---|---|---|---|---|---|---|---|---|---|---|---|---|---|---|---|---|\n",
       "| Spain       | 0.07971882  | \n",
       "| NA          | 0.07755102  | \n",
       "| El Salvador | 0.05355404  | \n",
       "| Nicaragua   | 0.05264697  | \n",
       "| Costa Rica  | 0.05225564  | \n",
       "| Colombia    | 0.05208949  | \n",
       "| Honduras    | 0.05090576  | \n",
       "| Guatemala   | 0.05064288  | \n",
       "| Venezuela   | 0.05034367  | \n",
       "| Peru        | 0.04991404  | \n",
       "| Mexico      | 0.04949462  | \n",
       "| Bolivia     | 0.04936937  | \n",
       "| Ecuador     | 0.04915381  | \n",
       "| Paraguay    | 0.04849315  | \n",
       "| Chile       | 0.04810718  | \n",
       "| Panama      | 0.04679552  | \n",
       "| Argentina   | 0.01507054  | \n",
       "| Uruguay     | 0.01204819  | \n",
       "\n",
       "\n"
      ],
      "text/plain": [
       "   country     conversion\n",
       "1  Spain       0.07971882\n",
       "2  NA          0.07755102\n",
       "3  El Salvador 0.05355404\n",
       "4  Nicaragua   0.05264697\n",
       "5  Costa Rica  0.05225564\n",
       "6  Colombia    0.05208949\n",
       "7  Honduras    0.05090576\n",
       "8  Guatemala   0.05064288\n",
       "9  Venezuela   0.05034367\n",
       "10 Peru        0.04991404\n",
       "11 Mexico      0.04949462\n",
       "12 Bolivia     0.04936937\n",
       "13 Ecuador     0.04915381\n",
       "14 Paraguay    0.04849315\n",
       "15 Chile       0.04810718\n",
       "16 Panama      0.04679552\n",
       "17 Argentina   0.01507054\n",
       "18 Uruguay     0.01204819"
      ]
     },
     "metadata": {},
     "output_type": "display_data"
    }
   ],
   "source": [
    "data_conversion_country = data %>%\n",
    "group_by (country) %>%\n",
    "summarise(conversion = mean(conversion[test == 0])) %>%\n",
    "arrange(desc(conversion))\n",
    "data_conversion_country"
   ]
  },
  {
   "cell_type": "code",
   "execution_count": 115,
   "metadata": {
    "collapsed": false
   },
   "outputs": [
    {
     "data": {
      "text/plain": [
       "\n",
       "\tWelch Two Sample t-test\n",
       "\n",
       "data:  test_sp$conversion[test_sp$test == 1] and test_sp$conversion[test_sp$test == 0]\n",
       "t = -7.3539, df = 385260, p-value = 1.929e-13\n",
       "alternative hypothesis: true difference in means is not equal to 0\n",
       "95 percent confidence interval:\n",
       " -0.006181421 -0.003579837\n",
       "sample estimates:\n",
       " mean of x  mean of y \n",
       "0.04341116 0.04829179 \n"
      ]
     },
     "metadata": {},
     "output_type": "display_data"
    }
   ],
   "source": [
    "t.test(test_sp$conversion[test_sp$test==1], test_sp$conversion[test_sp$test == 0])"
   ]
  },
  {
   "cell_type": "code",
   "execution_count": 116,
   "metadata": {
    "collapsed": false
   },
   "outputs": [
    {
     "data": {
      "text/html": [
       "<table>\n",
       "<thead><tr><th scope=col>date</th><th scope=col>test_vs_control</th></tr></thead>\n",
       "<tbody>\n",
       "\t<tr><td>2015-11-30</td><td>0.8569179 </td></tr>\n",
       "\t<tr><td>2015-12-01</td><td>0.8945240 </td></tr>\n",
       "\t<tr><td>2015-12-02</td><td>0.9121953 </td></tr>\n",
       "\t<tr><td>2015-12-03</td><td>0.8912351 </td></tr>\n",
       "\t<tr><td>2015-12-04</td><td>0.9229847 </td></tr>\n",
       "</tbody>\n",
       "</table>\n"
      ],
      "text/latex": [
       "\\begin{tabular}{r|ll}\n",
       " date & test\\_vs\\_control\\\\\n",
       "\\hline\n",
       "\t 2015-11-30 & 0.8569179 \\\\\n",
       "\t 2015-12-01 & 0.8945240 \\\\\n",
       "\t 2015-12-02 & 0.9121953 \\\\\n",
       "\t 2015-12-03 & 0.8912351 \\\\\n",
       "\t 2015-12-04 & 0.9229847 \\\\\n",
       "\\end{tabular}\n"
      ],
      "text/markdown": [
       "\n",
       "date | test_vs_control | \n",
       "|---|---|---|---|---|\n",
       "| 2015-11-30 | 0.8569179  | \n",
       "| 2015-12-01 | 0.8945240  | \n",
       "| 2015-12-02 | 0.9121953  | \n",
       "| 2015-12-03 | 0.8912351  | \n",
       "| 2015-12-04 | 0.9229847  | \n",
       "\n",
       "\n"
      ],
      "text/plain": [
       "  date       test_vs_control\n",
       "1 2015-11-30 0.8569179      \n",
       "2 2015-12-01 0.8945240      \n",
       "3 2015-12-02 0.9121953      \n",
       "4 2015-12-03 0.8912351      \n",
       "5 2015-12-04 0.9229847      "
      ]
     },
     "metadata": {},
     "output_type": "display_data"
    }
   ],
   "source": [
    "data_test_by_day <- test_sp %>%\n",
    "group_by(date) %>%\n",
    "summarize(test_vs_control = mean(conversion[test==1])/mean(conversion[test==0]))\n",
    "data_test_by_day"
   ]
  },
  {
   "cell_type": "code",
   "execution_count": 117,
   "metadata": {
    "collapsed": false,
    "scrolled": true
   },
   "outputs": [
    {
     "data": {},
     "metadata": {},
     "output_type": "display_data"
    },
    {
     "data": {
      "image/png": "[encoded data removed]",
      "text/plain": [
       "plot without title"
      ]
     },
     "metadata": {},
     "output_type": "display_data"
    }
   ],
   "source": [
    "qplot(date,test_vs_control,group=1,data= data_test_by_day, geom=\"line\")"
   ]
  },
  {
   "cell_type": "code",
   "execution_count": 119,
   "metadata": {
    "collapsed": false
   },
   "outputs": [
    {
     "data": {
      "text/html": [
       "<ol class=list-inline>\n",
       "\t<li>401085</li>\n",
       "\t<li>12</li>\n",
       "</ol>\n"
      ],
      "text/latex": [
       "\\begin{enumerate*}\n",
       "\\item 401085\n",
       "\\item 12\n",
       "\\end{enumerate*}\n"
      ],
      "text/markdown": [
       "1. 401085\n",
       "2. 12\n",
       "\n",
       "\n"
      ],
      "text/plain": [
       "[1] 401085     12"
      ]
     },
     "metadata": {},
     "output_type": "display_data"
    }
   ],
   "source": [
    "dim(test_sp)"
   ]
  },
  {
   "cell_type": "code",
   "execution_count": 120,
   "metadata": {
    "collapsed": false
   },
   "outputs": [
    {
     "data": {
      "text/html": [
       "<table>\n",
       "<thead><tr><th scope=col>user_id</th><th scope=col>date</th><th scope=col>source</th><th scope=col>device</th><th scope=col>browser_language</th><th scope=col>ads_channel</th><th scope=col>browser</th><th scope=col>conversion</th><th scope=col>test</th><th scope=col>sex</th><th scope=col>age</th><th scope=col>country</th></tr></thead>\n",
       "<tbody>\n",
       "\t<tr><td>1          </td><td>2015-12-02 </td><td>SEO        </td><td>Web        </td><td>EN         </td><td>NA         </td><td>Chrome     </td><td>0          </td><td>0          </td><td>M          </td><td>38         </td><td>Chile      </td></tr>\n",
       "\t<tr><td>2          </td><td>2015-11-30 </td><td>SEO        </td><td>Mobile     </td><td>ES         </td><td>NA         </td><td>Android_App</td><td>0          </td><td>0          </td><td>M          </td><td>27         </td><td>Colombia   </td></tr>\n",
       "\t<tr><td>3          </td><td>2015-12-03 </td><td>SEO        </td><td>Mobile     </td><td>ES         </td><td>NA         </td><td>Iphone_App </td><td>0          </td><td>1          </td><td>M          </td><td>18         </td><td>Guatemala  </td></tr>\n",
       "\t<tr><td>5          </td><td>2015-11-30 </td><td>Ads        </td><td>Web        </td><td>ES         </td><td>Facebook   </td><td>Chrome     </td><td>0          </td><td>1          </td><td>M          </td><td>22         </td><td>Argentina  </td></tr>\n",
       "\t<tr><td>8          </td><td>2015-12-03 </td><td>Ads        </td><td>Mobile     </td><td>ES         </td><td>Google     </td><td>Android_App</td><td>0          </td><td>1          </td><td>M          </td><td>19         </td><td>Venezuela  </td></tr>\n",
       "\t<tr><td>11         </td><td>2015-12-03 </td><td>Ads        </td><td>Web        </td><td>ES         </td><td>Yahoo      </td><td>Chrome     </td><td>0          </td><td>1          </td><td>F          </td><td>28         </td><td>Colombia   </td></tr>\n",
       "</tbody>\n",
       "</table>\n"
      ],
      "text/latex": [
       "\\begin{tabular}{r|llllllllllll}\n",
       " user\\_id & date & source & device & browser\\_language & ads\\_channel & browser & conversion & test & sex & age & country\\\\\n",
       "\\hline\n",
       "\t 1           & 2015-12-02  & SEO         & Web         & EN          & NA          & Chrome      & 0           & 0           & M           & 38          & Chile      \\\\\n",
       "\t 2             & 2015-11-30    & SEO           & Mobile        & ES            & NA            & Android\\_App & 0             & 0             & M             & 27            & Colombia     \\\\\n",
       "\t 3             & 2015-12-03    & SEO           & Mobile        & ES            & NA            & Iphone\\_App  & 0             & 1             & M             & 18            & Guatemala    \\\\\n",
       "\t 5           & 2015-11-30  & Ads         & Web         & ES          & Facebook    & Chrome      & 0           & 1           & M           & 22          & Argentina  \\\\\n",
       "\t 8             & 2015-12-03    & Ads           & Mobile        & ES            & Google        & Android\\_App & 0             & 1             & M             & 19            & Venezuela    \\\\\n",
       "\t 11          & 2015-12-03  & Ads         & Web         & ES          & Yahoo       & Chrome      & 0           & 1           & F           & 28          & Colombia   \\\\\n",
       "\\end{tabular}\n"
      ],
      "text/markdown": [
       "\n",
       "user_id | date | source | device | browser_language | ads_channel | browser | conversion | test | sex | age | country | \n",
       "|---|---|---|---|---|---|\n",
       "| 1           | 2015-12-02  | SEO         | Web         | EN          | NA          | Chrome      | 0           | 0           | M           | 38          | Chile       | \n",
       "| 2           | 2015-11-30  | SEO         | Mobile      | ES          | NA          | Android_App | 0           | 0           | M           | 27          | Colombia    | \n",
       "| 3           | 2015-12-03  | SEO         | Mobile      | ES          | NA          | Iphone_App  | 0           | 1           | M           | 18          | Guatemala   | \n",
       "| 5           | 2015-11-30  | Ads         | Web         | ES          | Facebook    | Chrome      | 0           | 1           | M           | 22          | Argentina   | \n",
       "| 8           | 2015-12-03  | Ads         | Mobile      | ES          | Google      | Android_App | 0           | 1           | M           | 19          | Venezuela   | \n",
       "| 11          | 2015-12-03  | Ads         | Web         | ES          | Yahoo       | Chrome      | 0           | 1           | F           | 28          | Colombia    | \n",
       "\n",
       "\n"
      ],
      "text/plain": [
       "  user_id date       source device browser_language ads_channel browser    \n",
       "1 1       2015-12-02 SEO    Web    EN               NA          Chrome     \n",
       "2 2       2015-11-30 SEO    Mobile ES               NA          Android_App\n",
       "3 3       2015-12-03 SEO    Mobile ES               NA          Iphone_App \n",
       "4 5       2015-11-30 Ads    Web    ES               Facebook    Chrome     \n",
       "5 8       2015-12-03 Ads    Mobile ES               Google      Android_App\n",
       "6 11      2015-12-03 Ads    Web    ES               Yahoo       Chrome     \n",
       "  conversion test sex age country  \n",
       "1 0          0    M   38  Chile    \n",
       "2 0          0    M   27  Colombia \n",
       "3 0          1    M   18  Guatemala\n",
       "4 0          1    M   22  Argentina\n",
       "5 0          1    M   19  Venezuela\n",
       "6 0          1    F   28  Colombia "
      ]
     },
     "metadata": {},
     "output_type": "display_data"
    }
   ],
   "source": [
    "head(test_sp)"
   ]
  },
  {
   "cell_type": "markdown",
   "metadata": {},
   "source": [
    "#### CART Tree"
   ]
  },
  {
   "cell_type": "markdown",
   "metadata": {},
   "source": [
    "A decision tree is a classifier that partitions data recursively into to form groups or classes. This is a supervised learning algorithm which can be used in discrete or continuous data for classification or regression. The Algorithm used in the decision trees are ID3 , C4.5, CART, C5.0, CHAID, QUEST, CRUISE, etc. The decision tree consists of nodes that form a rooted tree, meaning it is a directed tree with a node called “root” that has no incoming edges. All other nodes have exactly one incoming edge. A node with outgoing edges is called an internal or test node. All other nodes are called leaves\n",
    "\n",
    "The splitting of nodes is decided by algorithms like information gain, chi square, gini index.\n",
    "\n",
    "ID3, or Iternative Dichotomizer, was the first of three Decision Tree implementations developed by Ross Quinlan\n",
    "\n",
    "It builds a decision tree for the given data in a top-down fashion, starting from a set of objects and a specification of properties Resources and Information. each node of the tree, one property is tested based on maximizing information gain and minimizing entropy, and the results are used to split the object set. This process is recursively done until the set in a given sub-tree is homogeneous (i.e. it contains objects belonging to the same category). The ID3 algorithm uses a greedy search. It selects a test using the information gain criterion, and then never explores the possibility of alternate choices.\n",
    "\n",
    "Disadvantages\n",
    "\n",
    "Data may be over-fitted or over-classified, if a small sample is tested.\n",
    "Only one attribute at a time is tested for making a decision.\n",
    "Does not handle numeric attributes and missing values.\n",
    "\n",
    "CART\n",
    "\n",
    "CART stands for Classification and Regression Trees. It is characterized by the fact that it constructs binary trees, namely each internal node has exactly two outgoing edges. The splits are selected using the twoing criteria and the obtained tree is pruned by cost–complexity Pruning. CART can handle both numeric and categorical variables and it can easily handle outliers.\n",
    "Disadvantages\n",
    "\n",
    "It can split on only one variable\n",
    "Trees formed may be unstable\n",
    "\n",
    "C4.5\n",
    "\n",
    "Improved version on ID 3 by Quinlan's. The new features (versus ID3) are: (i) accepts both continuous and discrete features; (ii) handles incomplete data points; (iii) solves over-fitting problem by (very clever) bottom-up technique usually known as \"pruning\"; and (iv) different weights can be applied the features that comprise the training data.\n",
    "\n",
    "Disadvantages\n",
    "\n",
    "C4.5 constructs empty branches with zero values\n",
    "Over fitting happens when algorithm model picks up data with uncommon characteristics , especially when data is noisy.\n",
    "The next evolution of this is C5.0."
   ]
  },
  {
   "cell_type": "code",
   "execution_count": null,
   "metadata": {
    "collapsed": true
   },
   "outputs": [],
   "source": [
    "tree <- rpart(test ~ ., test_sp[,-8],control = rpart.control(minbucket = nrow(test_sp)/100,maxdepth=2))\n",
    "\n",
    "tree"
   ]
  },
  {
   "cell_type": "code",
   "execution_count": null,
   "metadata": {
    "collapsed": true
   },
   "outputs": [],
   "source": []
  }
 ],
 "metadata": {
  "kernelspec": {
   "display_name": "R",
   "language": "R",
   "name": "ir"
  },
  "language_info": {
   "codemirror_mode": "r",
   "file_extension": ".r",
   "mimetype": "text/x-r-source",
   "name": "R",
   "pygments_lexer": "r",
   "version": "3.3.2"
  }
 },
 "nbformat": 4,
 "nbformat_minor": 2
}
